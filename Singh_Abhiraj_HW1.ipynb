{
 "cells": [
  {
   "cell_type": "markdown",
   "metadata": {
    "colab_type": "text",
    "id": "CebOuYFgglzo"
   },
   "source": [
    "IST 707 DATA ANALYTICS - ABHIRAJ SINGH "
   ]
  },
  {
   "cell_type": "markdown",
   "metadata": {
    "colab_type": "text",
    "id": "u-ZijB_RSlIU"
   },
   "source": [
    "Application Link: https://abhiraj-da-app.herokuapp.com/"
   ]
  },
  {
   "cell_type": "code",
   "execution_count": null,
   "metadata": {
    "colab": {
     "base_uri": "https://localhost:8080/",
     "height": 35
    },
    "colab_type": "code",
    "id": "bZihvzfggjQ3",
    "outputId": "6405cf59-30e8-420b-e6ce-dd13fac0b830"
   },
   "outputs": [
    {
     "name": "stdout",
     "output_type": "stream",
     "text": [
      "Requirement already satisfied: apyori in /usr/local/lib/python3.6/dist-packages (1.1.2)\n"
     ]
    }
   ],
   "source": [
    "#Import relevant libraries\n",
    "\n",
    "import numpy as np\n",
    "import pandas as pd\n",
    "import matplotlib.pyplot as plt\n",
    "import seaborn as sns\n",
    "from mlxtend.frequent_patterns import apriori\n",
    "from mlxtend.preprocessing import TransactionEncoder\n",
    "\n",
    "!pip install apyori\n",
    "\n",
    "import apyori as ap\n",
    "from apyori import apriori #Apriori Algorithm\n",
    "import mlxtend as ml\n",
    "from mlxtend.frequent_patterns import apriori\n",
    "from mlxtend.frequent_patterns import association_rules\n",
    "from mlxtend.preprocessing import TransactionEncoder"
   ]
  },
  {
   "cell_type": "code",
   "execution_count": null,
   "metadata": {
    "colab": {
     "base_uri": "https://localhost:8080/",
     "height": 316
    },
    "colab_type": "code",
    "id": "j49lPrzd-c9l",
    "outputId": "b2fa8e23-25ad-4b48-e40e-8a3e49c80e52"
   },
   "outputs": [
    {
     "name": "stdout",
     "output_type": "stream",
     "text": [
      "(1176, 35)\n"
     ]
    },
    {
     "data": {
      "text/html": [
       "<div>\n",
       "<style scoped>\n",
       "    .dataframe tbody tr th:only-of-type {\n",
       "        vertical-align: middle;\n",
       "    }\n",
       "\n",
       "    .dataframe tbody tr th {\n",
       "        vertical-align: top;\n",
       "    }\n",
       "\n",
       "    .dataframe thead th {\n",
       "        text-align: right;\n",
       "    }\n",
       "</style>\n",
       "<table border=\"1\" class=\"dataframe\">\n",
       "  <thead>\n",
       "    <tr style=\"text-align: right;\">\n",
       "      <th></th>\n",
       "      <th>Age</th>\n",
       "      <th>Attrition</th>\n",
       "      <th>BusinessTravel</th>\n",
       "      <th>DailyRate</th>\n",
       "      <th>Department</th>\n",
       "      <th>DistanceFromHome</th>\n",
       "      <th>Education</th>\n",
       "      <th>EducationField</th>\n",
       "      <th>EmployeeCount</th>\n",
       "      <th>EmployeeNumber</th>\n",
       "      <th>EnvironmentSatisfaction</th>\n",
       "      <th>Gender</th>\n",
       "      <th>HourlyRate</th>\n",
       "      <th>JobInvolvement</th>\n",
       "      <th>JobLevel</th>\n",
       "      <th>JobRole</th>\n",
       "      <th>JobSatisfaction</th>\n",
       "      <th>MaritalStatus</th>\n",
       "      <th>MonthlyIncome</th>\n",
       "      <th>MonthlyRate</th>\n",
       "      <th>NumCompaniesWorked</th>\n",
       "      <th>Over18</th>\n",
       "      <th>OverTime</th>\n",
       "      <th>PercentSalaryHike</th>\n",
       "      <th>PerformanceRating</th>\n",
       "      <th>RelationshipSatisfaction</th>\n",
       "      <th>StandardHours</th>\n",
       "      <th>StockOptionLevel</th>\n",
       "      <th>TotalWorkingYears</th>\n",
       "      <th>TrainingTimesLastYear</th>\n",
       "      <th>WorkLifeBalance</th>\n",
       "      <th>YearsAtCompany</th>\n",
       "      <th>YearsInCurrentRole</th>\n",
       "      <th>YearsSinceLastPromotion</th>\n",
       "      <th>YearsWithCurrManager</th>\n",
       "    </tr>\n",
       "  </thead>\n",
       "  <tbody>\n",
       "    <tr>\n",
       "      <th>0</th>\n",
       "      <td>30</td>\n",
       "      <td>No</td>\n",
       "      <td>Travel_Rarely</td>\n",
       "      <td>1358</td>\n",
       "      <td>Sales</td>\n",
       "      <td>16.0</td>\n",
       "      <td>1</td>\n",
       "      <td>Life Sciences</td>\n",
       "      <td>1</td>\n",
       "      <td>1479</td>\n",
       "      <td>4</td>\n",
       "      <td>Male</td>\n",
       "      <td>96</td>\n",
       "      <td>3</td>\n",
       "      <td>2.0</td>\n",
       "      <td>Sales Executive</td>\n",
       "      <td>3</td>\n",
       "      <td>Married</td>\n",
       "      <td>5301</td>\n",
       "      <td>2939</td>\n",
       "      <td>8</td>\n",
       "      <td>Y</td>\n",
       "      <td>No</td>\n",
       "      <td>15.0</td>\n",
       "      <td>3.0</td>\n",
       "      <td>3.0</td>\n",
       "      <td>80</td>\n",
       "      <td>2</td>\n",
       "      <td>4.0</td>\n",
       "      <td>2</td>\n",
       "      <td>2</td>\n",
       "      <td>2</td>\n",
       "      <td>1</td>\n",
       "      <td>2.0</td>\n",
       "      <td>2</td>\n",
       "    </tr>\n",
       "    <tr>\n",
       "      <th>1</th>\n",
       "      <td>52</td>\n",
       "      <td>No</td>\n",
       "      <td>Travel_Rarely</td>\n",
       "      <td>1325</td>\n",
       "      <td>Research &amp; Development</td>\n",
       "      <td>11.0</td>\n",
       "      <td>4</td>\n",
       "      <td>Life Sciences</td>\n",
       "      <td>1</td>\n",
       "      <td>813</td>\n",
       "      <td>4</td>\n",
       "      <td>Female</td>\n",
       "      <td>82</td>\n",
       "      <td>3</td>\n",
       "      <td>2.0</td>\n",
       "      <td>Laboratory Technician</td>\n",
       "      <td>3</td>\n",
       "      <td>Married</td>\n",
       "      <td>3149</td>\n",
       "      <td>21821</td>\n",
       "      <td>8</td>\n",
       "      <td>Y</td>\n",
       "      <td>No</td>\n",
       "      <td>20.0</td>\n",
       "      <td>4.0</td>\n",
       "      <td>2.0</td>\n",
       "      <td>80</td>\n",
       "      <td>1</td>\n",
       "      <td>9.0</td>\n",
       "      <td>3</td>\n",
       "      <td>3</td>\n",
       "      <td>5</td>\n",
       "      <td>2</td>\n",
       "      <td>1.0</td>\n",
       "      <td>4</td>\n",
       "    </tr>\n",
       "    <tr>\n",
       "      <th>2</th>\n",
       "      <td>42</td>\n",
       "      <td>No</td>\n",
       "      <td>Travel_Rarely</td>\n",
       "      <td>462</td>\n",
       "      <td>Sales</td>\n",
       "      <td>14.0</td>\n",
       "      <td>2</td>\n",
       "      <td>Medical</td>\n",
       "      <td>1</td>\n",
       "      <td>936</td>\n",
       "      <td>3</td>\n",
       "      <td>Female</td>\n",
       "      <td>68</td>\n",
       "      <td>2</td>\n",
       "      <td>2.0</td>\n",
       "      <td>Sales Executive</td>\n",
       "      <td>3</td>\n",
       "      <td>Single</td>\n",
       "      <td>6244</td>\n",
       "      <td>7824</td>\n",
       "      <td>7</td>\n",
       "      <td>Y</td>\n",
       "      <td>No</td>\n",
       "      <td>17.0</td>\n",
       "      <td>3.0</td>\n",
       "      <td>1.0</td>\n",
       "      <td>80</td>\n",
       "      <td>0</td>\n",
       "      <td>10.0</td>\n",
       "      <td>6</td>\n",
       "      <td>3</td>\n",
       "      <td>5</td>\n",
       "      <td>4</td>\n",
       "      <td>0.0</td>\n",
       "      <td>3</td>\n",
       "    </tr>\n",
       "    <tr>\n",
       "      <th>3</th>\n",
       "      <td>55</td>\n",
       "      <td>No</td>\n",
       "      <td>Non-Travel</td>\n",
       "      <td>177</td>\n",
       "      <td>Research &amp; Development</td>\n",
       "      <td>8.0</td>\n",
       "      <td>1</td>\n",
       "      <td>Medical</td>\n",
       "      <td>1</td>\n",
       "      <td>1278</td>\n",
       "      <td>4</td>\n",
       "      <td>Male</td>\n",
       "      <td>37</td>\n",
       "      <td>2</td>\n",
       "      <td>4.0</td>\n",
       "      <td>Healthcare Representative</td>\n",
       "      <td>2</td>\n",
       "      <td>Divorced</td>\n",
       "      <td>13577</td>\n",
       "      <td>25592</td>\n",
       "      <td>1</td>\n",
       "      <td>Y</td>\n",
       "      <td>Yes</td>\n",
       "      <td>15.0</td>\n",
       "      <td>3.0</td>\n",
       "      <td>4.0</td>\n",
       "      <td>80</td>\n",
       "      <td>1</td>\n",
       "      <td>34.0</td>\n",
       "      <td>3</td>\n",
       "      <td>3</td>\n",
       "      <td>33</td>\n",
       "      <td>9</td>\n",
       "      <td>15.0</td>\n",
       "      <td>0</td>\n",
       "    </tr>\n",
       "    <tr>\n",
       "      <th>4</th>\n",
       "      <td>35</td>\n",
       "      <td>No</td>\n",
       "      <td>Travel_Rarely</td>\n",
       "      <td>1029</td>\n",
       "      <td>Research &amp; Development</td>\n",
       "      <td>16.0</td>\n",
       "      <td>3</td>\n",
       "      <td>Life Sciences</td>\n",
       "      <td>1</td>\n",
       "      <td>1529</td>\n",
       "      <td>4</td>\n",
       "      <td>Female</td>\n",
       "      <td>91</td>\n",
       "      <td>2</td>\n",
       "      <td>3.0</td>\n",
       "      <td>Healthcare Representative</td>\n",
       "      <td>2</td>\n",
       "      <td>Single</td>\n",
       "      <td>8606</td>\n",
       "      <td>21195</td>\n",
       "      <td>1</td>\n",
       "      <td>Y</td>\n",
       "      <td>No</td>\n",
       "      <td>19.0</td>\n",
       "      <td>3.0</td>\n",
       "      <td>4.0</td>\n",
       "      <td>80</td>\n",
       "      <td>0</td>\n",
       "      <td>11.0</td>\n",
       "      <td>3</td>\n",
       "      <td>1</td>\n",
       "      <td>11</td>\n",
       "      <td>8</td>\n",
       "      <td>3.0</td>\n",
       "      <td>3</td>\n",
       "    </tr>\n",
       "  </tbody>\n",
       "</table>\n",
       "</div>"
      ],
      "text/plain": [
       "   Age Attrition  ... YearsSinceLastPromotion  YearsWithCurrManager\n",
       "0   30        No  ...                     2.0                     2\n",
       "1   52        No  ...                     1.0                     4\n",
       "2   42        No  ...                     0.0                     3\n",
       "3   55        No  ...                    15.0                     0\n",
       "4   35        No  ...                     3.0                     3\n",
       "\n",
       "[5 rows x 35 columns]"
      ]
     },
     "execution_count": 73,
     "metadata": {
      "tags": []
     },
     "output_type": "execute_result"
    }
   ],
   "source": [
    "#Load the dataset\n",
    "\n",
    "df = pd.read_csv('files.csv')\n",
    "print(df.shape)\n",
    "df.head(5)"
   ]
  },
  {
   "cell_type": "code",
   "execution_count": null,
   "metadata": {
    "colab": {
     "base_uri": "https://localhost:8080/",
     "height": 810
    },
    "colab_type": "code",
    "id": "9UooqawZ-jct",
    "outputId": "c520fed4-62d3-4788-c618-a6366e2fe884"
   },
   "outputs": [
    {
     "data": {
      "text/html": [
       "<div>\n",
       "<style scoped>\n",
       "    .dataframe tbody tr th:only-of-type {\n",
       "        vertical-align: middle;\n",
       "    }\n",
       "\n",
       "    .dataframe tbody tr th {\n",
       "        vertical-align: top;\n",
       "    }\n",
       "\n",
       "    .dataframe thead th {\n",
       "        text-align: right;\n",
       "    }\n",
       "</style>\n",
       "<table border=\"1\" class=\"dataframe\">\n",
       "  <thead>\n",
       "    <tr style=\"text-align: right;\">\n",
       "      <th></th>\n",
       "      <th>count</th>\n",
       "      <th>mean</th>\n",
       "      <th>std</th>\n",
       "      <th>min</th>\n",
       "      <th>25%</th>\n",
       "      <th>50%</th>\n",
       "      <th>75%</th>\n",
       "      <th>max</th>\n",
       "    </tr>\n",
       "  </thead>\n",
       "  <tbody>\n",
       "    <tr>\n",
       "      <th>Age</th>\n",
       "      <td>1176.0</td>\n",
       "      <td>36.960034</td>\n",
       "      <td>9.071964</td>\n",
       "      <td>18.0</td>\n",
       "      <td>30.00</td>\n",
       "      <td>36.0</td>\n",
       "      <td>43.00</td>\n",
       "      <td>60.0</td>\n",
       "    </tr>\n",
       "    <tr>\n",
       "      <th>DailyRate</th>\n",
       "      <td>1176.0</td>\n",
       "      <td>800.386905</td>\n",
       "      <td>404.709216</td>\n",
       "      <td>102.0</td>\n",
       "      <td>461.75</td>\n",
       "      <td>796.0</td>\n",
       "      <td>1162.00</td>\n",
       "      <td>1499.0</td>\n",
       "    </tr>\n",
       "    <tr>\n",
       "      <th>DistanceFromHome</th>\n",
       "      <td>1174.0</td>\n",
       "      <td>9.495741</td>\n",
       "      <td>10.251379</td>\n",
       "      <td>1.0</td>\n",
       "      <td>2.00</td>\n",
       "      <td>7.0</td>\n",
       "      <td>14.00</td>\n",
       "      <td>224.0</td>\n",
       "    </tr>\n",
       "    <tr>\n",
       "      <th>Education</th>\n",
       "      <td>1176.0</td>\n",
       "      <td>2.895408</td>\n",
       "      <td>1.025685</td>\n",
       "      <td>1.0</td>\n",
       "      <td>2.00</td>\n",
       "      <td>3.0</td>\n",
       "      <td>4.00</td>\n",
       "      <td>5.0</td>\n",
       "    </tr>\n",
       "    <tr>\n",
       "      <th>EmployeeCount</th>\n",
       "      <td>1176.0</td>\n",
       "      <td>1.000000</td>\n",
       "      <td>0.000000</td>\n",
       "      <td>1.0</td>\n",
       "      <td>1.00</td>\n",
       "      <td>1.0</td>\n",
       "      <td>1.00</td>\n",
       "      <td>1.0</td>\n",
       "    </tr>\n",
       "    <tr>\n",
       "      <th>EmployeeNumber</th>\n",
       "      <td>1176.0</td>\n",
       "      <td>1036.430272</td>\n",
       "      <td>600.681874</td>\n",
       "      <td>1.0</td>\n",
       "      <td>499.75</td>\n",
       "      <td>1032.5</td>\n",
       "      <td>1574.50</td>\n",
       "      <td>2068.0</td>\n",
       "    </tr>\n",
       "    <tr>\n",
       "      <th>EnvironmentSatisfaction</th>\n",
       "      <td>1176.0</td>\n",
       "      <td>2.704932</td>\n",
       "      <td>1.094128</td>\n",
       "      <td>1.0</td>\n",
       "      <td>2.00</td>\n",
       "      <td>3.0</td>\n",
       "      <td>4.00</td>\n",
       "      <td>4.0</td>\n",
       "    </tr>\n",
       "    <tr>\n",
       "      <th>HourlyRate</th>\n",
       "      <td>1176.0</td>\n",
       "      <td>65.822279</td>\n",
       "      <td>20.292035</td>\n",
       "      <td>30.0</td>\n",
       "      <td>48.00</td>\n",
       "      <td>66.0</td>\n",
       "      <td>83.00</td>\n",
       "      <td>100.0</td>\n",
       "    </tr>\n",
       "    <tr>\n",
       "      <th>JobInvolvement</th>\n",
       "      <td>1176.0</td>\n",
       "      <td>2.740646</td>\n",
       "      <td>0.719277</td>\n",
       "      <td>1.0</td>\n",
       "      <td>2.00</td>\n",
       "      <td>3.0</td>\n",
       "      <td>3.00</td>\n",
       "      <td>4.0</td>\n",
       "    </tr>\n",
       "    <tr>\n",
       "      <th>JobLevel</th>\n",
       "      <td>1175.0</td>\n",
       "      <td>2.068936</td>\n",
       "      <td>1.109590</td>\n",
       "      <td>1.0</td>\n",
       "      <td>1.00</td>\n",
       "      <td>2.0</td>\n",
       "      <td>3.00</td>\n",
       "      <td>5.0</td>\n",
       "    </tr>\n",
       "    <tr>\n",
       "      <th>JobSatisfaction</th>\n",
       "      <td>1176.0</td>\n",
       "      <td>2.710034</td>\n",
       "      <td>1.113217</td>\n",
       "      <td>1.0</td>\n",
       "      <td>2.00</td>\n",
       "      <td>3.0</td>\n",
       "      <td>4.00</td>\n",
       "      <td>4.0</td>\n",
       "    </tr>\n",
       "    <tr>\n",
       "      <th>MonthlyIncome</th>\n",
       "      <td>1176.0</td>\n",
       "      <td>6525.534014</td>\n",
       "      <td>4707.507472</td>\n",
       "      <td>1009.0</td>\n",
       "      <td>2954.50</td>\n",
       "      <td>4950.5</td>\n",
       "      <td>8354.50</td>\n",
       "      <td>19973.0</td>\n",
       "    </tr>\n",
       "    <tr>\n",
       "      <th>MonthlyRate</th>\n",
       "      <td>1176.0</td>\n",
       "      <td>14467.688776</td>\n",
       "      <td>7107.658362</td>\n",
       "      <td>2094.0</td>\n",
       "      <td>8275.00</td>\n",
       "      <td>14488.0</td>\n",
       "      <td>20627.25</td>\n",
       "      <td>26999.0</td>\n",
       "    </tr>\n",
       "    <tr>\n",
       "      <th>NumCompaniesWorked</th>\n",
       "      <td>1176.0</td>\n",
       "      <td>2.709184</td>\n",
       "      <td>2.476191</td>\n",
       "      <td>0.0</td>\n",
       "      <td>1.00</td>\n",
       "      <td>2.0</td>\n",
       "      <td>4.00</td>\n",
       "      <td>9.0</td>\n",
       "    </tr>\n",
       "    <tr>\n",
       "      <th>PercentSalaryHike</th>\n",
       "      <td>1175.0</td>\n",
       "      <td>15.295319</td>\n",
       "      <td>3.698902</td>\n",
       "      <td>11.0</td>\n",
       "      <td>12.00</td>\n",
       "      <td>14.0</td>\n",
       "      <td>18.00</td>\n",
       "      <td>25.0</td>\n",
       "    </tr>\n",
       "    <tr>\n",
       "      <th>PerformanceRating</th>\n",
       "      <td>1175.0</td>\n",
       "      <td>3.162553</td>\n",
       "      <td>0.369115</td>\n",
       "      <td>3.0</td>\n",
       "      <td>3.00</td>\n",
       "      <td>3.0</td>\n",
       "      <td>3.00</td>\n",
       "      <td>4.0</td>\n",
       "    </tr>\n",
       "    <tr>\n",
       "      <th>RelationshipSatisfaction</th>\n",
       "      <td>1175.0</td>\n",
       "      <td>2.718298</td>\n",
       "      <td>1.084095</td>\n",
       "      <td>1.0</td>\n",
       "      <td>2.00</td>\n",
       "      <td>3.0</td>\n",
       "      <td>4.00</td>\n",
       "      <td>4.0</td>\n",
       "    </tr>\n",
       "    <tr>\n",
       "      <th>StandardHours</th>\n",
       "      <td>1176.0</td>\n",
       "      <td>80.000000</td>\n",
       "      <td>0.000000</td>\n",
       "      <td>80.0</td>\n",
       "      <td>80.00</td>\n",
       "      <td>80.0</td>\n",
       "      <td>80.00</td>\n",
       "      <td>80.0</td>\n",
       "    </tr>\n",
       "    <tr>\n",
       "      <th>StockOptionLevel</th>\n",
       "      <td>1176.0</td>\n",
       "      <td>0.795918</td>\n",
       "      <td>0.847033</td>\n",
       "      <td>0.0</td>\n",
       "      <td>0.00</td>\n",
       "      <td>1.0</td>\n",
       "      <td>1.00</td>\n",
       "      <td>3.0</td>\n",
       "    </tr>\n",
       "    <tr>\n",
       "      <th>TotalWorkingYears</th>\n",
       "      <td>1174.0</td>\n",
       "      <td>11.402896</td>\n",
       "      <td>8.368864</td>\n",
       "      <td>0.0</td>\n",
       "      <td>6.00</td>\n",
       "      <td>10.0</td>\n",
       "      <td>15.00</td>\n",
       "      <td>114.0</td>\n",
       "    </tr>\n",
       "    <tr>\n",
       "      <th>TrainingTimesLastYear</th>\n",
       "      <td>1176.0</td>\n",
       "      <td>2.809524</td>\n",
       "      <td>1.307697</td>\n",
       "      <td>0.0</td>\n",
       "      <td>2.00</td>\n",
       "      <td>3.0</td>\n",
       "      <td>3.00</td>\n",
       "      <td>6.0</td>\n",
       "    </tr>\n",
       "    <tr>\n",
       "      <th>WorkLifeBalance</th>\n",
       "      <td>1176.0</td>\n",
       "      <td>2.747449</td>\n",
       "      <td>0.691586</td>\n",
       "      <td>1.0</td>\n",
       "      <td>2.00</td>\n",
       "      <td>3.0</td>\n",
       "      <td>3.00</td>\n",
       "      <td>4.0</td>\n",
       "    </tr>\n",
       "    <tr>\n",
       "      <th>YearsAtCompany</th>\n",
       "      <td>1176.0</td>\n",
       "      <td>6.918367</td>\n",
       "      <td>6.107140</td>\n",
       "      <td>0.0</td>\n",
       "      <td>3.00</td>\n",
       "      <td>5.0</td>\n",
       "      <td>9.00</td>\n",
       "      <td>40.0</td>\n",
       "    </tr>\n",
       "    <tr>\n",
       "      <th>YearsInCurrentRole</th>\n",
       "      <td>1176.0</td>\n",
       "      <td>4.151361</td>\n",
       "      <td>3.501618</td>\n",
       "      <td>0.0</td>\n",
       "      <td>2.00</td>\n",
       "      <td>3.0</td>\n",
       "      <td>7.00</td>\n",
       "      <td>18.0</td>\n",
       "    </tr>\n",
       "    <tr>\n",
       "      <th>YearsSinceLastPromotion</th>\n",
       "      <td>1175.0</td>\n",
       "      <td>2.125106</td>\n",
       "      <td>3.183567</td>\n",
       "      <td>0.0</td>\n",
       "      <td>0.00</td>\n",
       "      <td>1.0</td>\n",
       "      <td>2.00</td>\n",
       "      <td>15.0</td>\n",
       "    </tr>\n",
       "    <tr>\n",
       "      <th>YearsWithCurrManager</th>\n",
       "      <td>1176.0</td>\n",
       "      <td>4.242347</td>\n",
       "      <td>7.210390</td>\n",
       "      <td>0.0</td>\n",
       "      <td>2.00</td>\n",
       "      <td>3.0</td>\n",
       "      <td>7.00</td>\n",
       "      <td>219.0</td>\n",
       "    </tr>\n",
       "  </tbody>\n",
       "</table>\n",
       "</div>"
      ],
      "text/plain": [
       "                           count          mean  ...       75%      max\n",
       "Age                       1176.0     36.960034  ...     43.00     60.0\n",
       "DailyRate                 1176.0    800.386905  ...   1162.00   1499.0\n",
       "DistanceFromHome          1174.0      9.495741  ...     14.00    224.0\n",
       "Education                 1176.0      2.895408  ...      4.00      5.0\n",
       "EmployeeCount             1176.0      1.000000  ...      1.00      1.0\n",
       "EmployeeNumber            1176.0   1036.430272  ...   1574.50   2068.0\n",
       "EnvironmentSatisfaction   1176.0      2.704932  ...      4.00      4.0\n",
       "HourlyRate                1176.0     65.822279  ...     83.00    100.0\n",
       "JobInvolvement            1176.0      2.740646  ...      3.00      4.0\n",
       "JobLevel                  1175.0      2.068936  ...      3.00      5.0\n",
       "JobSatisfaction           1176.0      2.710034  ...      4.00      4.0\n",
       "MonthlyIncome             1176.0   6525.534014  ...   8354.50  19973.0\n",
       "MonthlyRate               1176.0  14467.688776  ...  20627.25  26999.0\n",
       "NumCompaniesWorked        1176.0      2.709184  ...      4.00      9.0\n",
       "PercentSalaryHike         1175.0     15.295319  ...     18.00     25.0\n",
       "PerformanceRating         1175.0      3.162553  ...      3.00      4.0\n",
       "RelationshipSatisfaction  1175.0      2.718298  ...      4.00      4.0\n",
       "StandardHours             1176.0     80.000000  ...     80.00     80.0\n",
       "StockOptionLevel          1176.0      0.795918  ...      1.00      3.0\n",
       "TotalWorkingYears         1174.0     11.402896  ...     15.00    114.0\n",
       "TrainingTimesLastYear     1176.0      2.809524  ...      3.00      6.0\n",
       "WorkLifeBalance           1176.0      2.747449  ...      3.00      4.0\n",
       "YearsAtCompany            1176.0      6.918367  ...      9.00     40.0\n",
       "YearsInCurrentRole        1176.0      4.151361  ...      7.00     18.0\n",
       "YearsSinceLastPromotion   1175.0      2.125106  ...      2.00     15.0\n",
       "YearsWithCurrManager      1176.0      4.242347  ...      7.00    219.0\n",
       "\n",
       "[26 rows x 8 columns]"
      ]
     },
     "execution_count": 74,
     "metadata": {
      "tags": []
     },
     "output_type": "execute_result"
    }
   ],
   "source": [
    "#Basic statistics of the features\n",
    "\n",
    "df.describe().transpose()"
   ]
  },
  {
   "cell_type": "markdown",
   "metadata": {
    "colab_type": "text",
    "id": "Kz6M5nl8SbFb"
   },
   "source": [
    "**DATA PREPROCESSING**"
   ]
  },
  {
   "cell_type": "markdown",
   "metadata": {
    "colab_type": "text",
    "id": "xxUxmwD2Sjdo"
   },
   "source": [
    "**Data Quality Issues:**\n",
    "\n",
    "\n",
    "1.   Data has few NAs\n",
    "2.   Some attribute have negligible or 0 variance\n",
    "3.   Some attributes are continous, So for assosiation rules we need to conver them to categorical \n",
    "\n",
    "\n",
    "\n",
    "\n",
    "We can remove the columns which show very less variance. We can see that the variance is low based on the maximum and minimum values of the attribute descreibed in the previous step. Columns with less variance are EmployeeCount, StandardHours. Also, remove the Over18 and EmployeeNumber as they are not very relevant to the problem statement."
   ]
  },
  {
   "cell_type": "code",
   "execution_count": null,
   "metadata": {
    "colab": {
     "base_uri": "https://localhost:8080/",
     "height": 35
    },
    "colab_type": "code",
    "id": "66UnugoIerkJ",
    "outputId": "cc42e493-666d-40a6-e735-42d3541dcefa"
   },
   "outputs": [
    {
     "data": {
      "text/plain": [
       "31"
      ]
     },
     "execution_count": 75,
     "metadata": {
      "tags": []
     },
     "output_type": "execute_result"
    }
   ],
   "source": [
    "#remove the columns with no variance i.e. max(col) = min(col)\n",
    "\n",
    "df = df.drop(['EmployeeCount', 'StandardHours','EmployeeNumber','Over18'], axis=1)\n",
    "len(df.columns)"
   ]
  },
  {
   "cell_type": "code",
   "execution_count": null,
   "metadata": {
    "colab": {
     "base_uri": "https://localhost:8080/",
     "height": 55
    },
    "colab_type": "code",
    "id": "DYuvaBs6bPCm",
    "outputId": "3a25d9d5-e40d-4d4b-c0d9-24b6035af235"
   },
   "outputs": [
    {
     "name": "stdout",
     "output_type": "stream",
     "text": [
      "[dtype('int64'), dtype('O'), dtype('O'), dtype('int64'), dtype('O'), dtype('float64'), dtype('int64'), dtype('O'), dtype('int64'), dtype('O'), dtype('int64'), dtype('int64'), dtype('float64'), dtype('O'), dtype('int64'), dtype('O'), dtype('int64'), dtype('int64'), dtype('int64'), dtype('O'), dtype('float64'), dtype('float64'), dtype('float64'), dtype('int64'), dtype('float64'), dtype('int64'), dtype('int64'), dtype('int64'), dtype('int64'), dtype('float64'), dtype('int64')]\n"
     ]
    }
   ],
   "source": [
    "#Check the type of the attributes \n",
    "\n",
    "dtyp = df.dtypes\n",
    "lst_dtype=list(dtyp)\n",
    "print(lst_dtype)"
   ]
  },
  {
   "cell_type": "markdown",
   "metadata": {
    "colab_type": "text",
    "id": "00G3mpjHTom5"
   },
   "source": [
    "Removal of NA values, for this specific dataset we can directly drop the NA values as we do not have many NA values."
   ]
  },
  {
   "cell_type": "code",
   "execution_count": null,
   "metadata": {
    "colab": {
     "base_uri": "https://localhost:8080/",
     "height": 1000
    },
    "colab_type": "code",
    "id": "oe3zIXpNzcol",
    "outputId": "5b1d350e-6e64-4cce-ac41-b322a7167b3a"
   },
   "outputs": [
    {
     "name": "stdout",
     "output_type": "stream",
     "text": [
      "Age                         0\n",
      "Attrition                   0\n",
      "BusinessTravel              0\n",
      "DailyRate                   0\n",
      "Department                  0\n",
      "DistanceFromHome            2\n",
      "Education                   0\n",
      "EducationField              0\n",
      "EnvironmentSatisfaction     0\n",
      "Gender                      1\n",
      "HourlyRate                  0\n",
      "JobInvolvement              0\n",
      "JobLevel                    1\n",
      "JobRole                     0\n",
      "JobSatisfaction             0\n",
      "MaritalStatus               0\n",
      "MonthlyIncome               0\n",
      "MonthlyRate                 0\n",
      "NumCompaniesWorked          0\n",
      "OverTime                    1\n",
      "PercentSalaryHike           1\n",
      "PerformanceRating           1\n",
      "RelationshipSatisfaction    1\n",
      "StockOptionLevel            0\n",
      "TotalWorkingYears           2\n",
      "TrainingTimesLastYear       0\n",
      "WorkLifeBalance             0\n",
      "YearsAtCompany              0\n",
      "YearsInCurrentRole          0\n",
      "YearsSinceLastPromotion     1\n",
      "YearsWithCurrManager        0\n",
      "dtype: int64\n",
      "**************************\n",
      "After removal of NA Values\n",
      "**************************\n"
     ]
    },
    {
     "data": {
      "text/plain": [
       "Age                         0\n",
       "Attrition                   0\n",
       "BusinessTravel              0\n",
       "DailyRate                   0\n",
       "Department                  0\n",
       "DistanceFromHome            0\n",
       "Education                   0\n",
       "EducationField              0\n",
       "EnvironmentSatisfaction     0\n",
       "Gender                      0\n",
       "HourlyRate                  0\n",
       "JobInvolvement              0\n",
       "JobLevel                    0\n",
       "JobRole                     0\n",
       "JobSatisfaction             0\n",
       "MaritalStatus               0\n",
       "MonthlyIncome               0\n",
       "MonthlyRate                 0\n",
       "NumCompaniesWorked          0\n",
       "OverTime                    0\n",
       "PercentSalaryHike           0\n",
       "PerformanceRating           0\n",
       "RelationshipSatisfaction    0\n",
       "StockOptionLevel            0\n",
       "TotalWorkingYears           0\n",
       "TrainingTimesLastYear       0\n",
       "WorkLifeBalance             0\n",
       "YearsAtCompany              0\n",
       "YearsInCurrentRole          0\n",
       "YearsSinceLastPromotion     0\n",
       "YearsWithCurrManager        0\n",
       "dtype: int64"
      ]
     },
     "execution_count": 77,
     "metadata": {
      "tags": []
     },
     "output_type": "execute_result"
    }
   ],
   "source": [
    "#Check for NA in the dataset\n",
    "\n",
    "lst = df.columns\n",
    "\n",
    "def na_check(x):\n",
    "  for i in lst:\n",
    "    return df.isnull().sum()\n",
    "obj = na_check(lst)\n",
    "print(obj)\n",
    "print('**************************')\n",
    "print('After removal of NA Values')\n",
    "print('**************************')\n",
    "\n",
    "#Removal of NA values from the columns\n",
    "#Gender (because we cannot assume gender)\n",
    "#we have very low NA values present so remove all\n",
    "\n",
    "df = df.dropna(how = 'any')\n",
    "df.isna().sum()"
   ]
  },
  {
   "cell_type": "markdown",
   "metadata": {
    "colab_type": "text",
    "id": "ZPYi9WPKT_wF"
   },
   "source": [
    "**DATA VISUALIZATION**"
   ]
  },
  {
   "cell_type": "code",
   "execution_count": null,
   "metadata": {
    "colab": {
     "base_uri": "https://localhost:8080/",
     "height": 1000
    },
    "colab_type": "code",
    "id": "egsoPDBCdV3t",
    "outputId": "6e37da99-b273-4918-9e58-8be6df51871d"
   },
   "outputs": [
    {
     "name": "stdout",
     "output_type": "stream",
     "text": [
      "['Age', 'DailyRate', 'Education', 'EnvironmentSatisfaction', 'HourlyRate', 'JobInvolvement', 'JobSatisfaction', 'MonthlyIncome', 'MonthlyRate', 'NumCompaniesWorked', 'StockOptionLevel', 'TrainingTimesLastYear', 'WorkLifeBalance', 'YearsAtCompany', 'YearsInCurrentRole', 'YearsWithCurrManager']\n",
      "The length of the list is: 16\n"
     ]
    },
    {
     "data": {
      "image/png": "[encoded data removed]",
      "text/plain": [
       "<Figure size 432x288 with 1 Axes>"
      ]
     },
     "metadata": {
      "needs_background": "light",
      "tags": []
     },
     "output_type": "display_data"
    },
    {
     "data": {
      "image/png": "[encoded data removed]",
      "text/plain": [
       "<Figure size 432x288 with 1 Axes>"
      ]
     },
     "metadata": {
      "needs_background": "light",
      "tags": []
     },
     "output_type": "display_data"
    },
    {
     "data": {
      "image/png": "[encoded data removed]",
      "text/plain": [
       "<Figure size 432x288 with 1 Axes>"
      ]
     },
     "metadata": {
      "needs_background": "light",
      "tags": []
     },
     "output_type": "display_data"
    },
    {
     "data": {
      "image/png": "[encoded data removed]",
      "text/plain": [
       "<Figure size 432x288 with 1 Axes>"
      ]
     },
     "metadata": {
      "needs_background": "light",
      "tags": []
     },
     "output_type": "display_data"
    },
    {
     "data": {
      "image/png": "[encoded data removed]",
      "text/plain": [
       "<Figure size 432x288 with 1 Axes>"
      ]
     },
     "metadata": {
      "needs_background": "light",
      "tags": []
     },
     "output_type": "display_data"
    },
    {
     "data": {
      "image/png": "[encoded data removed]",
      "text/plain": [
       "<Figure size 432x288 with 1 Axes>"
      ]
     },
     "metadata": {
      "needs_background": "light",
      "tags": []
     },
     "output_type": "display_data"
    },
    {
     "data": {
      "image/png": "[encoded data removed]",
      "text/plain": [
       "<Figure size 432x288 with 1 Axes>"
      ]
     },
     "metadata": {
      "needs_background": "light",
      "tags": []
     },
     "output_type": "display_data"
    },
    {
     "data": {
      "image/png": "[encoded data removed]",
      "text/plain": [
       "<Figure size 432x288 with 1 Axes>"
      ]
     },
     "metadata": {
      "needs_background": "light",
      "tags": []
     },
     "output_type": "display_data"
    },
    {
     "data": {
      "image/png": "[encoded data removed]",
      "text/plain": [
       "<Figure size 432x288 with 1 Axes>"
      ]
     },
     "metadata": {
      "needs_background": "light",
      "tags": []
     },
     "output_type": "display_data"
    },
    {
     "data": {
      "image/png": "[encoded data removed]",
      "text/plain": [
       "<Figure size 432x288 with 1 Axes>"
      ]
     },
     "metadata": {
      "needs_background": "light",
      "tags": []
     },
     "output_type": "display_data"
    },
    {
     "data": {
      "image/png": "[encoded data removed]",
      "text/plain": [
       "<Figure size 432x288 with 1 Axes>"
      ]
     },
     "metadata": {
      "needs_background": "light",
      "tags": []
     },
     "output_type": "display_data"
    },
    {
     "data": {
      "image/png": "[encoded data removed]",
      "text/plain": [
       "<Figure size 432x288 with 1 Axes>"
      ]
     },
     "metadata": {
      "needs_background": "light",
      "tags": []
     },
     "output_type": "display_data"
    },
    {
     "data": {
      "image/png": "[encoded data removed]",
      "text/plain": [
       "<Figure size 432x288 with 1 Axes>"
      ]
     },
     "metadata": {
      "needs_background": "light",
      "tags": []
     },
     "output_type": "display_data"
    },
    {
     "data": {
      "image/png": "[encoded data removed]",
      "text/plain": [
       "<Figure size 432x288 with 1 Axes>"
      ]
     },
     "metadata": {
      "needs_background": "light",
      "tags": []
     },
     "output_type": "display_data"
    },
    {
     "data": {
      "image/png": "[encoded data removed]",
      "text/plain": [
       "<Figure size 432x288 with 1 Axes>"
      ]
     },
     "metadata": {
      "needs_background": "light",
      "tags": []
     },
     "output_type": "display_data"
    },
    {
     "data": {
      "image/png": "[encoded data removed]",
      "text/plain": [
       "<Figure size 432x288 with 1 Axes>"
      ]
     },
     "metadata": {
      "needs_background": "light",
      "tags": []
     },
     "output_type": "display_data"
    }
   ],
   "source": [
    "#list of attributes which we can bin because they are continuos\n",
    "\n",
    "lst = df.columns\n",
    "lst_bin = [] \n",
    "def bin_list(x):\n",
    "  for i in lst:\n",
    "    if df[i].dtype == 'int64':\n",
    "      lst_bin.append(i)\n",
    "  return lst_bin\n",
    "\n",
    "obj3 = bin_list(lst)  \n",
    "print(lst_bin)\n",
    "print(\"The length of the list is:\",len(lst_bin))\n",
    "\n",
    "def plot_scatter(x):\n",
    "  for i in lst_bin:\n",
    "    ax = sns.boxplot(x=df[i], y=df['Attrition'], data=df)\n",
    "    plt.show()\n",
    "obj4 = plot_scatter(lst_bin)\n",
    "obj4"
   ]
  },
  {
   "cell_type": "markdown",
   "metadata": {
    "colab_type": "text",
    "id": "GMqVk4G1jKLM"
   },
   "source": [
    "Based on the above boxplots we can determine **Variance** present in the feature when compared to the target variable.\n",
    "The List of features which shows variance are:\n",
    "1)Age\n",
    "2)DailyRate\n",
    "3)EnvironmentSatisfaction\n",
    "4)JobSatisfaction\n",
    "5)MonthlyIncome\n",
    "6)MonthlyRate\n",
    "7)NumCompaniesWorked\n",
    "8)YearsAtCompany\n",
    "9)YearsInCurrentRole\n",
    "10)YearsWithCurrManager.\n",
    "Other variables do not show much of the variance.\n",
    "\n"
   ]
  },
  {
   "cell_type": "code",
   "execution_count": null,
   "metadata": {
    "colab": {
     "base_uri": "https://localhost:8080/",
     "height": 1000
    },
    "colab_type": "code",
    "id": "V62UPExr6j02",
    "outputId": "a58d526b-f346-45d2-b054-26acc252c920"
   },
   "outputs": [
    {
     "name": "stdout",
     "output_type": "stream",
     "text": [
      "['Attrition', 'BusinessTravel', 'Department', 'EducationField', 'Gender', 'JobRole', 'MaritalStatus', 'OverTime']\n",
      "8\n"
     ]
    },
    {
     "data": {
      "image/png": "[encoded data removed]",
      "text/plain": [
       "<Figure size 432x288 with 1 Axes>"
      ]
     },
     "metadata": {
      "needs_background": "light",
      "tags": []
     },
     "output_type": "display_data"
    },
    {
     "data": {
      "image/png": "[encoded data removed]",
      "text/plain": [
       "<Figure size 432x288 with 1 Axes>"
      ]
     },
     "metadata": {
      "needs_background": "light",
      "tags": []
     },
     "output_type": "display_data"
    },
    {
     "data": {
      "image/png": "[encoded data removed]",
      "text/plain": [
       "<Figure size 432x288 with 1 Axes>"
      ]
     },
     "metadata": {
      "needs_background": "light",
      "tags": []
     },
     "output_type": "display_data"
    },
    {
     "data": {
      "image/png": "[encoded data removed]",
      "text/plain": [
       "<Figure size 432x288 with 1 Axes>"
      ]
     },
     "metadata": {
      "needs_background": "light",
      "tags": []
     },
     "output_type": "display_data"
    },
    {
     "data": {
      "image/png": "[encoded data removed]",
      "text/plain": [
       "<Figure size 432x288 with 1 Axes>"
      ]
     },
     "metadata": {
      "needs_background": "light",
      "tags": []
     },
     "output_type": "display_data"
    },
    {
     "data": {
      "image/png": "[encoded data removed]",
      "text/plain": [
       "<Figure size 432x288 with 1 Axes>"
      ]
     },
     "metadata": {
      "needs_background": "light",
      "tags": []
     },
     "output_type": "display_data"
    },
    {
     "data": {
      "image/png": "[encoded data removed]",
      "text/plain": [
       "<Figure size 432x288 with 1 Axes>"
      ]
     },
     "metadata": {
      "needs_background": "light",
      "tags": []
     },
     "output_type": "display_data"
    },
    {
     "data": {
      "image/png": "[encoded data removed]",
      "text/plain": [
       "<Figure size 432x288 with 1 Axes>"
      ]
     },
     "metadata": {
      "needs_background": "light",
      "tags": []
     },
     "output_type": "display_data"
    }
   ],
   "source": [
    "#list of attributes which we need to bin\n",
    "lst = df.columns\n",
    "lst_bin = [] \n",
    "def bin_list(x):\n",
    "  for i in lst:\n",
    "    if df[i].dtype == 'object':\n",
    "      lst_bin.append(i)\n",
    "  return lst_bin\n",
    "\n",
    "obj3 = bin_list(lst)  \n",
    "print(lst_bin)\n",
    "print(len(lst_bin))\n",
    "\n",
    "def plot_scatter(x):\n",
    "  for i in lst_bin:\n",
    "    ax = sns.countplot(x=df[i], data=df)\n",
    "    plt.show()\n",
    "obj4 = plot_scatter(lst_bin)\n",
    "obj4"
   ]
  },
  {
   "cell_type": "markdown",
   "metadata": {
    "colab_type": "text",
    "id": "l-SU-GPJkFz9"
   },
   "source": [
    " Based on the above figures we can analyze following key inferences:\n",
    "\n",
    "\n",
    "\n",
    "1.   Employee who do not good amount monthly leave the company.\n",
    "2.   Employee who work for less duration tend to leave the company sooner.\n",
    "3.   Gender has no affect on attrition. "
   ]
  },
  {
   "cell_type": "markdown",
   "metadata": {
    "colab_type": "text",
    "id": "byqwaJHVhdec"
   },
   "source": [
    "### Converting continuous varibles to categorical using binning into 3 or 2 bins"
   ]
  },
  {
   "cell_type": "code",
   "execution_count": null,
   "metadata": {
    "colab": {
     "base_uri": "https://localhost:8080/",
     "height": 35
    },
    "colab_type": "code",
    "id": "2uIFCSj9sdTy",
    "outputId": "1c4caf08-818c-4264-fced-8080230b06b1"
   },
   "outputs": [
    {
     "data": {
      "text/plain": [
       "31"
      ]
     },
     "execution_count": 80,
     "metadata": {
      "tags": []
     },
     "output_type": "execute_result"
    }
   ],
   "source": [
    "#Creating bins so that we can apply this to generate rules\n",
    "\n",
    "lst_q_3 = ['Age','DailyRate','DistanceFromHome','HourlyRate','MonthlyIncome','MonthlyRate',\n",
    "                      'NumCompaniesWorked','PercentSalaryHike',\n",
    "               'TotalWorkingYears','TrainingTimesLastYear']\n",
    "\n",
    "\n",
    "def create_bins(x):\n",
    "  for i in lst_q_3:\n",
    "    df[i+'_cut']=pd.qcut(df[i], q=3,labels=['Low','Med','High'])\n",
    "  return df\n",
    "\n",
    "obj5 = create_bins(df)\n",
    "obj5\n",
    "\n",
    "df = df.drop( ['Age','DailyRate','DistanceFromHome','HourlyRate','MonthlyIncome','MonthlyRate',\n",
    "                      'NumCompaniesWorked','PercentSalaryHike',\n",
    "               'TotalWorkingYears','TrainingTimesLastYear'], axis=1)\n",
    "len(df.columns)"
   ]
  },
  {
   "cell_type": "code",
   "execution_count": null,
   "metadata": {
    "colab": {
     "base_uri": "https://localhost:8080/",
     "height": 35
    },
    "colab_type": "code",
    "id": "8ozAad1_w0nX",
    "outputId": "ebf4e664-d0d4-4443-c34a-ad01e56c5c48"
   },
   "outputs": [
    {
     "data": {
      "text/plain": [
       "31"
      ]
     },
     "execution_count": 81,
     "metadata": {
      "tags": []
     },
     "output_type": "execute_result"
    }
   ],
   "source": [
    "#Creating bins so that we can apply this to generate rules\n",
    "\n",
    "lst_q_2 = ['YearsSinceLastPromotion','YearsInCurrentRole','YearsAtCompany','YearsWithCurrManager']\n",
    "\n",
    "def create_bins(x):\n",
    "  for i in lst_q_2:\n",
    "    df[i+'_cut']=pd.qcut(df[i], q=2,labels=['Low','High'])\n",
    "  return df\n",
    "\n",
    "obj5 = create_bins(df)\n",
    "obj5\n",
    "\n",
    "df = df.drop(['YearsSinceLastPromotion','YearsInCurrentRole','YearsAtCompany','YearsWithCurrManager'], axis=1)\n",
    "len(df.columns)"
   ]
  },
  {
   "cell_type": "code",
   "execution_count": null,
   "metadata": {
    "colab": {},
    "colab_type": "code",
    "id": "s4ViJAFzd_Q3"
   },
   "outputs": [],
   "source": [
    "#removal of the blank spaces \n",
    "\n",
    "df = df.astype('str')\n",
    "df[df.columns] = df.apply(lambda x: x.str.strip())    \n",
    "df = df.astype('object')\n",
    "df_clean = pd.DataFrame({col: str(col)+'=' for col in df}, index=df.index) + df.astype(str)"
   ]
  },
  {
   "cell_type": "code",
   "execution_count": null,
   "metadata": {
    "colab": {
     "base_uri": "https://localhost:8080/",
     "height": 588
    },
    "colab_type": "code",
    "id": "C1zTHNWVeckI",
    "outputId": "1f2a302c-aadd-4537-b032-3eed5aa7247f"
   },
   "outputs": [
    {
     "data": {
      "text/html": [
       "<div>\n",
       "<style scoped>\n",
       "    .dataframe tbody tr th:only-of-type {\n",
       "        vertical-align: middle;\n",
       "    }\n",
       "\n",
       "    .dataframe tbody tr th {\n",
       "        vertical-align: top;\n",
       "    }\n",
       "\n",
       "    .dataframe thead th {\n",
       "        text-align: right;\n",
       "    }\n",
       "</style>\n",
       "<table border=\"1\" class=\"dataframe\">\n",
       "  <thead>\n",
       "    <tr style=\"text-align: right;\">\n",
       "      <th></th>\n",
       "      <th>Attrition</th>\n",
       "      <th>BusinessTravel</th>\n",
       "      <th>Department</th>\n",
       "      <th>Education</th>\n",
       "      <th>EducationField</th>\n",
       "      <th>EnvironmentSatisfaction</th>\n",
       "      <th>Gender</th>\n",
       "      <th>JobInvolvement</th>\n",
       "      <th>JobLevel</th>\n",
       "      <th>JobRole</th>\n",
       "      <th>JobSatisfaction</th>\n",
       "      <th>MaritalStatus</th>\n",
       "      <th>OverTime</th>\n",
       "      <th>PerformanceRating</th>\n",
       "      <th>RelationshipSatisfaction</th>\n",
       "      <th>StockOptionLevel</th>\n",
       "      <th>WorkLifeBalance</th>\n",
       "      <th>Age_cut</th>\n",
       "      <th>DailyRate_cut</th>\n",
       "      <th>DistanceFromHome_cut</th>\n",
       "      <th>HourlyRate_cut</th>\n",
       "      <th>MonthlyIncome_cut</th>\n",
       "      <th>MonthlyRate_cut</th>\n",
       "      <th>NumCompaniesWorked_cut</th>\n",
       "      <th>PercentSalaryHike_cut</th>\n",
       "      <th>TotalWorkingYears_cut</th>\n",
       "      <th>TrainingTimesLastYear_cut</th>\n",
       "      <th>YearsSinceLastPromotion_cut</th>\n",
       "      <th>YearsInCurrentRole_cut</th>\n",
       "      <th>YearsAtCompany_cut</th>\n",
       "      <th>YearsWithCurrManager_cut</th>\n",
       "    </tr>\n",
       "  </thead>\n",
       "  <tbody>\n",
       "    <tr>\n",
       "      <th>0</th>\n",
       "      <td>Attrition=No</td>\n",
       "      <td>BusinessTravel=Travel_Rarely</td>\n",
       "      <td>Department=Sales</td>\n",
       "      <td>Education=1</td>\n",
       "      <td>EducationField=Life Sciences</td>\n",
       "      <td>EnvironmentSatisfaction=4</td>\n",
       "      <td>Gender=Male</td>\n",
       "      <td>JobInvolvement=3</td>\n",
       "      <td>JobLevel=2.0</td>\n",
       "      <td>JobRole=Sales Executive</td>\n",
       "      <td>JobSatisfaction=3</td>\n",
       "      <td>MaritalStatus=Married</td>\n",
       "      <td>OverTime=No</td>\n",
       "      <td>PerformanceRating=3.0</td>\n",
       "      <td>RelationshipSatisfaction=3.0</td>\n",
       "      <td>StockOptionLevel=2</td>\n",
       "      <td>WorkLifeBalance=2</td>\n",
       "      <td>Age_cut=Low</td>\n",
       "      <td>DailyRate_cut=High</td>\n",
       "      <td>DistanceFromHome_cut=High</td>\n",
       "      <td>HourlyRate_cut=High</td>\n",
       "      <td>MonthlyIncome_cut=Med</td>\n",
       "      <td>MonthlyRate_cut=Low</td>\n",
       "      <td>NumCompaniesWorked_cut=High</td>\n",
       "      <td>PercentSalaryHike_cut=Med</td>\n",
       "      <td>TotalWorkingYears_cut=Low</td>\n",
       "      <td>TrainingTimesLastYear_cut=Low</td>\n",
       "      <td>YearsSinceLastPromotion_cut=High</td>\n",
       "      <td>YearsInCurrentRole_cut=Low</td>\n",
       "      <td>YearsAtCompany_cut=Low</td>\n",
       "      <td>YearsWithCurrManager_cut=Low</td>\n",
       "    </tr>\n",
       "    <tr>\n",
       "      <th>1</th>\n",
       "      <td>Attrition=No</td>\n",
       "      <td>BusinessTravel=Travel_Rarely</td>\n",
       "      <td>Department=Research &amp; Development</td>\n",
       "      <td>Education=4</td>\n",
       "      <td>EducationField=Life Sciences</td>\n",
       "      <td>EnvironmentSatisfaction=4</td>\n",
       "      <td>Gender=Female</td>\n",
       "      <td>JobInvolvement=3</td>\n",
       "      <td>JobLevel=2.0</td>\n",
       "      <td>JobRole=Laboratory Technician</td>\n",
       "      <td>JobSatisfaction=3</td>\n",
       "      <td>MaritalStatus=Married</td>\n",
       "      <td>OverTime=No</td>\n",
       "      <td>PerformanceRating=4.0</td>\n",
       "      <td>RelationshipSatisfaction=2.0</td>\n",
       "      <td>StockOptionLevel=1</td>\n",
       "      <td>WorkLifeBalance=3</td>\n",
       "      <td>Age_cut=High</td>\n",
       "      <td>DailyRate_cut=High</td>\n",
       "      <td>DistanceFromHome_cut=High</td>\n",
       "      <td>HourlyRate_cut=High</td>\n",
       "      <td>MonthlyIncome_cut=Low</td>\n",
       "      <td>MonthlyRate_cut=High</td>\n",
       "      <td>NumCompaniesWorked_cut=High</td>\n",
       "      <td>PercentSalaryHike_cut=High</td>\n",
       "      <td>TotalWorkingYears_cut=Med</td>\n",
       "      <td>TrainingTimesLastYear_cut=Med</td>\n",
       "      <td>YearsSinceLastPromotion_cut=Low</td>\n",
       "      <td>YearsInCurrentRole_cut=Low</td>\n",
       "      <td>YearsAtCompany_cut=Low</td>\n",
       "      <td>YearsWithCurrManager_cut=High</td>\n",
       "    </tr>\n",
       "    <tr>\n",
       "      <th>2</th>\n",
       "      <td>Attrition=No</td>\n",
       "      <td>BusinessTravel=Travel_Rarely</td>\n",
       "      <td>Department=Sales</td>\n",
       "      <td>Education=2</td>\n",
       "      <td>EducationField=Medical</td>\n",
       "      <td>EnvironmentSatisfaction=3</td>\n",
       "      <td>Gender=Female</td>\n",
       "      <td>JobInvolvement=2</td>\n",
       "      <td>JobLevel=2.0</td>\n",
       "      <td>JobRole=Sales Executive</td>\n",
       "      <td>JobSatisfaction=3</td>\n",
       "      <td>MaritalStatus=Single</td>\n",
       "      <td>OverTime=No</td>\n",
       "      <td>PerformanceRating=3.0</td>\n",
       "      <td>RelationshipSatisfaction=1.0</td>\n",
       "      <td>StockOptionLevel=0</td>\n",
       "      <td>WorkLifeBalance=3</td>\n",
       "      <td>Age_cut=High</td>\n",
       "      <td>DailyRate_cut=Low</td>\n",
       "      <td>DistanceFromHome_cut=High</td>\n",
       "      <td>HourlyRate_cut=Med</td>\n",
       "      <td>MonthlyIncome_cut=Med</td>\n",
       "      <td>MonthlyRate_cut=Low</td>\n",
       "      <td>NumCompaniesWorked_cut=High</td>\n",
       "      <td>PercentSalaryHike_cut=Med</td>\n",
       "      <td>TotalWorkingYears_cut=Med</td>\n",
       "      <td>TrainingTimesLastYear_cut=High</td>\n",
       "      <td>YearsSinceLastPromotion_cut=Low</td>\n",
       "      <td>YearsInCurrentRole_cut=High</td>\n",
       "      <td>YearsAtCompany_cut=Low</td>\n",
       "      <td>YearsWithCurrManager_cut=Low</td>\n",
       "    </tr>\n",
       "    <tr>\n",
       "      <th>3</th>\n",
       "      <td>Attrition=No</td>\n",
       "      <td>BusinessTravel=Non-Travel</td>\n",
       "      <td>Department=Research &amp; Development</td>\n",
       "      <td>Education=1</td>\n",
       "      <td>EducationField=Medical</td>\n",
       "      <td>EnvironmentSatisfaction=4</td>\n",
       "      <td>Gender=Male</td>\n",
       "      <td>JobInvolvement=2</td>\n",
       "      <td>JobLevel=4.0</td>\n",
       "      <td>JobRole=Healthcare Representative</td>\n",
       "      <td>JobSatisfaction=2</td>\n",
       "      <td>MaritalStatus=Divorced</td>\n",
       "      <td>OverTime=Yes</td>\n",
       "      <td>PerformanceRating=3.0</td>\n",
       "      <td>RelationshipSatisfaction=4.0</td>\n",
       "      <td>StockOptionLevel=1</td>\n",
       "      <td>WorkLifeBalance=3</td>\n",
       "      <td>Age_cut=High</td>\n",
       "      <td>DailyRate_cut=Low</td>\n",
       "      <td>DistanceFromHome_cut=Med</td>\n",
       "      <td>HourlyRate_cut=Low</td>\n",
       "      <td>MonthlyIncome_cut=High</td>\n",
       "      <td>MonthlyRate_cut=High</td>\n",
       "      <td>NumCompaniesWorked_cut=Low</td>\n",
       "      <td>PercentSalaryHike_cut=Med</td>\n",
       "      <td>TotalWorkingYears_cut=High</td>\n",
       "      <td>TrainingTimesLastYear_cut=Med</td>\n",
       "      <td>YearsSinceLastPromotion_cut=High</td>\n",
       "      <td>YearsInCurrentRole_cut=High</td>\n",
       "      <td>YearsAtCompany_cut=High</td>\n",
       "      <td>YearsWithCurrManager_cut=Low</td>\n",
       "    </tr>\n",
       "    <tr>\n",
       "      <th>4</th>\n",
       "      <td>Attrition=No</td>\n",
       "      <td>BusinessTravel=Travel_Rarely</td>\n",
       "      <td>Department=Research &amp; Development</td>\n",
       "      <td>Education=3</td>\n",
       "      <td>EducationField=Life Sciences</td>\n",
       "      <td>EnvironmentSatisfaction=4</td>\n",
       "      <td>Gender=Female</td>\n",
       "      <td>JobInvolvement=2</td>\n",
       "      <td>JobLevel=3.0</td>\n",
       "      <td>JobRole=Healthcare Representative</td>\n",
       "      <td>JobSatisfaction=2</td>\n",
       "      <td>MaritalStatus=Single</td>\n",
       "      <td>OverTime=No</td>\n",
       "      <td>PerformanceRating=3.0</td>\n",
       "      <td>RelationshipSatisfaction=4.0</td>\n",
       "      <td>StockOptionLevel=0</td>\n",
       "      <td>WorkLifeBalance=1</td>\n",
       "      <td>Age_cut=Med</td>\n",
       "      <td>DailyRate_cut=Med</td>\n",
       "      <td>DistanceFromHome_cut=High</td>\n",
       "      <td>HourlyRate_cut=High</td>\n",
       "      <td>MonthlyIncome_cut=High</td>\n",
       "      <td>MonthlyRate_cut=High</td>\n",
       "      <td>NumCompaniesWorked_cut=Low</td>\n",
       "      <td>PercentSalaryHike_cut=High</td>\n",
       "      <td>TotalWorkingYears_cut=Med</td>\n",
       "      <td>TrainingTimesLastYear_cut=Med</td>\n",
       "      <td>YearsSinceLastPromotion_cut=High</td>\n",
       "      <td>YearsInCurrentRole_cut=High</td>\n",
       "      <td>YearsAtCompany_cut=High</td>\n",
       "      <td>YearsWithCurrManager_cut=Low</td>\n",
       "    </tr>\n",
       "    <tr>\n",
       "      <th>...</th>\n",
       "      <td>...</td>\n",
       "      <td>...</td>\n",
       "      <td>...</td>\n",
       "      <td>...</td>\n",
       "      <td>...</td>\n",
       "      <td>...</td>\n",
       "      <td>...</td>\n",
       "      <td>...</td>\n",
       "      <td>...</td>\n",
       "      <td>...</td>\n",
       "      <td>...</td>\n",
       "      <td>...</td>\n",
       "      <td>...</td>\n",
       "      <td>...</td>\n",
       "      <td>...</td>\n",
       "      <td>...</td>\n",
       "      <td>...</td>\n",
       "      <td>...</td>\n",
       "      <td>...</td>\n",
       "      <td>...</td>\n",
       "      <td>...</td>\n",
       "      <td>...</td>\n",
       "      <td>...</td>\n",
       "      <td>...</td>\n",
       "      <td>...</td>\n",
       "      <td>...</td>\n",
       "      <td>...</td>\n",
       "      <td>...</td>\n",
       "      <td>...</td>\n",
       "      <td>...</td>\n",
       "      <td>...</td>\n",
       "    </tr>\n",
       "    <tr>\n",
       "      <th>1171</th>\n",
       "      <td>Attrition=No</td>\n",
       "      <td>BusinessTravel=Travel_Rarely</td>\n",
       "      <td>Department=Human Resources</td>\n",
       "      <td>Education=2</td>\n",
       "      <td>EducationField=Medical</td>\n",
       "      <td>EnvironmentSatisfaction=2</td>\n",
       "      <td>Gender=Male</td>\n",
       "      <td>JobInvolvement=2</td>\n",
       "      <td>JobLevel=1.0</td>\n",
       "      <td>JobRole=Human Resources</td>\n",
       "      <td>JobSatisfaction=4</td>\n",
       "      <td>MaritalStatus=Divorced</td>\n",
       "      <td>OverTime=No</td>\n",
       "      <td>PerformanceRating=3.0</td>\n",
       "      <td>RelationshipSatisfaction=4.0</td>\n",
       "      <td>StockOptionLevel=1</td>\n",
       "      <td>WorkLifeBalance=3</td>\n",
       "      <td>Age_cut=Low</td>\n",
       "      <td>DailyRate_cut=High</td>\n",
       "      <td>DistanceFromHome_cut=Med</td>\n",
       "      <td>HourlyRate_cut=Med</td>\n",
       "      <td>MonthlyIncome_cut=Med</td>\n",
       "      <td>MonthlyRate_cut=High</td>\n",
       "      <td>NumCompaniesWorked_cut=Low</td>\n",
       "      <td>PercentSalaryHike_cut=Low</td>\n",
       "      <td>TotalWorkingYears_cut=Low</td>\n",
       "      <td>TrainingTimesLastYear_cut=High</td>\n",
       "      <td>YearsSinceLastPromotion_cut=Low</td>\n",
       "      <td>YearsInCurrentRole_cut=Low</td>\n",
       "      <td>YearsAtCompany_cut=Low</td>\n",
       "      <td>YearsWithCurrManager_cut=High</td>\n",
       "    </tr>\n",
       "    <tr>\n",
       "      <th>1172</th>\n",
       "      <td>Attrition=No</td>\n",
       "      <td>BusinessTravel=Travel_Rarely</td>\n",
       "      <td>Department=Research &amp; Development</td>\n",
       "      <td>Education=4</td>\n",
       "      <td>EducationField=Other</td>\n",
       "      <td>EnvironmentSatisfaction=4</td>\n",
       "      <td>Gender=Female</td>\n",
       "      <td>JobInvolvement=3</td>\n",
       "      <td>JobLevel=2.0</td>\n",
       "      <td>JobRole=Research Scientist</td>\n",
       "      <td>JobSatisfaction=2</td>\n",
       "      <td>MaritalStatus=Married</td>\n",
       "      <td>OverTime=Yes</td>\n",
       "      <td>PerformanceRating=4.0</td>\n",
       "      <td>RelationshipSatisfaction=4.0</td>\n",
       "      <td>StockOptionLevel=1</td>\n",
       "      <td>WorkLifeBalance=3</td>\n",
       "      <td>Age_cut=Med</td>\n",
       "      <td>DailyRate_cut=Low</td>\n",
       "      <td>DistanceFromHome_cut=Low</td>\n",
       "      <td>HourlyRate_cut=Med</td>\n",
       "      <td>MonthlyIncome_cut=High</td>\n",
       "      <td>MonthlyRate_cut=High</td>\n",
       "      <td>NumCompaniesWorked_cut=High</td>\n",
       "      <td>PercentSalaryHike_cut=High</td>\n",
       "      <td>TotalWorkingYears_cut=High</td>\n",
       "      <td>TrainingTimesLastYear_cut=Low</td>\n",
       "      <td>YearsSinceLastPromotion_cut=Low</td>\n",
       "      <td>YearsInCurrentRole_cut=Low</td>\n",
       "      <td>YearsAtCompany_cut=Low</td>\n",
       "      <td>YearsWithCurrManager_cut=Low</td>\n",
       "    </tr>\n",
       "    <tr>\n",
       "      <th>1173</th>\n",
       "      <td>Attrition=No</td>\n",
       "      <td>BusinessTravel=Travel_Rarely</td>\n",
       "      <td>Department=Research &amp; Development</td>\n",
       "      <td>Education=4</td>\n",
       "      <td>EducationField=Life Sciences</td>\n",
       "      <td>EnvironmentSatisfaction=4</td>\n",
       "      <td>Gender=Male</td>\n",
       "      <td>JobInvolvement=3</td>\n",
       "      <td>JobLevel=1.0</td>\n",
       "      <td>JobRole=Laboratory Technician</td>\n",
       "      <td>JobSatisfaction=4</td>\n",
       "      <td>MaritalStatus=Married</td>\n",
       "      <td>OverTime=No</td>\n",
       "      <td>PerformanceRating=4.0</td>\n",
       "      <td>RelationshipSatisfaction=2.0</td>\n",
       "      <td>StockOptionLevel=2</td>\n",
       "      <td>WorkLifeBalance=3</td>\n",
       "      <td>Age_cut=High</td>\n",
       "      <td>DailyRate_cut=Low</td>\n",
       "      <td>DistanceFromHome_cut=Med</td>\n",
       "      <td>HourlyRate_cut=High</td>\n",
       "      <td>MonthlyIncome_cut=Low</td>\n",
       "      <td>MonthlyRate_cut=Med</td>\n",
       "      <td>NumCompaniesWorked_cut=Med</td>\n",
       "      <td>PercentSalaryHike_cut=High</td>\n",
       "      <td>TotalWorkingYears_cut=Med</td>\n",
       "      <td>TrainingTimesLastYear_cut=High</td>\n",
       "      <td>YearsSinceLastPromotion_cut=Low</td>\n",
       "      <td>YearsInCurrentRole_cut=Low</td>\n",
       "      <td>YearsAtCompany_cut=Low</td>\n",
       "      <td>YearsWithCurrManager_cut=Low</td>\n",
       "    </tr>\n",
       "    <tr>\n",
       "      <th>1174</th>\n",
       "      <td>Attrition=No</td>\n",
       "      <td>BusinessTravel=Travel_Rarely</td>\n",
       "      <td>Department=Sales</td>\n",
       "      <td>Education=3</td>\n",
       "      <td>EducationField=Life Sciences</td>\n",
       "      <td>EnvironmentSatisfaction=2</td>\n",
       "      <td>Gender=Female</td>\n",
       "      <td>JobInvolvement=3</td>\n",
       "      <td>JobLevel=2.0</td>\n",
       "      <td>JobRole=Sales Executive</td>\n",
       "      <td>JobSatisfaction=2</td>\n",
       "      <td>MaritalStatus=Single</td>\n",
       "      <td>OverTime=No</td>\n",
       "      <td>PerformanceRating=3.0</td>\n",
       "      <td>RelationshipSatisfaction=2.0</td>\n",
       "      <td>StockOptionLevel=0</td>\n",
       "      <td>WorkLifeBalance=4</td>\n",
       "      <td>Age_cut=Med</td>\n",
       "      <td>DailyRate_cut=Low</td>\n",
       "      <td>DistanceFromHome_cut=High</td>\n",
       "      <td>HourlyRate_cut=High</td>\n",
       "      <td>MonthlyIncome_cut=Med</td>\n",
       "      <td>MonthlyRate_cut=Med</td>\n",
       "      <td>NumCompaniesWorked_cut=Med</td>\n",
       "      <td>PercentSalaryHike_cut=Low</td>\n",
       "      <td>TotalWorkingYears_cut=Med</td>\n",
       "      <td>TrainingTimesLastYear_cut=High</td>\n",
       "      <td>YearsSinceLastPromotion_cut=Low</td>\n",
       "      <td>YearsInCurrentRole_cut=Low</td>\n",
       "      <td>YearsAtCompany_cut=Low</td>\n",
       "      <td>YearsWithCurrManager_cut=Low</td>\n",
       "    </tr>\n",
       "    <tr>\n",
       "      <th>1175</th>\n",
       "      <td>Attrition=No</td>\n",
       "      <td>BusinessTravel=Travel_Rarely</td>\n",
       "      <td>Department=Research &amp; Development</td>\n",
       "      <td>Education=3</td>\n",
       "      <td>EducationField=Life Sciences</td>\n",
       "      <td>EnvironmentSatisfaction=4</td>\n",
       "      <td>Gender=Female</td>\n",
       "      <td>JobInvolvement=3</td>\n",
       "      <td>JobLevel=4.0</td>\n",
       "      <td>JobRole=Research Director</td>\n",
       "      <td>JobSatisfaction=1</td>\n",
       "      <td>MaritalStatus=Married</td>\n",
       "      <td>OverTime=Yes</td>\n",
       "      <td>PerformanceRating=3.0</td>\n",
       "      <td>RelationshipSatisfaction=2.0</td>\n",
       "      <td>StockOptionLevel=0</td>\n",
       "      <td>WorkLifeBalance=3</td>\n",
       "      <td>Age_cut=High</td>\n",
       "      <td>DailyRate_cut=High</td>\n",
       "      <td>DistanceFromHome_cut=High</td>\n",
       "      <td>HourlyRate_cut=Low</td>\n",
       "      <td>MonthlyIncome_cut=High</td>\n",
       "      <td>MonthlyRate_cut=High</td>\n",
       "      <td>NumCompaniesWorked_cut=High</td>\n",
       "      <td>PercentSalaryHike_cut=Low</td>\n",
       "      <td>TotalWorkingYears_cut=High</td>\n",
       "      <td>TrainingTimesLastYear_cut=Low</td>\n",
       "      <td>YearsSinceLastPromotion_cut=Low</td>\n",
       "      <td>YearsInCurrentRole_cut=Low</td>\n",
       "      <td>YearsAtCompany_cut=Low</td>\n",
       "      <td>YearsWithCurrManager_cut=Low</td>\n",
       "    </tr>\n",
       "  </tbody>\n",
       "</table>\n",
       "<p>1165 rows × 31 columns</p>\n",
       "</div>"
      ],
      "text/plain": [
       "         Attrition  ...       YearsWithCurrManager_cut\n",
       "0     Attrition=No  ...   YearsWithCurrManager_cut=Low\n",
       "1     Attrition=No  ...  YearsWithCurrManager_cut=High\n",
       "2     Attrition=No  ...   YearsWithCurrManager_cut=Low\n",
       "3     Attrition=No  ...   YearsWithCurrManager_cut=Low\n",
       "4     Attrition=No  ...   YearsWithCurrManager_cut=Low\n",
       "...            ...  ...                            ...\n",
       "1171  Attrition=No  ...  YearsWithCurrManager_cut=High\n",
       "1172  Attrition=No  ...   YearsWithCurrManager_cut=Low\n",
       "1173  Attrition=No  ...   YearsWithCurrManager_cut=Low\n",
       "1174  Attrition=No  ...   YearsWithCurrManager_cut=Low\n",
       "1175  Attrition=No  ...   YearsWithCurrManager_cut=Low\n",
       "\n",
       "[1165 rows x 31 columns]"
      ]
     },
     "execution_count": 83,
     "metadata": {
      "tags": []
     },
     "output_type": "execute_result"
    }
   ],
   "source": [
    "#Final data which will be used in generating association rules.\n",
    "\n",
    "df_clean"
   ]
  },
  {
   "cell_type": "code",
   "execution_count": null,
   "metadata": {
    "colab": {
     "base_uri": "https://localhost:8080/",
     "height": 465
    },
    "colab_type": "code",
    "id": "sZjIOBEIed9E",
    "outputId": "c05dccf6-abb1-4dce-aee4-897a196fdef3"
   },
   "outputs": [
    {
     "data": {
      "image/png": "[encoded data removed]",
      "text/plain": [
       "<Figure size 432x288 with 1 Axes>"
      ]
     },
     "metadata": {
      "needs_background": "light",
      "tags": []
     },
     "output_type": "display_data"
    }
   ],
   "source": [
    "#most occurring items \n",
    "\n",
    "melted_data = pd.melt(df_clean)\n",
    "melted_data.head()\n",
    "frequency = melted_data.groupby(by=['value'])['value'].count().sort_values(ascending=True)\n",
    "freq_itemset = pd.DataFrame({'item':frequency.index, 'frequency':frequency.values})\n",
    "g = sns.barplot(data=freq_itemset.tail(10), x='item', y='frequency')\n",
    "g.set_xticklabels(g.get_xticklabels(), rotation=90)\n",
    "plt.show()"
   ]
  },
  {
   "cell_type": "code",
   "execution_count": null,
   "metadata": {
    "colab": {
     "base_uri": "https://localhost:8080/",
     "height": 55
    },
    "colab_type": "code",
    "id": "czciqig_fOA2",
    "outputId": "dfab572d-9d63-45c9-b0c5-37aee1e5f47d"
   },
   "outputs": [
    {
     "data": {
      "text/plain": [
       "[RelationRecord(items=frozenset({'PerformanceRating=3.0'}), support=0.8369098712446352, ordered_statistics=[OrderedStatistic(items_base=frozenset(), items_add=frozenset({'PerformanceRating=3.0'}), confidence=0.8369098712446352, lift=1.0)])]"
      ]
     },
     "execution_count": 85,
     "metadata": {
      "tags": []
     },
     "output_type": "execute_result"
    }
   ],
   "source": [
    "records = []\n",
    "for i in range(0,len(df_clean)):\n",
    "    records.append([str(df_clean.values[i,j]) \n",
    "    for j in range(0, len(df_clean.columns))])\n",
    "frequent_itemset = ap.apriori(records, min_support=0.8, min_confidence=0.8,\n",
    "                              min_lift=1,min_length=2)\n",
    "results = list(frequent_itemset)\n",
    "len(results)\n",
    "results[1:5]"
   ]
  },
  {
   "cell_type": "code",
   "execution_count": null,
   "metadata": {
    "colab": {
     "base_uri": "https://localhost:8080/",
     "height": 266
    },
    "colab_type": "code",
    "id": "dVdMHHpN1OFO",
    "outputId": "012d5cee-9e0d-4d2f-8a5f-597d190e0be3"
   },
   "outputs": [
    {
     "name": "stdout",
     "output_type": "stream",
     "text": [
      "      Age_cut=High  ...  YearsWithCurrManager_cut=Low\n",
      "0            False  ...                          True\n",
      "1             True  ...                         False\n",
      "2             True  ...                          True\n",
      "3             True  ...                          True\n",
      "4            False  ...                          True\n",
      "...            ...  ...                           ...\n",
      "1160         False  ...                         False\n",
      "1161         False  ...                          True\n",
      "1162          True  ...                          True\n",
      "1163         False  ...                          True\n",
      "1164          True  ...                          True\n",
      "\n",
      "[1165 rows x 104 columns]\n"
     ]
    }
   ],
   "source": [
    "records = []\n",
    "for i in range(0,len(d1)):\n",
    "    records.append([str(d1.values[i,j]) \n",
    "    for j in range(1, len(d1.columns))])\n",
    "    \n",
    "te = TransactionEncoder()\n",
    "te_ary = te.fit(records).transform(records)\n",
    "df = pd.DataFrame(te_ary, columns=te.columns_)   \n",
    "print(df)"
   ]
  },
  {
   "cell_type": "code",
   "execution_count": null,
   "metadata": {
    "colab": {
     "base_uri": "https://localhost:8080/",
     "height": 17
    },
    "colab_type": "code",
    "id": "_Kdjt7Mk5f-S",
    "outputId": "a588e764-6c26-4073-87a1-9c86e9b1ecd6"
   },
   "outputs": [
    {
     "data": {
      "application/javascript": [
       "\n",
       "    async function download(id, filename, size) {\n",
       "      if (!google.colab.kernel.accessAllowed) {\n",
       "        return;\n",
       "      }\n",
       "      const div = document.createElement('div');\n",
       "      const label = document.createElement('label');\n",
       "      label.textContent = `Downloading \"${filename}\": `;\n",
       "      div.appendChild(label);\n",
       "      const progress = document.createElement('progress');\n",
       "      progress.max = size;\n",
       "      div.appendChild(progress);\n",
       "      document.body.appendChild(div);\n",
       "\n",
       "      const buffers = [];\n",
       "      let downloaded = 0;\n",
       "\n",
       "      const channel = await google.colab.kernel.comms.open(id);\n",
       "      // Send a message to notify the kernel that we're ready.\n",
       "      channel.send({})\n",
       "\n",
       "      for await (const message of channel.messages) {\n",
       "        // Send a message to notify the kernel that we're ready.\n",
       "        channel.send({})\n",
       "        if (message.buffers) {\n",
       "          for (const buffer of message.buffers) {\n",
       "            buffers.push(buffer);\n",
       "            downloaded += buffer.byteLength;\n",
       "            progress.value = downloaded;\n",
       "          }\n",
       "        }\n",
       "      }\n",
       "      const blob = new Blob(buffers, {type: 'application/binary'});\n",
       "      const a = document.createElement('a');\n",
       "      a.href = window.URL.createObjectURL(blob);\n",
       "      a.download = filename;\n",
       "      div.appendChild(a);\n",
       "      a.click();\n",
       "      div.remove();\n",
       "    }\n",
       "  "
      ],
      "text/plain": [
       "<IPython.core.display.Javascript object>"
      ]
     },
     "metadata": {
      "tags": []
     },
     "output_type": "display_data"
    },
    {
     "data": {
      "application/javascript": [
       "download(\"download_bd5ccbfb-119f-4795-a03d-7a99a13faf0d\", \"df.csv\", 697861)"
      ],
      "text/plain": [
       "<IPython.core.display.Javascript object>"
      ]
     },
     "metadata": {
      "tags": []
     },
     "output_type": "display_data"
    }
   ],
   "source": [
    "#import the dataframe to new CSV on google colab.\n",
    "\n",
    "# from google.colab import files\n",
    "# df.to_csv('df.csv') \n",
    "# files.download('df.csv')"
   ]
  },
  {
   "cell_type": "code",
   "execution_count": null,
   "metadata": {
    "colab": {},
    "colab_type": "code",
    "id": "1GzRtbaF39YR"
   },
   "outputs": [],
   "source": [
    "frequent_itemsets = apriori(df, min_support=0.4, use_colnames=True,max_len=4)"
   ]
  },
  {
   "cell_type": "code",
   "execution_count": null,
   "metadata": {
    "colab": {
     "base_uri": "https://localhost:8080/",
     "height": 399
    },
    "colab_type": "code",
    "id": "kin6tCYT4phe",
    "outputId": "5a8657df-ab21-4dba-e5dc-0f0696a83f0f"
   },
   "outputs": [
    {
     "data": {
      "text/html": [
       "<div>\n",
       "<style scoped>\n",
       "    .dataframe tbody tr th:only-of-type {\n",
       "        vertical-align: middle;\n",
       "    }\n",
       "\n",
       "    .dataframe tbody tr th {\n",
       "        vertical-align: top;\n",
       "    }\n",
       "\n",
       "    .dataframe thead th {\n",
       "        text-align: right;\n",
       "    }\n",
       "</style>\n",
       "<table border=\"1\" class=\"dataframe\">\n",
       "  <thead>\n",
       "    <tr style=\"text-align: right;\">\n",
       "      <th></th>\n",
       "      <th>support</th>\n",
       "      <th>itemsets</th>\n",
       "    </tr>\n",
       "  </thead>\n",
       "  <tbody>\n",
       "    <tr>\n",
       "      <th>0</th>\n",
       "      <td>0.842918</td>\n",
       "      <td>(Attrition=No)</td>\n",
       "    </tr>\n",
       "    <tr>\n",
       "      <th>1</th>\n",
       "      <td>0.714163</td>\n",
       "      <td>(BusinessTravel=Travel_Rarely)</td>\n",
       "    </tr>\n",
       "    <tr>\n",
       "      <th>2</th>\n",
       "      <td>0.648927</td>\n",
       "      <td>(Department=Research &amp; Development)</td>\n",
       "    </tr>\n",
       "    <tr>\n",
       "      <th>3</th>\n",
       "      <td>0.406009</td>\n",
       "      <td>(EducationField=Life Sciences)</td>\n",
       "    </tr>\n",
       "    <tr>\n",
       "      <th>4</th>\n",
       "      <td>0.410300</td>\n",
       "      <td>(Gender=Female)</td>\n",
       "    </tr>\n",
       "    <tr>\n",
       "      <th>...</th>\n",
       "      <td>...</td>\n",
       "      <td>...</td>\n",
       "    </tr>\n",
       "    <tr>\n",
       "      <th>83</th>\n",
       "      <td>0.431760</td>\n",
       "      <td>(OverTime=No, PerformanceRating=3.0, BusinessT...</td>\n",
       "    </tr>\n",
       "    <tr>\n",
       "      <th>84</th>\n",
       "      <td>0.409442</td>\n",
       "      <td>(YearsAtCompany_cut=Low, YearsInCurrentRole_cu...</td>\n",
       "    </tr>\n",
       "    <tr>\n",
       "      <th>85</th>\n",
       "      <td>0.415451</td>\n",
       "      <td>(YearsAtCompany_cut=Low, PerformanceRating=3.0...</td>\n",
       "    </tr>\n",
       "    <tr>\n",
       "      <th>86</th>\n",
       "      <td>0.406867</td>\n",
       "      <td>(YearsInCurrentRole_cut=Low, PerformanceRating...</td>\n",
       "    </tr>\n",
       "    <tr>\n",
       "      <th>87</th>\n",
       "      <td>0.462661</td>\n",
       "      <td>(YearsAtCompany_cut=Low, YearsInCurrentRole_cu...</td>\n",
       "    </tr>\n",
       "  </tbody>\n",
       "</table>\n",
       "<p>88 rows × 2 columns</p>\n",
       "</div>"
      ],
      "text/plain": [
       "     support                                           itemsets\n",
       "0   0.842918                                     (Attrition=No)\n",
       "1   0.714163                     (BusinessTravel=Travel_Rarely)\n",
       "2   0.648927                (Department=Research & Development)\n",
       "3   0.406009                     (EducationField=Life Sciences)\n",
       "4   0.410300                                    (Gender=Female)\n",
       "..       ...                                                ...\n",
       "83  0.431760  (OverTime=No, PerformanceRating=3.0, BusinessT...\n",
       "84  0.409442  (YearsAtCompany_cut=Low, YearsInCurrentRole_cu...\n",
       "85  0.415451  (YearsAtCompany_cut=Low, PerformanceRating=3.0...\n",
       "86  0.406867  (YearsInCurrentRole_cut=Low, PerformanceRating...\n",
       "87  0.462661  (YearsAtCompany_cut=Low, YearsInCurrentRole_cu...\n",
       "\n",
       "[88 rows x 2 columns]"
      ]
     },
     "execution_count": 88,
     "metadata": {
      "tags": []
     },
     "output_type": "execute_result"
    }
   ],
   "source": [
    "frequent_itemsets"
   ]
  },
  {
   "cell_type": "code",
   "execution_count": null,
   "metadata": {
    "colab": {
     "base_uri": "https://localhost:8080/",
     "height": 17
    },
    "colab_type": "code",
    "id": "rjkBzp2v2Hjt",
    "outputId": "049209ff-9d13-47c8-a4c9-33096386386e"
   },
   "outputs": [
    {
     "data": {
      "application/javascript": [
       "\n",
       "    async function download(id, filename, size) {\n",
       "      if (!google.colab.kernel.accessAllowed) {\n",
       "        return;\n",
       "      }\n",
       "      const div = document.createElement('div');\n",
       "      const label = document.createElement('label');\n",
       "      label.textContent = `Downloading \"${filename}\": `;\n",
       "      div.appendChild(label);\n",
       "      const progress = document.createElement('progress');\n",
       "      progress.max = size;\n",
       "      div.appendChild(progress);\n",
       "      document.body.appendChild(div);\n",
       "\n",
       "      const buffers = [];\n",
       "      let downloaded = 0;\n",
       "\n",
       "      const channel = await google.colab.kernel.comms.open(id);\n",
       "      // Send a message to notify the kernel that we're ready.\n",
       "      channel.send({})\n",
       "\n",
       "      for await (const message of channel.messages) {\n",
       "        // Send a message to notify the kernel that we're ready.\n",
       "        channel.send({})\n",
       "        if (message.buffers) {\n",
       "          for (const buffer of message.buffers) {\n",
       "            buffers.push(buffer);\n",
       "            downloaded += buffer.byteLength;\n",
       "            progress.value = downloaded;\n",
       "          }\n",
       "        }\n",
       "      }\n",
       "      const blob = new Blob(buffers, {type: 'application/binary'});\n",
       "      const a = document.createElement('a');\n",
       "      a.href = window.URL.createObjectURL(blob);\n",
       "      a.download = filename;\n",
       "      div.appendChild(a);\n",
       "      a.click();\n",
       "      div.remove();\n",
       "    }\n",
       "  "
      ],
      "text/plain": [
       "<IPython.core.display.Javascript object>"
      ]
     },
     "metadata": {
      "tags": []
     },
     "output_type": "display_data"
    },
    {
     "data": {
      "application/javascript": [
       "download(\"download_5a1668b6-f5b6-4b84-acee-5f8751e68f53\", \"df_final.csv\", 804990)"
      ],
      "text/plain": [
       "<IPython.core.display.Javascript object>"
      ]
     },
     "metadata": {
      "tags": []
     },
     "output_type": "display_data"
    }
   ],
   "source": [
    "#import the dataframe to new CSV on google colab.\n",
    "\n",
    "# from google.colab import files\n",
    "# df_clean.to_csv('df_final.csv') \n",
    "# files.download('df_final.csv')"
   ]
  },
  {
   "cell_type": "markdown",
   "metadata": {
    "colab_type": "text",
    "id": "PyrmuMDGbrY5"
   },
   "source": [
    "**ASSOCIATION RULE MINING**"
   ]
  },
  {
   "cell_type": "code",
   "execution_count": null,
   "metadata": {
    "colab": {
     "base_uri": "https://localhost:8080/",
     "height": 340
    },
    "colab_type": "code",
    "id": "n6GdQG4kf5dz",
    "outputId": "3f2a3e66-abee-4b34-c031-916e64265a95"
   },
   "outputs": [
    {
     "data": {
      "text/html": [
       "<div>\n",
       "<style scoped>\n",
       "    .dataframe tbody tr th:only-of-type {\n",
       "        vertical-align: middle;\n",
       "    }\n",
       "\n",
       "    .dataframe tbody tr th {\n",
       "        vertical-align: top;\n",
       "    }\n",
       "\n",
       "    .dataframe thead th {\n",
       "        text-align: right;\n",
       "    }\n",
       "</style>\n",
       "<table border=\"1\" class=\"dataframe\">\n",
       "  <thead>\n",
       "    <tr style=\"text-align: right;\">\n",
       "      <th></th>\n",
       "      <th>antecedents</th>\n",
       "      <th>consequents</th>\n",
       "      <th>antecedent support</th>\n",
       "      <th>consequent support</th>\n",
       "      <th>support</th>\n",
       "      <th>confidence</th>\n",
       "      <th>lift</th>\n",
       "      <th>leverage</th>\n",
       "      <th>conviction</th>\n",
       "    </tr>\n",
       "  </thead>\n",
       "  <tbody>\n",
       "    <tr>\n",
       "      <th>1</th>\n",
       "      <td>(BusinessTravel=Travel_Rarely)</td>\n",
       "      <td>(Attrition=No)</td>\n",
       "      <td>0.714163</td>\n",
       "      <td>0.842918</td>\n",
       "      <td>0.612876</td>\n",
       "      <td>0.858173</td>\n",
       "      <td>1.018097</td>\n",
       "      <td>0.010894</td>\n",
       "      <td>1.107558</td>\n",
       "    </tr>\n",
       "    <tr>\n",
       "      <th>3</th>\n",
       "      <td>(Department=Research &amp; Development)</td>\n",
       "      <td>(Attrition=No)</td>\n",
       "      <td>0.648927</td>\n",
       "      <td>0.842918</td>\n",
       "      <td>0.566524</td>\n",
       "      <td>0.873016</td>\n",
       "      <td>1.035706</td>\n",
       "      <td>0.019531</td>\n",
       "      <td>1.237017</td>\n",
       "    </tr>\n",
       "    <tr>\n",
       "      <th>5</th>\n",
       "      <td>(JobInvolvement=3)</td>\n",
       "      <td>(Attrition=No)</td>\n",
       "      <td>0.588841</td>\n",
       "      <td>0.842918</td>\n",
       "      <td>0.506438</td>\n",
       "      <td>0.860058</td>\n",
       "      <td>1.020334</td>\n",
       "      <td>0.010093</td>\n",
       "      <td>1.122479</td>\n",
       "    </tr>\n",
       "    <tr>\n",
       "      <th>6</th>\n",
       "      <td>(OverTime=No)</td>\n",
       "      <td>(Attrition=No)</td>\n",
       "      <td>0.713305</td>\n",
       "      <td>0.842918</td>\n",
       "      <td>0.636910</td>\n",
       "      <td>0.892900</td>\n",
       "      <td>1.059296</td>\n",
       "      <td>0.035652</td>\n",
       "      <td>1.466683</td>\n",
       "    </tr>\n",
       "    <tr>\n",
       "      <th>8</th>\n",
       "      <td>(PerformanceRating=3.0)</td>\n",
       "      <td>(Attrition=No)</td>\n",
       "      <td>0.836910</td>\n",
       "      <td>0.842918</td>\n",
       "      <td>0.709013</td>\n",
       "      <td>0.847179</td>\n",
       "      <td>1.005055</td>\n",
       "      <td>0.003566</td>\n",
       "      <td>1.027883</td>\n",
       "    </tr>\n",
       "    <tr>\n",
       "      <th>9</th>\n",
       "      <td>(Attrition=No)</td>\n",
       "      <td>(PerformanceRating=3.0)</td>\n",
       "      <td>0.842918</td>\n",
       "      <td>0.836910</td>\n",
       "      <td>0.709013</td>\n",
       "      <td>0.841141</td>\n",
       "      <td>1.005055</td>\n",
       "      <td>0.003566</td>\n",
       "      <td>1.026631</td>\n",
       "    </tr>\n",
       "    <tr>\n",
       "      <th>11</th>\n",
       "      <td>(WorkLifeBalance=3)</td>\n",
       "      <td>(Attrition=No)</td>\n",
       "      <td>0.624034</td>\n",
       "      <td>0.842918</td>\n",
       "      <td>0.538197</td>\n",
       "      <td>0.862448</td>\n",
       "      <td>1.023169</td>\n",
       "      <td>0.012187</td>\n",
       "      <td>1.141983</td>\n",
       "    </tr>\n",
       "    <tr>\n",
       "      <th>15</th>\n",
       "      <td>(BusinessTravel=Travel_Rarely)</td>\n",
       "      <td>(PerformanceRating=3.0)</td>\n",
       "      <td>0.714163</td>\n",
       "      <td>0.836910</td>\n",
       "      <td>0.602575</td>\n",
       "      <td>0.843750</td>\n",
       "      <td>1.008173</td>\n",
       "      <td>0.004885</td>\n",
       "      <td>1.043777</td>\n",
       "    </tr>\n",
       "    <tr>\n",
       "      <th>17</th>\n",
       "      <td>(PerformanceRating=3.0, BusinessTravel=Travel_...</td>\n",
       "      <td>(Attrition=No)</td>\n",
       "      <td>0.602575</td>\n",
       "      <td>0.842918</td>\n",
       "      <td>0.518455</td>\n",
       "      <td>0.860399</td>\n",
       "      <td>1.020738</td>\n",
       "      <td>0.010533</td>\n",
       "      <td>1.125217</td>\n",
       "    </tr>\n",
       "    <tr>\n",
       "      <th>18</th>\n",
       "      <td>(Attrition=No, BusinessTravel=Travel_Rarely)</td>\n",
       "      <td>(PerformanceRating=3.0)</td>\n",
       "      <td>0.612876</td>\n",
       "      <td>0.836910</td>\n",
       "      <td>0.518455</td>\n",
       "      <td>0.845938</td>\n",
       "      <td>1.010788</td>\n",
       "      <td>0.005533</td>\n",
       "      <td>1.058603</td>\n",
       "    </tr>\n",
       "  </tbody>\n",
       "</table>\n",
       "</div>"
      ],
      "text/plain": [
       "                                          antecedents  ... conviction\n",
       "1                      (BusinessTravel=Travel_Rarely)  ...   1.107558\n",
       "3                 (Department=Research & Development)  ...   1.237017\n",
       "5                                  (JobInvolvement=3)  ...   1.122479\n",
       "6                                       (OverTime=No)  ...   1.466683\n",
       "8                             (PerformanceRating=3.0)  ...   1.027883\n",
       "9                                      (Attrition=No)  ...   1.026631\n",
       "11                                (WorkLifeBalance=3)  ...   1.141983\n",
       "15                     (BusinessTravel=Travel_Rarely)  ...   1.043777\n",
       "17  (PerformanceRating=3.0, BusinessTravel=Travel_...  ...   1.125217\n",
       "18       (Attrition=No, BusinessTravel=Travel_Rarely)  ...   1.058603\n",
       "\n",
       "[10 rows x 9 columns]"
      ]
     },
     "execution_count": 91,
     "metadata": {
      "tags": []
     },
     "output_type": "execute_result"
    }
   ],
   "source": [
    "#Implementation of Association Rules Mining\n",
    "\n",
    "te = TransactionEncoder()\n",
    "te_ary = te.fit(records).transform(records)\n",
    "df = pd.DataFrame(te_ary, columns=te.columns_)\n",
    "frequent_itemsets = apriori(df, min_support=0.5, use_colnames=True)\n",
    "frequent_itemsets.sort_values(by='support',ascending=False).head(10)\n",
    "rules = association_rules(frequent_itemsets, metric=\"lift\", min_threshold=1)\n",
    "rules.head()\n",
    "rules[(rules['lift']>1) & (rules['confidence'] > 0.8)].head(10)"
   ]
  },
  {
   "cell_type": "code",
   "execution_count": null,
   "metadata": {
    "colab": {
     "base_uri": "https://localhost:8080/",
     "height": 513
    },
    "colab_type": "code",
    "id": "l6ABeEJqhTtK",
    "outputId": "23289214-aa5a-426c-9909-8df81e5e4ccd"
   },
   "outputs": [
    {
     "data": {
      "image/png": "[encoded data removed]",
      "text/plain": [
       "<Figure size 864x576 with 1 Axes>"
      ]
     },
     "metadata": {
      "needs_background": "light",
      "tags": []
     },
     "output_type": "display_data"
    }
   ],
   "source": [
    "#Scatterplot to show confidence and support \n",
    "\n",
    "plt.figure(figsize = (12,8))\n",
    "plt.title('Confidence v/s Support')\n",
    "b = sns.scatterplot(data=rules,x='support',y='confidence',hue='lift')\n",
    "plt.show()"
   ]
  },
  {
   "cell_type": "code",
   "execution_count": null,
   "metadata": {
    "colab": {},
    "colab_type": "code",
    "id": "Rs86T3jihYzD"
   },
   "outputs": [],
   "source": [
    "\n",
    "\n",
    "def SupervisedApriori(data,consequent,min_supp,min_conf,min_lift, sort_by):\n",
    "    frequent_itemsets = apriori(data, min_supp, use_colnames=True)\n",
    "    rules = association_rules(frequent_itemsets, metric=\"confidence\", min_threshold=min_conf)\n",
    "    #filter according to lift\n",
    "    rules = rules[rules['lift'] > min_lift]\n",
    "    sup_rules = pd.DataFrame()\n",
    "    for i in consequent:\n",
    "        df = rules[rules['consequents'] == {i}]\n",
    "        sup_rules = sup_rules.append(df,ignore_index = True)\n",
    "    sup_rules.sort_values(by=sort_by,ascending=False).head(5)\n",
    "    return(sup_rules)"
   ]
  },
  {
   "cell_type": "code",
   "execution_count": null,
   "metadata": {
    "colab": {
     "base_uri": "https://localhost:8080/",
     "height": 194
    },
    "colab_type": "code",
    "id": "E4pAAJ_fh3Ms",
    "outputId": "130d2e3f-df20-4caf-b7fe-fe48f7c329e8"
   },
   "outputs": [
    {
     "data": {
      "text/html": [
       "<div>\n",
       "<style scoped>\n",
       "    .dataframe tbody tr th:only-of-type {\n",
       "        vertical-align: middle;\n",
       "    }\n",
       "\n",
       "    .dataframe tbody tr th {\n",
       "        vertical-align: top;\n",
       "    }\n",
       "\n",
       "    .dataframe thead th {\n",
       "        text-align: right;\n",
       "    }\n",
       "</style>\n",
       "<table border=\"1\" class=\"dataframe\">\n",
       "  <thead>\n",
       "    <tr style=\"text-align: right;\">\n",
       "      <th></th>\n",
       "      <th>antecedents</th>\n",
       "      <th>consequents</th>\n",
       "      <th>antecedent support</th>\n",
       "      <th>consequent support</th>\n",
       "      <th>support</th>\n",
       "      <th>confidence</th>\n",
       "      <th>lift</th>\n",
       "      <th>leverage</th>\n",
       "      <th>conviction</th>\n",
       "    </tr>\n",
       "  </thead>\n",
       "  <tbody>\n",
       "    <tr>\n",
       "      <th>0</th>\n",
       "      <td>(BusinessTravel=Travel_Rarely)</td>\n",
       "      <td>(Attrition=No)</td>\n",
       "      <td>0.714163</td>\n",
       "      <td>0.842918</td>\n",
       "      <td>0.612876</td>\n",
       "      <td>0.858173</td>\n",
       "      <td>1.018097</td>\n",
       "      <td>0.010894</td>\n",
       "      <td>1.107558</td>\n",
       "    </tr>\n",
       "    <tr>\n",
       "      <th>1</th>\n",
       "      <td>(Department=Research &amp; Development)</td>\n",
       "      <td>(Attrition=No)</td>\n",
       "      <td>0.648927</td>\n",
       "      <td>0.842918</td>\n",
       "      <td>0.566524</td>\n",
       "      <td>0.873016</td>\n",
       "      <td>1.035706</td>\n",
       "      <td>0.019531</td>\n",
       "      <td>1.237017</td>\n",
       "    </tr>\n",
       "    <tr>\n",
       "      <th>2</th>\n",
       "      <td>(JobInvolvement=3)</td>\n",
       "      <td>(Attrition=No)</td>\n",
       "      <td>0.588841</td>\n",
       "      <td>0.842918</td>\n",
       "      <td>0.506438</td>\n",
       "      <td>0.860058</td>\n",
       "      <td>1.020334</td>\n",
       "      <td>0.010093</td>\n",
       "      <td>1.122479</td>\n",
       "    </tr>\n",
       "    <tr>\n",
       "      <th>3</th>\n",
       "      <td>(MaritalStatus=Married)</td>\n",
       "      <td>(Attrition=No)</td>\n",
       "      <td>0.466953</td>\n",
       "      <td>0.842918</td>\n",
       "      <td>0.410300</td>\n",
       "      <td>0.878676</td>\n",
       "      <td>1.042422</td>\n",
       "      <td>0.016697</td>\n",
       "      <td>1.294733</td>\n",
       "    </tr>\n",
       "    <tr>\n",
       "      <th>4</th>\n",
       "      <td>(OverTime=No)</td>\n",
       "      <td>(Attrition=No)</td>\n",
       "      <td>0.713305</td>\n",
       "      <td>0.842918</td>\n",
       "      <td>0.636910</td>\n",
       "      <td>0.892900</td>\n",
       "      <td>1.059296</td>\n",
       "      <td>0.035652</td>\n",
       "      <td>1.466683</td>\n",
       "    </tr>\n",
       "  </tbody>\n",
       "</table>\n",
       "</div>"
      ],
      "text/plain": [
       "                           antecedents     consequents  ...  leverage  conviction\n",
       "0       (BusinessTravel=Travel_Rarely)  (Attrition=No)  ...  0.010894    1.107558\n",
       "1  (Department=Research & Development)  (Attrition=No)  ...  0.019531    1.237017\n",
       "2                   (JobInvolvement=3)  (Attrition=No)  ...  0.010093    1.122479\n",
       "3              (MaritalStatus=Married)  (Attrition=No)  ...  0.016697    1.294733\n",
       "4                        (OverTime=No)  (Attrition=No)  ...  0.035652    1.466683\n",
       "\n",
       "[5 rows x 9 columns]"
      ]
     },
     "execution_count": 94,
     "metadata": {
      "tags": []
     },
     "output_type": "execute_result"
    }
   ],
   "source": [
    "#Generated top rules for the Attrition=No\n",
    "\n",
    "SupervisedApriori(df,consequent = ['Attrition=No'],\n",
    "min_supp=0.4, min_conf=0.7, min_lift=1,sort_by = 'lift').head(5)"
   ]
  },
  {
   "cell_type": "markdown",
   "metadata": {
    "colab_type": "text",
    "id": "ZSTgGYPClkPt"
   },
   "source": [
    "Based on the above rules for attrition = no, we can say that people who travel rarely, are more into research, with good job involvement, no overtime and are married do not leave the company."
   ]
  },
  {
   "cell_type": "code",
   "execution_count": null,
   "metadata": {
    "colab": {
     "base_uri": "https://localhost:8080/",
     "height": 194
    },
    "colab_type": "code",
    "id": "8yTSyrTXiDxU",
    "outputId": "586474ea-96c5-4cbd-aa64-2365f265c393"
   },
   "outputs": [
    {
     "data": {
      "text/html": [
       "<div>\n",
       "<style scoped>\n",
       "    .dataframe tbody tr th:only-of-type {\n",
       "        vertical-align: middle;\n",
       "    }\n",
       "\n",
       "    .dataframe tbody tr th {\n",
       "        vertical-align: top;\n",
       "    }\n",
       "\n",
       "    .dataframe thead th {\n",
       "        text-align: right;\n",
       "    }\n",
       "</style>\n",
       "<table border=\"1\" class=\"dataframe\">\n",
       "  <thead>\n",
       "    <tr style=\"text-align: right;\">\n",
       "      <th></th>\n",
       "      <th>antecedents</th>\n",
       "      <th>consequents</th>\n",
       "      <th>antecedent support</th>\n",
       "      <th>consequent support</th>\n",
       "      <th>support</th>\n",
       "      <th>confidence</th>\n",
       "      <th>lift</th>\n",
       "      <th>leverage</th>\n",
       "      <th>conviction</th>\n",
       "    </tr>\n",
       "  </thead>\n",
       "  <tbody>\n",
       "    <tr>\n",
       "      <th>0</th>\n",
       "      <td>(StockOptionLevel=0)</td>\n",
       "      <td>(Attrition=Yes)</td>\n",
       "      <td>0.425751</td>\n",
       "      <td>0.157082</td>\n",
       "      <td>0.102146</td>\n",
       "      <td>0.239919</td>\n",
       "      <td>1.527355</td>\n",
       "      <td>0.035268</td>\n",
       "      <td>1.108986</td>\n",
       "    </tr>\n",
       "    <tr>\n",
       "      <th>1</th>\n",
       "      <td>(YearsAtCompany_cut=Low)</td>\n",
       "      <td>(Attrition=Yes)</td>\n",
       "      <td>0.541631</td>\n",
       "      <td>0.157082</td>\n",
       "      <td>0.109013</td>\n",
       "      <td>0.201268</td>\n",
       "      <td>1.281295</td>\n",
       "      <td>0.023933</td>\n",
       "      <td>1.055321</td>\n",
       "    </tr>\n",
       "    <tr>\n",
       "      <th>2</th>\n",
       "      <td>(YearsInCurrentRole_cut=Low)</td>\n",
       "      <td>(Attrition=Yes)</td>\n",
       "      <td>0.557940</td>\n",
       "      <td>0.157082</td>\n",
       "      <td>0.115021</td>\n",
       "      <td>0.206154</td>\n",
       "      <td>1.312400</td>\n",
       "      <td>0.027379</td>\n",
       "      <td>1.061816</td>\n",
       "    </tr>\n",
       "    <tr>\n",
       "      <th>3</th>\n",
       "      <td>(YearsAtCompany_cut=Low, YearsInCurrentRole_cu...</td>\n",
       "      <td>(Attrition=Yes)</td>\n",
       "      <td>0.488412</td>\n",
       "      <td>0.157082</td>\n",
       "      <td>0.104721</td>\n",
       "      <td>0.214411</td>\n",
       "      <td>1.364968</td>\n",
       "      <td>0.028001</td>\n",
       "      <td>1.072977</td>\n",
       "    </tr>\n",
       "    <tr>\n",
       "      <th>4</th>\n",
       "      <td>(YearsAtCompany_cut=Low, YearsWithCurrManager_...</td>\n",
       "      <td>(Attrition=Yes)</td>\n",
       "      <td>0.496137</td>\n",
       "      <td>0.157082</td>\n",
       "      <td>0.103863</td>\n",
       "      <td>0.209343</td>\n",
       "      <td>1.332700</td>\n",
       "      <td>0.025929</td>\n",
       "      <td>1.066098</td>\n",
       "    </tr>\n",
       "  </tbody>\n",
       "</table>\n",
       "</div>"
      ],
      "text/plain": [
       "                                         antecedents  ... conviction\n",
       "0                               (StockOptionLevel=0)  ...   1.108986\n",
       "1                           (YearsAtCompany_cut=Low)  ...   1.055321\n",
       "2                       (YearsInCurrentRole_cut=Low)  ...   1.061816\n",
       "3  (YearsAtCompany_cut=Low, YearsInCurrentRole_cu...  ...   1.072977\n",
       "4  (YearsAtCompany_cut=Low, YearsWithCurrManager_...  ...   1.066098\n",
       "\n",
       "[5 rows x 9 columns]"
      ]
     },
     "execution_count": 95,
     "metadata": {
      "tags": []
     },
     "output_type": "execute_result"
    }
   ],
   "source": [
    "#Generated top rules for the Attrition=Yes\n",
    "\n",
    "SupervisedApriori(df,consequent = ['Attrition=Yes'],\n",
    "min_supp=0.1, min_conf=0.2, min_lift=1,sort_by = 'lift').head(5)"
   ]
  },
  {
   "cell_type": "markdown",
   "metadata": {
    "colab_type": "text",
    "id": "beJb6DHGmC2h"
   },
   "source": [
    "Based on the above rules generated for attrition = yes, we can infer that employee who tend to spend less time with their company, have low time spent in their current role, have no stock options and have low years with current manager tend to leave the company. "
   ]
  },
  {
   "cell_type": "code",
   "execution_count": null,
   "metadata": {
    "colab": {},
    "colab_type": "code",
    "id": "hQvbEx80-FKK"
   },
   "outputs": [],
   "source": []
  }
 ],
 "metadata": {
  "colab": {
   "collapsed_sections": [],
   "name": "Singh_Abhiraj_HW1.ipynb",
   "provenance": []
  },
  "kernelspec": {
   "display_name": "Python 3",
   "language": "python",
   "name": "python3"
  },
  "language_info": {
   "codemirror_mode": {
    "name": "ipython",
    "version": 3
   },
   "file_extension": ".py",
   "mimetype": "text/x-python",
   "name": "python",
   "nbconvert_exporter": "python",
   "pygments_lexer": "ipython3",
   "version": "3.8.5"
  }
 },
 "nbformat": 4,
 "nbformat_minor": 1
}
