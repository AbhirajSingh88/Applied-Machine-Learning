{
  "nbformat": 4,
  "nbformat_minor": 0,
  "metadata": {
    "accelerator": "GPU",
    "colab": {
      "name": "DA_HW3_asingh73.ipynb",
      "provenance": [],
      "collapsed_sections": [],
      "toc_visible": true
    },
    "kernelspec": {
      "display_name": "Python 3",
      "language": "python",
      "name": "python3"
    },
    "language_info": {
      "codemirror_mode": {
        "name": "ipython",
        "version": 3
      },
      "file_extension": ".py",
      "mimetype": "text/x-python",
      "name": "python",
      "nbconvert_exporter": "python",
      "pygments_lexer": "ipython3",
      "version": "3.7.6"
    }
  },
  "cells": [
    {
      "cell_type": "markdown",
      "metadata": {
        "id": "IsbJson26IeQ"
      },
      "source": [
        "## IST 707 HW3- Abhiraj Singh "
      ]
    },
    {
      "cell_type": "code",
      "metadata": {
        "id": "PzE5GuL6i_e_"
      },
      "source": [
        "#import libraries\n",
        "\n",
        "import numpy as np\n",
        "import pandas as pd\n",
        "import matplotlib.pyplot as plt\n",
        "from sklearn.preprocessing import OneHotEncoder, MinMaxScaler\n",
        "from sklearn.model_selection import train_test_split\n",
        "from sklearn.model_selection import train_test_split, GridSearchCV, cross_val_score, ShuffleSplit, GridSearchCV\n",
        "from sklearn import metrics\n",
        "from sklearn.naive_bayes import GaussianNB, BernoulliNB, MultinomialNB\n",
        "from sklearn.metrics import classification_report, confusion_matrix, accuracy_score,roc_auc_score,roc_curve\n",
        "import sklearn.metrics as metrics\n",
        "import seaborn as sns\n",
        "from scipy.stats.mstats import winsorize\n",
        "from sklearn.neighbors import NearestNeighbors\n",
        "from sklearn.neighbors import KNeighborsClassifier\n",
        "from sklearn.svm import SVC\n",
        "from sklearn import svm\n",
        "from sklearn.ensemble import RandomForestClassifier\n",
        "from sklearn.ensemble import GradientBoostingClassifier as gbm"
      ],
      "execution_count": 1,
      "outputs": []
    },
    {
      "cell_type": "markdown",
      "metadata": {
        "id": "gMgTSz3ti_fD"
      },
      "source": [
        "## Load Data "
      ]
    },
    {
      "cell_type": "code",
      "metadata": {
        "id": "PvB2WTUP7ceE"
      },
      "source": [
        "#read the csv file\n",
        "train_df = pd.read_csv('Disease Prediction Training.csv')\n",
        "train_df.head(5)\n",
        "\n",
        "test_df = pd.read_csv('Disease Prediction Testing.csv')"
      ],
      "execution_count": 2,
      "outputs": []
    },
    {
      "cell_type": "code",
      "metadata": {
        "id": "2q5Ze94G77UP",
        "outputId": "34454f10-ce82-4933-f53b-cd4a43f25561",
        "colab": {
          "base_uri": "https://localhost:8080/"
        }
      },
      "source": [
        "#This shows that the dataset has no NA values\n",
        "train_df.isna().sum()"
      ],
      "execution_count": null,
      "outputs": [
        {
          "output_type": "execute_result",
          "data": {
            "text/plain": [
              "Age                     0\n",
              "Height                  0\n",
              "Weight                  0\n",
              "High Blood Pressure     0\n",
              "Low Blood Pressure      0\n",
              "Smoke                   0\n",
              "Alcohol                 0\n",
              "Exercise                0\n",
              "Disease                 0\n",
              "Gender_female           0\n",
              "Gender_male             0\n",
              "Cholesterol_high        0\n",
              "Cholesterol_normal      0\n",
              "Cholesterol_too high    0\n",
              "Glucose_high            0\n",
              "Glucose_normal          0\n",
              "Glucose_too high        0\n",
              "dtype: int64"
            ]
          },
          "metadata": {
            "tags": []
          },
          "execution_count": 37
        }
      ]
    },
    {
      "cell_type": "code",
      "metadata": {
        "id": "qcKaJwBo8FRP",
        "outputId": "285481bc-ce36-4425-d116-867bbb21945b",
        "colab": {
          "base_uri": "https://localhost:8080/",
          "height": 379
        }
      },
      "source": [
        "#This will help us get familliar with the train dataset's statistical features\n",
        "print(\"The shape of the train dataframe is:\",train_df.shape)\n",
        "\n",
        "#check whether data is balanced or unbalance\n",
        "\n",
        "print(\"Total number of 1's in the dataframe\",len(train_df[train_df.Disease == 1]))\n",
        "print(\"Total number of 0's in the dataframe\",len(train_df[train_df.Disease == 0]))\n",
        "\n",
        "train_df.describe().transpose()"
      ],
      "execution_count": null,
      "outputs": [
        {
          "output_type": "stream",
          "text": [
            "The shape of the train dataframe is: (49000, 12)\n",
            "Total number of 1's in the dataframe 24498\n",
            "Total number of 0's in the dataframe 24502\n"
          ],
          "name": "stdout"
        },
        {
          "output_type": "execute_result",
          "data": {
            "text/html": [
              "<div>\n",
              "<style scoped>\n",
              "    .dataframe tbody tr th:only-of-type {\n",
              "        vertical-align: middle;\n",
              "    }\n",
              "\n",
              "    .dataframe tbody tr th {\n",
              "        vertical-align: top;\n",
              "    }\n",
              "\n",
              "    .dataframe thead th {\n",
              "        text-align: right;\n",
              "    }\n",
              "</style>\n",
              "<table border=\"1\" class=\"dataframe\">\n",
              "  <thead>\n",
              "    <tr style=\"text-align: right;\">\n",
              "      <th></th>\n",
              "      <th>count</th>\n",
              "      <th>mean</th>\n",
              "      <th>std</th>\n",
              "      <th>min</th>\n",
              "      <th>25%</th>\n",
              "      <th>50%</th>\n",
              "      <th>75%</th>\n",
              "      <th>max</th>\n",
              "    </tr>\n",
              "  </thead>\n",
              "  <tbody>\n",
              "    <tr>\n",
              "      <th>Age</th>\n",
              "      <td>49000.0</td>\n",
              "      <td>52.853306</td>\n",
              "      <td>6.763065</td>\n",
              "      <td>29.0</td>\n",
              "      <td>48.0</td>\n",
              "      <td>53.0</td>\n",
              "      <td>58.0</td>\n",
              "      <td>64.0</td>\n",
              "    </tr>\n",
              "    <tr>\n",
              "      <th>Height</th>\n",
              "      <td>49000.0</td>\n",
              "      <td>164.366878</td>\n",
              "      <td>8.216637</td>\n",
              "      <td>55.0</td>\n",
              "      <td>159.0</td>\n",
              "      <td>165.0</td>\n",
              "      <td>170.0</td>\n",
              "      <td>207.0</td>\n",
              "    </tr>\n",
              "    <tr>\n",
              "      <th>Weight</th>\n",
              "      <td>49000.0</td>\n",
              "      <td>74.190527</td>\n",
              "      <td>14.329934</td>\n",
              "      <td>10.0</td>\n",
              "      <td>65.0</td>\n",
              "      <td>72.0</td>\n",
              "      <td>82.0</td>\n",
              "      <td>200.0</td>\n",
              "    </tr>\n",
              "    <tr>\n",
              "      <th>High Blood Pressure</th>\n",
              "      <td>49000.0</td>\n",
              "      <td>128.698939</td>\n",
              "      <td>147.624582</td>\n",
              "      <td>-150.0</td>\n",
              "      <td>120.0</td>\n",
              "      <td>120.0</td>\n",
              "      <td>140.0</td>\n",
              "      <td>14020.0</td>\n",
              "    </tr>\n",
              "    <tr>\n",
              "      <th>Low Blood Pressure</th>\n",
              "      <td>49000.0</td>\n",
              "      <td>96.917367</td>\n",
              "      <td>200.368069</td>\n",
              "      <td>0.0</td>\n",
              "      <td>80.0</td>\n",
              "      <td>80.0</td>\n",
              "      <td>90.0</td>\n",
              "      <td>11000.0</td>\n",
              "    </tr>\n",
              "    <tr>\n",
              "      <th>Smoke</th>\n",
              "      <td>49000.0</td>\n",
              "      <td>0.088265</td>\n",
              "      <td>0.283683</td>\n",
              "      <td>0.0</td>\n",
              "      <td>0.0</td>\n",
              "      <td>0.0</td>\n",
              "      <td>0.0</td>\n",
              "      <td>1.0</td>\n",
              "    </tr>\n",
              "    <tr>\n",
              "      <th>Alcohol</th>\n",
              "      <td>49000.0</td>\n",
              "      <td>0.054245</td>\n",
              "      <td>0.226503</td>\n",
              "      <td>0.0</td>\n",
              "      <td>0.0</td>\n",
              "      <td>0.0</td>\n",
              "      <td>0.0</td>\n",
              "      <td>1.0</td>\n",
              "    </tr>\n",
              "    <tr>\n",
              "      <th>Exercise</th>\n",
              "      <td>49000.0</td>\n",
              "      <td>0.803204</td>\n",
              "      <td>0.397581</td>\n",
              "      <td>0.0</td>\n",
              "      <td>1.0</td>\n",
              "      <td>1.0</td>\n",
              "      <td>1.0</td>\n",
              "      <td>1.0</td>\n",
              "    </tr>\n",
              "    <tr>\n",
              "      <th>Disease</th>\n",
              "      <td>49000.0</td>\n",
              "      <td>0.499959</td>\n",
              "      <td>0.500005</td>\n",
              "      <td>0.0</td>\n",
              "      <td>0.0</td>\n",
              "      <td>0.0</td>\n",
              "      <td>1.0</td>\n",
              "      <td>1.0</td>\n",
              "    </tr>\n",
              "  </tbody>\n",
              "</table>\n",
              "</div>"
            ],
            "text/plain": [
              "                       count        mean         std    min    25%    50%  \\\n",
              "Age                  49000.0   52.853306    6.763065   29.0   48.0   53.0   \n",
              "Height               49000.0  164.366878    8.216637   55.0  159.0  165.0   \n",
              "Weight               49000.0   74.190527   14.329934   10.0   65.0   72.0   \n",
              "High Blood Pressure  49000.0  128.698939  147.624582 -150.0  120.0  120.0   \n",
              "Low Blood Pressure   49000.0   96.917367  200.368069    0.0   80.0   80.0   \n",
              "Smoke                49000.0    0.088265    0.283683    0.0    0.0    0.0   \n",
              "Alcohol              49000.0    0.054245    0.226503    0.0    0.0    0.0   \n",
              "Exercise             49000.0    0.803204    0.397581    0.0    1.0    1.0   \n",
              "Disease              49000.0    0.499959    0.500005    0.0    0.0    0.0   \n",
              "\n",
              "                       75%      max  \n",
              "Age                   58.0     64.0  \n",
              "Height               170.0    207.0  \n",
              "Weight                82.0    200.0  \n",
              "High Blood Pressure  140.0  14020.0  \n",
              "Low Blood Pressure    90.0  11000.0  \n",
              "Smoke                  0.0      1.0  \n",
              "Alcohol                0.0      1.0  \n",
              "Exercise               1.0      1.0  \n",
              "Disease                1.0      1.0  "
            ]
          },
          "metadata": {
            "tags": []
          },
          "execution_count": 4
        }
      ]
    },
    {
      "cell_type": "markdown",
      "metadata": {
        "id": "nSEy-O9si_fQ"
      },
      "source": [
        "## Data Visualization"
      ]
    },
    {
      "cell_type": "markdown",
      "metadata": {
        "id": "DwlxMK4pi_fR"
      },
      "source": [
        "Based on the below plots we can see that the numerical countinuous variables have many outliers."
      ]
    },
    {
      "cell_type": "code",
      "metadata": {
        "id": "_6Qsfpfp4X4B",
        "outputId": "a7beea9e-ccc8-497c-e25a-d797d8d360bb",
        "colab": {
          "base_uri": "https://localhost:8080/",
          "height": 295
        }
      },
      "source": [
        "# Data Visualization to assess the outlier in the dataset\n",
        "\n",
        "sns.boxplot(y=train_df[\"Low Blood Pressure\"], x=train_df[\"Disease\"]).set_title(\"Low Blood Pressure v/s Disease outlier detection\")\n",
        "plt.show()"
      ],
      "execution_count": null,
      "outputs": [
        {
          "output_type": "display_data",
          "data": {
            "image/png": "[encoded data removed]",
            "text/plain": [
              "<Figure size 432x288 with 1 Axes>"
            ]
          },
          "metadata": {
            "tags": [],
            "needs_background": "light"
          }
        }
      ]
    },
    {
      "cell_type": "code",
      "metadata": {
        "id": "8I1-Yhvc5X-u",
        "outputId": "a48e6fe0-32c5-441e-fcf9-4cbaf06d93f4",
        "colab": {
          "base_uri": "https://localhost:8080/",
          "height": 295
        }
      },
      "source": [
        "# Data Visualization to assess the outlier in the dataset\n",
        "\n",
        "sns.boxplot(y=train_df[\"High Blood Pressure\"], x=train_df[\"Disease\"]).set_title(\"High Blood Pressure v/s Disease outlier detection\")\n",
        "plt.show()"
      ],
      "execution_count": null,
      "outputs": [
        {
          "output_type": "display_data",
          "data": {
            "image/png": "[encoded data removed]",
            "text/plain": [
              "<Figure size 432x288 with 1 Axes>"
            ]
          },
          "metadata": {
            "tags": [],
            "needs_background": "light"
          }
        }
      ]
    },
    {
      "cell_type": "markdown",
      "metadata": {
        "id": "0cbYlNfci_fY"
      },
      "source": [
        "The above outliers are being treated by using the winsorization methods. Winsorizing or winsorization is the transformation of statistics which limits extreme values in the statistical data to reduce the effect of possibly spurious outliers. The below cell depicts the implementation."
      ]
    },
    {
      "cell_type": "code",
      "metadata": {
        "id": "cOo-LDjf5SXT",
        "outputId": "a4716458-cfce-4b61-b0f2-5d199c91ba52",
        "colab": {
          "base_uri": "https://localhost:8080/"
        }
      },
      "source": [
        "#Curing the outliers by winsorizing \n",
        "\n",
        "winsorize(train_df['High Blood Pressure'], limits=[0.01,0.04],inplace=True, axis=None)\n",
        "winsorize(train_df['Low Blood Pressure'], limits=[0.01,0.04],inplace=True, axis=None)\n",
        "\n",
        "winsorize(test_df['High Blood Pressure'], limits=[0.01,0.04],inplace=True, axis=None)\n",
        "winsorize(test_df['Low Blood Pressure'], limits=[0.01,0.04],inplace=True, axis=None)"
      ],
      "execution_count": 3,
      "outputs": [
        {
          "output_type": "execute_result",
          "data": {
            "text/plain": [
              "masked_array(data=[80, 70, 80, ..., 90, 90, 80],\n",
              "             mask=False,\n",
              "       fill_value=999999)"
            ]
          },
          "metadata": {
            "tags": []
          },
          "execution_count": 3
        }
      ]
    },
    {
      "cell_type": "markdown",
      "metadata": {
        "id": "GVA_mqNqi_fc"
      },
      "source": [
        "## One-hot encoding"
      ]
    },
    {
      "cell_type": "markdown",
      "metadata": {
        "id": "3H2VCQkLi_fc"
      },
      "source": [
        "To make the data usable for the machine learning algorithms we need to apply we need to convert the categoriacal variable to the numerical values using the one hot encoding. For categorical variables where no such ordinal relationship exists, the integer encoding is not enough."
      ]
    },
    {
      "cell_type": "code",
      "metadata": {
        "id": "LfqN-MA2-GcS"
      },
      "source": [
        "#One-hot encoding\n",
        "cols = ['Gender','Cholesterol','Glucose']\n",
        "train_df = pd.get_dummies(train_df, columns=cols)\n",
        "\n",
        "#perform same for the test data\n",
        "cols = ['Gender','Cholesterol','Glucose']\n",
        "test_df = pd.get_dummies(test_df, columns=cols)\n",
        "\n"
      ],
      "execution_count": 4,
      "outputs": []
    },
    {
      "cell_type": "markdown",
      "metadata": {
        "id": "1wRbn3UBi_ff"
      },
      "source": [
        "## Data Scaling and splitting of dataset"
      ]
    },
    {
      "cell_type": "markdown",
      "metadata": {
        "id": "mtBs8Brji_fg"
      },
      "source": [
        "Feature scaling is essential for machine learning algorithms that calculate distances between data. Therefore, we need to have standardized data. The below cell shows the scaling/standardization.\n",
        "\n",
        "We perform train-test split in this section. We need training set to allow the machine learning learn patterns or gain information. Then test data is helpful to know how well our model performs on the unseen dataset. This allows us to see how well the model is able to generalize. This is a crucial step to determine the performance of the model"
      ]
    },
    {
      "cell_type": "code",
      "metadata": {
        "id": "srX5vtcSCAxb"
      },
      "source": [
        "x = train_df.drop(columns=['Disease'])\n",
        "y = train_df['Disease']"
      ],
      "execution_count": 7,
      "outputs": []
    },
    {
      "cell_type": "code",
      "metadata": {
        "id": "kOL2Ltwii_fp"
      },
      "source": [
        "ID=test_df[\"ID\"]\n",
        "x_test=test_df.drop(columns=['ID'])"
      ],
      "execution_count": 8,
      "outputs": []
    },
    {
      "cell_type": "code",
      "metadata": {
        "id": "Hm57QEkcjiuY"
      },
      "source": [
        "#generating the bins\n",
        "labels = [1,2,3,4,5]\n",
        "x['Age']=pd.qcut(x['Age'],5,labels=labels)\n",
        "x_test['Age']=pd.qcut(x_test['Age'],5,labels=labels)\n",
        "\n",
        "x['Height']=pd.qcut(x['Height'],5,labels=labels)\n",
        "x_test['Height']=pd.qcut(x_test['Height'],5,labels=labels)\n",
        "\n",
        "x['Weight']=pd.qcut(x['Weight'],5,labels=labels)\n",
        "x_test['Weight']=pd.qcut(x_test['Weight'],5,labels=labels)"
      ],
      "execution_count": 9,
      "outputs": []
    },
    {
      "cell_type": "code",
      "metadata": {
        "id": "hZo94kUgi_fr"
      },
      "source": [
        "#scaling the data using the minmax scaler\n",
        "scaler = MinMaxScaler()\n",
        "scaler.fit(x)\n",
        "train_std = scaler.transform(x)\n",
        "\n",
        "scaler.fit(x_test)\n",
        "test_std = scaler.transform(x_test)"
      ],
      "execution_count": 44,
      "outputs": []
    },
    {
      "cell_type": "code",
      "metadata": {
        "id": "2HkmGbQpi_fx"
      },
      "source": [
        "#splitting the data into train and validation for non-standarized dataset\n",
        "\n",
        "x_train, x_val, y_train, y_val = train_test_split(x, y, test_size=0.25, random_state=6)\n",
        "\n",
        "#splitting the data into train and validation for standarized dataset\n",
        "\n",
        "x_train_std, x_val_std, y_train_std, y_val_std = train_test_split(train_std, y, test_size=0.25, random_state=6)"
      ],
      "execution_count": 13,
      "outputs": []
    },
    {
      "cell_type": "markdown",
      "metadata": {
        "id": "CWzy4a5wHtN8"
      },
      "source": [
        "# Naive Bayes Classifier"
      ]
    },
    {
      "cell_type": "markdown",
      "metadata": {
        "id": "8whI7zpoH2VT"
      },
      "source": [
        "Base model implementation: We can use the non-standardized data for this algorithm because it is dependent on the probability. That means it does not consider having eucleadian distance or any distance based decisions. Therefore, we will use the non-standarized data for training, validation and testing. "
      ]
    },
    {
      "cell_type": "code",
      "metadata": {
        "id": "XDj9vV-uCCJt"
      },
      "source": [
        "#guassian Naive Bayes base model\n",
        "gnb = GaussianNB()\n",
        "gnb.fit(x_train, y_train)\n",
        "pred = gnb.predict(x_val)"
      ],
      "execution_count": 14,
      "outputs": []
    },
    {
      "cell_type": "code",
      "metadata": {
        "id": "hMVInCYo3w8b",
        "outputId": "85164216-567d-4fc4-9464-051ef33d2568",
        "colab": {
          "base_uri": "https://localhost:8080/"
        }
      },
      "source": [
        "cfm = confusion_matrix(y_val, pred)\n",
        "print(cfm)\n",
        "print('The accuracy of the model is: ',accuracy_score(pred, y_val))\n",
        "print(classification_report(pred, y_val))"
      ],
      "execution_count": null,
      "outputs": [
        {
          "output_type": "stream",
          "text": [
            "[[4853 1322]\n",
            " [2557 3518]]\n",
            "The accuracy of the model is:  0.6833469387755102\n",
            "              precision    recall  f1-score   support\n",
            "\n",
            "           0       0.79      0.65      0.71      7410\n",
            "           1       0.58      0.73      0.64      4840\n",
            "\n",
            "    accuracy                           0.68     12250\n",
            "   macro avg       0.68      0.69      0.68     12250\n",
            "weighted avg       0.70      0.68      0.69     12250\n",
            "\n"
          ],
          "name": "stdout"
        }
      ]
    },
    {
      "cell_type": "code",
      "metadata": {
        "id": "-MnHbHhZEZYK",
        "outputId": "2f482eb5-0c56-4e43-c88f-b5201ccf67f0",
        "colab": {
          "base_uri": "https://localhost:8080/"
        }
      },
      "source": [
        "gnb_pred = gnb.predict(x_val)\n",
        "print(f\"Accuracy: {round(metrics.accuracy_score(y_val, gnb_pred)*100, 2)}%\")"
      ],
      "execution_count": null,
      "outputs": [
        {
          "output_type": "stream",
          "text": [
            "Accuracy: 68.33%\n"
          ],
          "name": "stdout"
        }
      ]
    },
    {
      "cell_type": "markdown",
      "metadata": {
        "id": "0KnExMwzLmW9"
      },
      "source": [
        "Now using the grid search we will try to optimize the naive bayes"
      ]
    },
    {
      "cell_type": "code",
      "metadata": {
        "id": "oD14AKKWLP4w",
        "outputId": "8fef6d10-919e-4c50-a00e-bbd4ac5a0d2d",
        "colab": {
          "base_uri": "https://localhost:8080/"
        }
      },
      "source": [
        "#We can tune using the GridSearchCV\n",
        "gnb_grid = GaussianNB()\n",
        "tuned_parameters = [{'var_smoothing': [2,1,0.1,0.2,0.01,0.02,0.05,0.001]}]\n",
        "\n",
        "grid_search = GridSearchCV(estimator = gnb_grid, param_grid = tuned_parameters, cv = 3, n_jobs = -1, verbose = 2)\n",
        "\n",
        "grid_search.fit(x_train,y_train)"
      ],
      "execution_count": null,
      "outputs": [
        {
          "output_type": "stream",
          "text": [
            "Fitting 3 folds for each of 8 candidates, totalling 24 fits\n"
          ],
          "name": "stdout"
        },
        {
          "output_type": "stream",
          "text": [
            "[Parallel(n_jobs=-1)]: Using backend LokyBackend with 2 concurrent workers.\n",
            "[Parallel(n_jobs=-1)]: Done  24 out of  24 | elapsed:    1.9s finished\n"
          ],
          "name": "stderr"
        },
        {
          "output_type": "execute_result",
          "data": {
            "text/plain": [
              "GridSearchCV(cv=3, error_score=nan,\n",
              "             estimator=GaussianNB(priors=None, var_smoothing=1e-09),\n",
              "             iid='deprecated', n_jobs=-1,\n",
              "             param_grid=[{'var_smoothing': [2, 1, 0.1, 0.2, 0.01, 0.02, 0.05,\n",
              "                                            0.001]}],\n",
              "             pre_dispatch='2*n_jobs', refit=True, return_train_score=False,\n",
              "             scoring=None, verbose=2)"
            ]
          },
          "metadata": {
            "tags": []
          },
          "execution_count": 90
        }
      ]
    },
    {
      "cell_type": "code",
      "metadata": {
        "id": "TTeOldBCPNnl",
        "outputId": "3fea85b2-46ab-4a0b-bbe4-37c983f62637",
        "colab": {
          "base_uri": "https://localhost:8080/"
        }
      },
      "source": [
        "print(grid_search.best_params_)  #getting the best parameters"
      ],
      "execution_count": null,
      "outputs": [
        {
          "output_type": "stream",
          "text": [
            "{'var_smoothing': 0.001}\n"
          ],
          "name": "stdout"
        }
      ]
    },
    {
      "cell_type": "markdown",
      "metadata": {
        "id": "vl4gdKW19LFa"
      },
      "source": [
        "# Naive Bayes Guassian: Best Model"
      ]
    },
    {
      "cell_type": "code",
      "metadata": {
        "id": "Twy07H2ePY8Y",
        "outputId": "f8aaa58d-50b2-4a41-aec5-2b6728536ce3",
        "colab": {
          "base_uri": "https://localhost:8080/"
        }
      },
      "source": [
        "#fitting the training data to the best gnb model  \n",
        "gnb_best = GaussianNB(var_smoothing= 0.001)\n",
        "gnb_best=gnb_best.fit(x_train,y_train)\n",
        "\n",
        "gnb_pred = gnb_best.predict(x_val)\n",
        "print(f\"Accuracy: {round(metrics.accuracy_score(y_val, gnb_pred)*100, 2)}%\")"
      ],
      "execution_count": 15,
      "outputs": [
        {
          "output_type": "stream",
          "text": [
            "Accuracy: 72.02%\n"
          ],
          "name": "stdout"
        }
      ]
    },
    {
      "cell_type": "code",
      "metadata": {
        "id": "0hqoaOpvQCxh",
        "outputId": "15e82ffe-fb41-4b4a-9bd4-83543e6855a0",
        "colab": {
          "base_uri": "https://localhost:8080/"
        }
      },
      "source": [
        "cfm = confusion_matrix(y_val, gnb_pred)\n",
        "print(cfm)\n",
        "print('The accuracy of the model is: ',accuracy_score(gnb_pred, y_val))\n",
        "print(classification_report(gnb_pred, y_val))"
      ],
      "execution_count": null,
      "outputs": [
        {
          "output_type": "stream",
          "text": [
            "[[5146 1029]\n",
            " [2399 3676]]\n",
            "The accuracy of the model is:  0.7201632653061224\n",
            "              precision    recall  f1-score   support\n",
            "\n",
            "           0       0.83      0.68      0.75      7545\n",
            "           1       0.61      0.78      0.68      4705\n",
            "\n",
            "    accuracy                           0.72     12250\n",
            "   macro avg       0.72      0.73      0.72     12250\n",
            "weighted avg       0.75      0.72      0.72     12250\n",
            "\n"
          ],
          "name": "stdout"
        }
      ]
    },
    {
      "cell_type": "code",
      "metadata": {
        "id": "0Jwj1gjhi_gL",
        "outputId": "dfe20459-d44b-4078-a346-f72a877f542f"
      },
      "source": [
        "prob = gnb_best.predict_proba(x_val)\n",
        "prob = prob[:, 1]\n",
        "\n",
        "auc = roc_auc_score(y_val, prob)\n",
        "print('ROC AUC=%.3f' % (auc))\n",
        "fpr, tpr, _ = roc_curve(y_val, prob)\n",
        "\n",
        "\n",
        "plt.figure(figsize=(16,8))\n",
        "plt.plot(fpr, tpr, marker='.', label='Naive Bayes Guassian')\n",
        "plt.plot([0, 1], [0, 1],'r--')\n",
        "# axis labels\n",
        "plt.xlabel('False Positive Rate')\n",
        "plt.ylabel('True Positive Rate')\n",
        "# show the legend\n",
        "plt.legend()\n",
        "# show the plot\n",
        "plt.show()"
      ],
      "execution_count": null,
      "outputs": [
        {
          "output_type": "stream",
          "text": [
            "ROC AUC=0.786\n"
          ],
          "name": "stdout"
        },
        {
          "output_type": "display_data",
          "data": {
            "image/png": "[encoded data removed]",
            "text/plain": [
              "<Figure size 1152x576 with 1 Axes>"
            ]
          },
          "metadata": {
            "tags": [],
            "needs_background": "light"
          }
        }
      ]
    },
    {
      "cell_type": "markdown",
      "metadata": {
        "id": "AYrLEq-F9Vby"
      },
      "source": [
        "# Multinomial Naive Bayes Classifier"
      ]
    },
    {
      "cell_type": "markdown",
      "metadata": {
        "id": "3wkiVxzW9btn"
      },
      "source": [
        "Base model for MNB"
      ]
    },
    {
      "cell_type": "code",
      "metadata": {
        "id": "6hX4O18D9U44"
      },
      "source": [
        "mnb = MultinomialNB(alpha=0.5)\n",
        "mnb=mnb.fit(x_train, y_train)\n",
        "pred = mnb.predict(x_val)"
      ],
      "execution_count": null,
      "outputs": []
    },
    {
      "cell_type": "code",
      "metadata": {
        "id": "cCAaQDXjRP3V",
        "outputId": "c0a0149a-eb03-42f4-9dc7-27ec1e14b66a",
        "colab": {
          "base_uri": "https://localhost:8080/"
        }
      },
      "source": [
        "cfm = confusion_matrix(y_val, pred)\n",
        "print(cfm)\n",
        "print('The accuracy of the model is: ',accuracy_score(pred, y_val))\n",
        "print(classification_report(pred, y_val))"
      ],
      "execution_count": null,
      "outputs": [
        {
          "output_type": "stream",
          "text": [
            "[[4647 1528]\n",
            " [2980 3095]]\n",
            "The accuracy of the model is:  0.632\n",
            "              precision    recall  f1-score   support\n",
            "\n",
            "           0       0.75      0.61      0.67      7627\n",
            "           1       0.51      0.67      0.58      4623\n",
            "\n",
            "    accuracy                           0.63     12250\n",
            "   macro avg       0.63      0.64      0.63     12250\n",
            "weighted avg       0.66      0.63      0.64     12250\n",
            "\n"
          ],
          "name": "stdout"
        }
      ]
    },
    {
      "cell_type": "code",
      "metadata": {
        "id": "SoYyCZt790Qm",
        "outputId": "84265f33-89bd-4b5f-bf4f-1688e3679d01",
        "colab": {
          "base_uri": "https://localhost:8080/"
        }
      },
      "source": [
        "mnb_pred = mnb.predict(x_val)\n",
        "print(f\"Accuracy: {round(metrics.accuracy_score(y_val, mnb_pred)*100, 2)}%\")"
      ],
      "execution_count": null,
      "outputs": [
        {
          "output_type": "stream",
          "text": [
            "Accuracy: 63.2%\n"
          ],
          "name": "stdout"
        }
      ]
    },
    {
      "cell_type": "markdown",
      "metadata": {
        "id": "_V8rvl4F-HGU"
      },
      "source": [
        "# MNB Best Model using GridSearch"
      ]
    },
    {
      "cell_type": "code",
      "metadata": {
        "id": "vVD9xY7r-Gp8",
        "outputId": "8af6be22-c37f-4d85-b76a-a0500f670131",
        "colab": {
          "base_uri": "https://localhost:8080/"
        }
      },
      "source": [
        "#We can tune using the GridSearchCV\n",
        "mnb_grid = MultinomialNB()\n",
        "tuned_parameters = [{'alpha': [10,2,1,0.5,0.03,0.05]}]\n",
        "\n",
        "grid_search = GridSearchCV(estimator = mnb_grid, param_grid = tuned_parameters, cv = 3, n_jobs = -1, verbose = 2)\n",
        "\n",
        "grid_search.fit(x_train,y_train)"
      ],
      "execution_count": null,
      "outputs": [
        {
          "output_type": "stream",
          "text": [
            "Fitting 3 folds for each of 6 candidates, totalling 18 fits\n"
          ],
          "name": "stdout"
        },
        {
          "output_type": "stream",
          "text": [
            "[Parallel(n_jobs=-1)]: Using backend LokyBackend with 12 concurrent workers.\n",
            "[Parallel(n_jobs=-1)]: Done   5 out of  18 | elapsed:    0.0s remaining:    0.2s\n",
            "[Parallel(n_jobs=-1)]: Done  15 out of  18 | elapsed:    0.1s remaining:    0.0s\n",
            "[Parallel(n_jobs=-1)]: Done  18 out of  18 | elapsed:    0.2s finished\n"
          ],
          "name": "stderr"
        },
        {
          "output_type": "execute_result",
          "data": {
            "text/plain": [
              "GridSearchCV(cv=3, error_score=nan,\n",
              "             estimator=MultinomialNB(alpha=1.0, class_prior=None,\n",
              "                                     fit_prior=True),\n",
              "             iid='deprecated', n_jobs=-1,\n",
              "             param_grid=[{'alpha': [10, 2, 1, 0.5, 0.03, 0.05]}],\n",
              "             pre_dispatch='2*n_jobs', refit=True, return_train_score=False,\n",
              "             scoring=None, verbose=2)"
            ]
          },
          "metadata": {
            "tags": []
          },
          "execution_count": 131
        }
      ]
    },
    {
      "cell_type": "code",
      "metadata": {
        "id": "t8FH68ES-DWy",
        "outputId": "8216c18a-f66a-4681-fe43-bed5850d4267",
        "colab": {
          "base_uri": "https://localhost:8080/"
        }
      },
      "source": [
        "print(grid_search.best_params_)  #getting the best parameters"
      ],
      "execution_count": null,
      "outputs": [
        {
          "output_type": "stream",
          "text": [
            "{'alpha': 10}\n"
          ],
          "name": "stdout"
        }
      ]
    },
    {
      "cell_type": "code",
      "metadata": {
        "id": "2LivbkQ4_HAN"
      },
      "source": [
        "#building best model for the MNB\n",
        "mnb_best = MultinomialNB(alpha=10)\n",
        "mnb_best=mnb_best.fit(x_train, y_train)\n",
        "pred = mnb_best.predict(x_val)"
      ],
      "execution_count": 16,
      "outputs": []
    },
    {
      "cell_type": "code",
      "metadata": {
        "id": "HmH-oMf2_L2G",
        "outputId": "686bc90c-1bfc-4bdd-9fcd-621e0fd00a35",
        "colab": {
          "base_uri": "https://localhost:8080/"
        }
      },
      "source": [
        "#confusion matrix to see evaluation metrics\n",
        "cfm = confusion_matrix(y_val, pred)\n",
        "print(cfm)\n",
        "print('The accuracy of the model is: ',accuracy_score(pred, y_val))\n",
        "print(classification_report(pred, y_val))"
      ],
      "execution_count": 17,
      "outputs": [
        {
          "output_type": "stream",
          "text": [
            "[[4647 1528]\n",
            " [2978 3097]]\n",
            "The accuracy of the model is:  0.6321632653061224\n",
            "              precision    recall  f1-score   support\n",
            "\n",
            "           0       0.75      0.61      0.67      7625\n",
            "           1       0.51      0.67      0.58      4625\n",
            "\n",
            "    accuracy                           0.63     12250\n",
            "   macro avg       0.63      0.64      0.63     12250\n",
            "weighted avg       0.66      0.63      0.64     12250\n",
            "\n"
          ],
          "name": "stdout"
        }
      ]
    },
    {
      "cell_type": "code",
      "metadata": {
        "id": "F9Dtp6Pg_NmA",
        "outputId": "c6061e17-d85a-4e7c-fa93-26fd94048760",
        "colab": {
          "base_uri": "https://localhost:8080/"
        }
      },
      "source": [
        "mnb_pred = mnb_best.predict(x_val)\n",
        "print(f\"Accuracy: {round(metrics.accuracy_score(y_val, mnb_pred)*100, 2)}%\")"
      ],
      "execution_count": 18,
      "outputs": [
        {
          "output_type": "stream",
          "text": [
            "Accuracy: 63.22%\n"
          ],
          "name": "stdout"
        }
      ]
    },
    {
      "cell_type": "code",
      "metadata": {
        "id": "ziybnGARi_gm",
        "outputId": "9806a8b4-0221-430c-e69a-b82ba43b3fe9"
      },
      "source": [
        "prob = mnb_best.predict_proba(x_val)\n",
        "prob = prob[:, 1]\n",
        "\n",
        "auc = roc_auc_score(y_val, prob)\n",
        "print('ROC AUC=%.3f' % (auc))\n",
        "fpr, tpr, _ = roc_curve(y_val, prob)\n",
        "\n",
        "\n",
        "plt.figure(figsize=(16,8))\n",
        "plt.plot(fpr, tpr, marker='.', label='Multinomial Naive Bayes')\n",
        "plt.plot([0, 1], [0, 1],'r--')\n",
        "# axis labels\n",
        "plt.xlabel('False Positive Rate')\n",
        "plt.ylabel('True Positive Rate')\n",
        "# show the legend\n",
        "plt.legend()\n",
        "# show the plot\n",
        "plt.show()"
      ],
      "execution_count": null,
      "outputs": [
        {
          "output_type": "stream",
          "text": [
            "ROC AUC=0.694\n"
          ],
          "name": "stdout"
        },
        {
          "output_type": "display_data",
          "data": {
            "image/png": "[encoded data removed]",
            "text/plain": [
              "<Figure size 1152x576 with 1 Axes>"
            ]
          },
          "metadata": {
            "tags": [],
            "needs_background": "light"
          }
        }
      ]
    },
    {
      "cell_type": "markdown",
      "metadata": {
        "id": "oMFLpZ7JAHUW"
      },
      "source": [
        "# KNN: Base Model"
      ]
    },
    {
      "cell_type": "markdown",
      "metadata": {
        "id": "NKDqB2dvBLSH"
      },
      "source": [
        "KNN are sensitive to the outliers. We will compare the model with standardized data and non-standardized data. Based on performance, we will move ahead."
      ]
    },
    {
      "cell_type": "code",
      "metadata": {
        "id": "Nk0GZaoK_PuG",
        "outputId": "8678dc59-ca33-46f2-cf29-2b183252351c",
        "colab": {
          "base_uri": "https://localhost:8080/"
        }
      },
      "source": [
        "classifier = KNeighborsClassifier()\n",
        "classifier.fit(x_train, y_train)\n",
        "\n",
        "y_pred = classifier.predict(x_val)\n",
        "print(f\"Accuracy: {round(metrics.accuracy_score(y_val_std, y_pred)*100, 2)}%\")"
      ],
      "execution_count": null,
      "outputs": [
        {
          "output_type": "stream",
          "text": [
            "Accuracy: 69.15%\n"
          ],
          "name": "stdout"
        }
      ]
    },
    {
      "cell_type": "code",
      "metadata": {
        "id": "D9IU_kwNBbzl",
        "outputId": "f44a9682-88fb-4b24-ad79-40d4d70f90e3",
        "colab": {
          "base_uri": "https://localhost:8080/"
        }
      },
      "source": [
        "#implementation with the standardized dataset\n",
        "classifier = KNeighborsClassifier()\n",
        "classifier.fit(x_train_std, y_train)\n",
        "\n",
        "y_pred = classifier.predict(x_val_std)\n",
        "print(f\"Accuracy: {round(metrics.accuracy_score(y_val_std, y_pred)*100, 2)}%\")"
      ],
      "execution_count": null,
      "outputs": [
        {
          "output_type": "stream",
          "text": [
            "Accuracy: 68.85%\n"
          ],
          "name": "stdout"
        }
      ]
    },
    {
      "cell_type": "markdown",
      "metadata": {
        "id": "51yw2WqTB8q-"
      },
      "source": [
        "Based on the above results we can clearly see that the model performs similar on standardized data and non-standardized data. Despite the same results we will move ahead with the standardized dataset. \n",
        "\n",
        "Reason: The k-nearest neighbor algorithm relies on majority voting based on class membership of 'k' nearest samples for a given test point. The nearness of samples is typically based on Euclidean distance. Since it is based on eucleadian distance we can consider the standardized data."
      ]
    },
    {
      "cell_type": "markdown",
      "metadata": {
        "id": "OiJ4LMHjCLWZ"
      },
      "source": [
        "# KNN Best Model using GridSearch "
      ]
    },
    {
      "cell_type": "code",
      "metadata": {
        "id": "W_xxFnowB6O7",
        "outputId": "427880bb-86e2-4eaf-873a-1a5549dae551",
        "colab": {
          "base_uri": "https://localhost:8080/"
        }
      },
      "source": [
        "#create a dictionary of all values we want to test for n_neighbors\n",
        "knn = KNeighborsClassifier()\n",
        "grid_search = {'n_neighbors': [20,40,60,80,100,150,175,200, 250],'p':[1,2,3,4]}\n",
        "\n",
        "#use gridsearch to test all values for n_neighbors\n",
        "grid_search = GridSearchCV(knn, grid_search, cv=3,n_jobs=-1)\n",
        "grid_search.fit(x_train_std,y_train_std)"
      ],
      "execution_count": null,
      "outputs": [
        {
          "output_type": "execute_result",
          "data": {
            "text/plain": [
              "GridSearchCV(cv=3, error_score=nan,\n",
              "             estimator=KNeighborsClassifier(algorithm='auto', leaf_size=30,\n",
              "                                            metric='minkowski',\n",
              "                                            metric_params=None, n_jobs=None,\n",
              "                                            n_neighbors=5, p=2,\n",
              "                                            weights='uniform'),\n",
              "             iid='deprecated', n_jobs=-1,\n",
              "             param_grid={'n_neighbors': [20, 40, 60, 80, 100, 150, 175, 200,\n",
              "                                         250],\n",
              "                         'p': [1, 2, 3, 4]},\n",
              "             pre_dispatch='2*n_jobs', refit=True, return_train_score=False,\n",
              "             scoring=None, verbose=0)"
            ]
          },
          "metadata": {
            "tags": []
          },
          "execution_count": 6
        }
      ]
    },
    {
      "cell_type": "code",
      "metadata": {
        "id": "0sOeKhRKDMA8",
        "outputId": "2d2bd00a-3e8e-4f1a-e99f-fd762f702ac2",
        "colab": {
          "base_uri": "https://localhost:8080/"
        }
      },
      "source": [
        "print(grid_search.best_params_)  #getting the best parameters"
      ],
      "execution_count": null,
      "outputs": [
        {
          "output_type": "stream",
          "text": [
            "{'n_neighbors': 60, 'p': 1}\n"
          ],
          "name": "stdout"
        }
      ]
    },
    {
      "cell_type": "code",
      "metadata": {
        "id": "OtEKExbsDNan",
        "outputId": "276f21cf-7d5e-4f9e-f5f5-f518b141938f",
        "colab": {
          "base_uri": "https://localhost:8080/"
        }
      },
      "source": [
        "#implementation of best model with the standardized dataset\n",
        "classifier = KNeighborsClassifier(n_neighbors=60,p=1)\n",
        "classifier = classifier.fit(x_train_std, y_train_std)\n",
        "\n",
        "y_pred = classifier.predict(x_val_std)\n",
        "print(f\"Accuracy: {round(metrics.accuracy_score(y_val_std, y_pred)*100, 2)}%\")"
      ],
      "execution_count": 36,
      "outputs": [
        {
          "output_type": "stream",
          "text": [
            "Accuracy: 72.26%\n"
          ],
          "name": "stdout"
        }
      ]
    },
    {
      "cell_type": "code",
      "metadata": {
        "id": "Z3lVB3WHDXdq",
        "outputId": "bf55230e-5692-4e7b-87b1-d4ffaca0ee62",
        "colab": {
          "base_uri": "https://localhost:8080/"
        }
      },
      "source": [
        "#confusion matrix to see evaluation metrics\n",
        "cfm = confusion_matrix(y_val_std, y_pred)\n",
        "print(cfm)\n",
        "print('The accuracy of the model is: ',accuracy_score(y_pred, y_val_std))\n",
        "print(classification_report(y_pred, y_val_std))"
      ],
      "execution_count": null,
      "outputs": [
        {
          "output_type": "stream",
          "text": [
            "[[4766 1409]\n",
            " [1989 4086]]\n",
            "The accuracy of the model is:  0.7226122448979592\n",
            "              precision    recall  f1-score   support\n",
            "\n",
            "           0       0.77      0.71      0.74      6755\n",
            "           1       0.67      0.74      0.71      5495\n",
            "\n",
            "    accuracy                           0.72     12250\n",
            "   macro avg       0.72      0.72      0.72     12250\n",
            "weighted avg       0.73      0.72      0.72     12250\n",
            "\n"
          ],
          "name": "stdout"
        }
      ]
    },
    {
      "cell_type": "markdown",
      "metadata": {
        "id": "Nan1XswHKjwG"
      },
      "source": [
        "# Support Vector Machine (SVM)"
      ]
    },
    {
      "cell_type": "markdown",
      "metadata": {
        "id": "lkhDKoLOKpEg"
      },
      "source": [
        "1) Linear SVC\n",
        "2) Non-Linear SVM"
      ]
    },
    {
      "cell_type": "markdown",
      "metadata": {
        "id": "kVYcgP5ZLRxw"
      },
      "source": [
        "The performance of support vector machine will be affected if the values are not standardized. Therefore, we need to consider the standardized test and train dataset"
      ]
    },
    {
      "cell_type": "code",
      "metadata": {
        "id": "fZKz_pUwDn_P",
        "outputId": "7aaeb394-b8f2-4314-fb71-f1d98d241c79",
        "colab": {
          "base_uri": "https://localhost:8080/"
        }
      },
      "source": [
        "#Best Linear Support Vector Classifier\n",
        "\n",
        "lin_clf = svm.LinearSVC()\n",
        "\n",
        "param_grid = {'C':[0.25,0.5,0.75,1],'penalty':['l2']}\n",
        "\n",
        "grid_search = GridSearchCV(lin_clf,param_grid,cv=3)\n",
        "grid_search.fit(x_train_std,y_train_std)"
      ],
      "execution_count": null,
      "outputs": [
        {
          "output_type": "execute_result",
          "data": {
            "text/plain": [
              "GridSearchCV(cv=3, error_score=nan,\n",
              "             estimator=LinearSVC(C=1.0, class_weight=None, dual=True,\n",
              "                                 fit_intercept=True, intercept_scaling=1,\n",
              "                                 loss='squared_hinge', max_iter=1000,\n",
              "                                 multi_class='ovr', penalty='l2',\n",
              "                                 random_state=None, tol=0.0001, verbose=0),\n",
              "             iid='deprecated', n_jobs=None,\n",
              "             param_grid={'C': [0.25, 0.5, 0.75, 1], 'penalty': ['l2']},\n",
              "             pre_dispatch='2*n_jobs', refit=True, return_train_score=False,\n",
              "             scoring=None, verbose=0)"
            ]
          },
          "metadata": {
            "tags": []
          },
          "execution_count": 131
        }
      ]
    },
    {
      "cell_type": "code",
      "metadata": {
        "id": "2BoPOxXFMc3D",
        "outputId": "59de5288-4cb3-44b1-aa2c-fe1512e593e1",
        "colab": {
          "base_uri": "https://localhost:8080/"
        }
      },
      "source": [
        "print(grid_search.best_params_)  #getting the best parameters"
      ],
      "execution_count": null,
      "outputs": [
        {
          "output_type": "stream",
          "text": [
            "{'C': 1, 'penalty': 'l2'}\n"
          ],
          "name": "stdout"
        }
      ]
    },
    {
      "cell_type": "code",
      "metadata": {
        "id": "jmrbLyroMkiE",
        "outputId": "8d3af6a8-54b5-44cf-f132-c7f7612385e4",
        "colab": {
          "base_uri": "https://localhost:8080/"
        }
      },
      "source": [
        "#Linear SVC best model\n",
        "lin_clf_best = svm.LinearSVC(C=1,penalty='l2')\n",
        "lin_clf_best = lin_clf_best.fit(x_train_std,y_train_std)\n",
        "\n",
        "y_pred = lin_clf_best.predict(x_val_std)\n",
        "print(f\"Accuracy: {round(metrics.accuracy_score(y_val_std, y_pred)*100, 2)}%\")"
      ],
      "execution_count": 20,
      "outputs": [
        {
          "output_type": "stream",
          "text": [
            "Accuracy: 72.96%\n"
          ],
          "name": "stdout"
        }
      ]
    },
    {
      "cell_type": "code",
      "metadata": {
        "id": "Y6MD3GQAM5yV",
        "outputId": "4936cd5a-5105-4270-9b50-d066b5ae1fc3",
        "colab": {
          "base_uri": "https://localhost:8080/"
        }
      },
      "source": [
        "#confusion matrix to see evaluation metrics\n",
        "cfm = confusion_matrix(y_val_std, y_pred)\n",
        "print(cfm)\n",
        "print('The accuracy of the model is: ',accuracy_score(y_pred, y_val_std))\n",
        "print(classification_report(y_pred, y_val_std))"
      ],
      "execution_count": null,
      "outputs": [
        {
          "output_type": "stream",
          "text": [
            "[[4844 1331]\n",
            " [1982 4093]]\n",
            "The accuracy of the model is:  0.7295510204081632\n",
            "              precision    recall  f1-score   support\n",
            "\n",
            "           0       0.78      0.71      0.75      6826\n",
            "           1       0.67      0.75      0.71      5424\n",
            "\n",
            "    accuracy                           0.73     12250\n",
            "   macro avg       0.73      0.73      0.73     12250\n",
            "weighted avg       0.74      0.73      0.73     12250\n",
            "\n"
          ],
          "name": "stdout"
        }
      ]
    },
    {
      "cell_type": "markdown",
      "metadata": {
        "id": "OU5oNdiVxwdA"
      },
      "source": [
        "# Non-Linear SVM"
      ]
    },
    {
      "cell_type": "code",
      "metadata": {
        "id": "ExSKSS0OM9vt"
      },
      "source": [
        "#Non Linear SVM\n",
        "\n",
        "rbf_clf = svm.SVC()\n",
        "\n",
        "param_grid = {'C':[0.25,0.75,1], 'gamma':[0.001,0.1,0.7,0.8,0.9,1]}\n",
        "grid_search = GridSearchCV(rbf_clf, param_grid, cv=3,n_jobs=-1)\n",
        "grid_search.fit(x_train, y_train)"
      ],
      "execution_count": null,
      "outputs": []
    },
    {
      "cell_type": "code",
      "metadata": {
        "id": "8famIyxQOQ08"
      },
      "source": [
        "print(grid_search.best_params_)  #getting the best parameters"
      ],
      "execution_count": null,
      "outputs": []
    },
    {
      "cell_type": "code",
      "metadata": {
        "id": "_qFemJP1OZ9U",
        "outputId": "5eb60679-9ef0-4c52-ca78-e1947b115a77",
        "colab": {
          "base_uri": "https://localhost:8080/"
        }
      },
      "source": [
        "#preparing the best non-linear svm using the best parameters\n",
        "rbf_clf_best = svm.SVC(C=1,gamma=0.7,probability=True)\n",
        "rbf_clf_best = rbf_clf_best.fit(x_train,y_train)\n",
        "\n",
        "y_pred = rbf_clf_best.predict(x_val)\n",
        "print(f\"Accuracy: {round(metrics.accuracy_score(y_val_std, y_pred)*100, 2)}%\")"
      ],
      "execution_count": 35,
      "outputs": [
        {
          "output_type": "stream",
          "text": [
            "Accuracy: 71.13%\n"
          ],
          "name": "stdout"
        }
      ]
    },
    {
      "cell_type": "code",
      "metadata": {
        "id": "Qgoqy9oEi_hV",
        "outputId": "58304904-41f3-4125-b560-eaf4378e4346"
      },
      "source": [
        "prob = rbf_clf_best.predict_proba(x_val)\n",
        "prob = prob[:, 1]\n",
        "\n",
        "auc = roc_auc_score(y_val, prob)\n",
        "print('ROC AUC=%.3f' % (auc))\n",
        "fpr, tpr, _ = roc_curve(y_val, prob)\n",
        "\n",
        "\n",
        "plt.figure(figsize=(16,8))\n",
        "plt.plot(fpr, tpr, marker='.', label='SVM RBF')\n",
        "plt.plot([0, 1], [0, 1],'r--')\n",
        "# axis labels\n",
        "plt.xlabel('False Positive Rate')\n",
        "plt.ylabel('True Positive Rate')\n",
        "# show the legend\n",
        "plt.legend()\n",
        "# show the plot\n",
        "plt.show()"
      ],
      "execution_count": null,
      "outputs": [
        {
          "output_type": "stream",
          "text": [
            "ROC AUC=0.748\n"
          ],
          "name": "stdout"
        },
        {
          "output_type": "display_data",
          "data": {
            "image/png": "[encoded data removed]",
            "text/plain": [
              "<Figure size 1152x576 with 1 Axes>"
            ]
          },
          "metadata": {
            "tags": [],
            "needs_background": "light"
          }
        }
      ]
    },
    {
      "cell_type": "markdown",
      "metadata": {
        "id": "760C55oThdLf"
      },
      "source": [
        "# Random Forest "
      ]
    },
    {
      "cell_type": "markdown",
      "metadata": {
        "id": "bKxkeYA_iak2"
      },
      "source": [
        "Implementation of base model on non-standardized dataset. \n",
        "\n",
        "Reason: Random Forest is a tree-based model and hence does not require feature scaling. Even if you apply Normalization then also the result would be the same."
      ]
    },
    {
      "cell_type": "code",
      "metadata": {
        "id": "zI1H--jYi9aY",
        "outputId": "50279b3a-8e86-48a2-cabd-118abffd9c26",
        "colab": {
          "base_uri": "https://localhost:8080/"
        }
      },
      "source": [
        "rf_clf = RandomForestClassifier(n_estimators=100, max_features=5, random_state=16)\n",
        "results = cross_val_score(rf_clf, x_train, y_train, cv=3)\n",
        "print(f\"Accuracy: {round(metrics.accuracy_score(y_val, y_pred)*100, 2)}%\")"
      ],
      "execution_count": null,
      "outputs": [
        {
          "output_type": "stream",
          "text": [
            "Accuracy: 61.67%\n"
          ],
          "name": "stdout"
        }
      ]
    },
    {
      "cell_type": "markdown",
      "metadata": {
        "id": "BINpMvPejxM_"
      },
      "source": [
        "# Random Forest: Grid Search Implementation "
      ]
    },
    {
      "cell_type": "code",
      "metadata": {
        "id": "io0fMCY-jnEZ",
        "outputId": "367db69a-ff40-4eba-e871-42cc255e8cd3",
        "colab": {
          "base_uri": "https://localhost:8080/"
        }
      },
      "source": [
        "rf_grid = RandomForestClassifier()\n",
        "\n",
        "grid_search = {'n_estimators':[50,100,150,200,250], \n",
        "              'max_features':[2,3,4,5,6],\n",
        "              'min_samples_split': [5, 10],\n",
        "              'max_depth': [ 15, 20,30],\n",
        "              'min_samples_leaf': [ 5, 10]}\n",
        "\n",
        "#use gridsearch to get the best paramenters\n",
        "rf_grid = GridSearchCV(rf_grid, grid_search, cv=3,n_jobs=-1)\n",
        "\n",
        "#fit model to data\n",
        "rf_grid.fit(x_train, y_train)\n",
        "rf_grid.best_params_"
      ],
      "execution_count": null,
      "outputs": [
        {
          "output_type": "execute_result",
          "data": {
            "text/plain": [
              "{'max_depth': 20,\n",
              " 'max_features': 3,\n",
              " 'min_samples_leaf': 10,\n",
              " 'min_samples_split': 5,\n",
              " 'n_estimators': 50}"
            ]
          },
          "metadata": {
            "tags": []
          },
          "execution_count": 58
        }
      ]
    },
    {
      "cell_type": "code",
      "metadata": {
        "id": "RFjWqTXukN8P",
        "outputId": "5d3fc75e-9f9d-41ff-a94e-500264de3adc",
        "colab": {
          "base_uri": "https://localhost:8080/"
        }
      },
      "source": [
        "rf_clf_best = RandomForestClassifier(n_estimators=50, max_features=3, max_depth=20, min_samples_leaf=10,min_samples_split=5,random_state=16)\n",
        "rf_model=rf_clf_best.fit(x_train,y_train)\n",
        "y_pred = rf_model.predict(x_val)\n",
        "print(f\"Accuracy: {round(metrics.accuracy_score(y_val, y_pred)*100, 2)}%\")"
      ],
      "execution_count": 29,
      "outputs": [
        {
          "output_type": "stream",
          "text": [
            "Accuracy: 73.25%\n"
          ],
          "name": "stdout"
        }
      ]
    },
    {
      "cell_type": "code",
      "metadata": {
        "id": "l5pYp8cli_hm",
        "outputId": "c2a129fe-4db9-4578-d980-61dcc8babdbd"
      },
      "source": [
        "#confusion matrix to see evaluation metrics\n",
        "cfm = confusion_matrix(y_val, y_pred)\n",
        "print(cfm)\n",
        "print('The accuracy of the model is: ',accuracy_score(y_pred, y_val))\n",
        "print(classification_report(y_pred, y_val))"
      ],
      "execution_count": null,
      "outputs": [
        {
          "output_type": "stream",
          "text": [
            "[[4806 1369]\n",
            " [1871 4204]]\n",
            "The accuracy of the model is:  0.7355102040816327\n",
            "              precision    recall  f1-score   support\n",
            "\n",
            "           0       0.78      0.72      0.75      6677\n",
            "           1       0.69      0.75      0.72      5573\n",
            "\n",
            "    accuracy                           0.74     12250\n",
            "   macro avg       0.74      0.74      0.73     12250\n",
            "weighted avg       0.74      0.74      0.74     12250\n",
            "\n"
          ],
          "name": "stdout"
        }
      ]
    },
    {
      "cell_type": "code",
      "metadata": {
        "id": "pM1c_OiArxQ_",
        "outputId": "cc7a679b-7ae7-4b22-a0ed-3185d158fdbb",
        "colab": {
          "base_uri": "https://localhost:8080/",
          "height": 514
        }
      },
      "source": [
        "#AUC ROC curve\n",
        "prob = rf_clf_best.predict_proba(x_val)\n",
        "prob = prob[:, 1]\n",
        "\n",
        "auc = roc_auc_score(y_val, prob)\n",
        "print('ROC AUC=%.3f' % (auc))\n",
        "fpr, tpr, _ = roc_curve(y_val, prob)\n",
        "\n",
        "\n",
        "plt.figure(figsize=(16,8))\n",
        "plt.plot(fpr, tpr, marker='.', label='Random Forest')\n",
        "plt.plot([0, 1], [0, 1],'r--')\n",
        "# axis labels\n",
        "plt.xlabel('False Positive Rate')\n",
        "plt.ylabel('True Positive Rate')\n",
        "# show the legend\n",
        "plt.legend()\n",
        "# show the plot\n",
        "plt.show()"
      ],
      "execution_count": null,
      "outputs": [
        {
          "output_type": "stream",
          "text": [
            "ROC AUC=0.800\n"
          ],
          "name": "stdout"
        },
        {
          "output_type": "display_data",
          "data": {
            "image/png": "[encoded data removed]",
            "text/plain": [
              "<Figure size 1152x576 with 1 Axes>"
            ]
          },
          "metadata": {
            "tags": [],
            "needs_background": "light"
          }
        }
      ]
    },
    {
      "cell_type": "code",
      "metadata": {
        "id": "VCZ1CqVWutiZ",
        "outputId": "aa1c86b1-07c8-467b-e730-f02337cc5e11",
        "colab": {
          "base_uri": "https://localhost:8080/",
          "height": 545
        }
      },
      "source": [
        "#Feature Importance\n",
        "\n",
        "feature_imp = pd.DataFrame(rf_clf_best.feature_importances_, index=x_train.columns,\n",
        "columns=['importance']).sort_values('importance', ascending=False)\n",
        "feature_imp"
      ],
      "execution_count": null,
      "outputs": [
        {
          "output_type": "execute_result",
          "data": {
            "text/html": [
              "<div>\n",
              "<style scoped>\n",
              "    .dataframe tbody tr th:only-of-type {\n",
              "        vertical-align: middle;\n",
              "    }\n",
              "\n",
              "    .dataframe tbody tr th {\n",
              "        vertical-align: top;\n",
              "    }\n",
              "\n",
              "    .dataframe thead th {\n",
              "        text-align: right;\n",
              "    }\n",
              "</style>\n",
              "<table border=\"1\" class=\"dataframe\">\n",
              "  <thead>\n",
              "    <tr style=\"text-align: right;\">\n",
              "      <th></th>\n",
              "      <th>importance</th>\n",
              "    </tr>\n",
              "  </thead>\n",
              "  <tbody>\n",
              "    <tr>\n",
              "      <th>High Blood Pressure</th>\n",
              "      <td>0.395632</td>\n",
              "    </tr>\n",
              "    <tr>\n",
              "      <th>Low Blood Pressure</th>\n",
              "      <td>0.158727</td>\n",
              "    </tr>\n",
              "    <tr>\n",
              "      <th>Age</th>\n",
              "      <td>0.145732</td>\n",
              "    </tr>\n",
              "    <tr>\n",
              "      <th>Weight</th>\n",
              "      <td>0.098477</td>\n",
              "    </tr>\n",
              "    <tr>\n",
              "      <th>Height</th>\n",
              "      <td>0.076555</td>\n",
              "    </tr>\n",
              "    <tr>\n",
              "      <th>Cholesterol_normal</th>\n",
              "      <td>0.037322</td>\n",
              "    </tr>\n",
              "    <tr>\n",
              "      <th>Cholesterol_too high</th>\n",
              "      <td>0.034443</td>\n",
              "    </tr>\n",
              "    <tr>\n",
              "      <th>Exercise</th>\n",
              "      <td>0.011641</td>\n",
              "    </tr>\n",
              "    <tr>\n",
              "      <th>Cholesterol_high</th>\n",
              "      <td>0.007485</td>\n",
              "    </tr>\n",
              "    <tr>\n",
              "      <th>Gender_female</th>\n",
              "      <td>0.006964</td>\n",
              "    </tr>\n",
              "    <tr>\n",
              "      <th>Gender_male</th>\n",
              "      <td>0.006633</td>\n",
              "    </tr>\n",
              "    <tr>\n",
              "      <th>Glucose_normal</th>\n",
              "      <td>0.005682</td>\n",
              "    </tr>\n",
              "    <tr>\n",
              "      <th>Smoke</th>\n",
              "      <td>0.004881</td>\n",
              "    </tr>\n",
              "    <tr>\n",
              "      <th>Glucose_too high</th>\n",
              "      <td>0.004317</td>\n",
              "    </tr>\n",
              "    <tr>\n",
              "      <th>Glucose_high</th>\n",
              "      <td>0.002975</td>\n",
              "    </tr>\n",
              "    <tr>\n",
              "      <th>Alcohol</th>\n",
              "      <td>0.002534</td>\n",
              "    </tr>\n",
              "  </tbody>\n",
              "</table>\n",
              "</div>"
            ],
            "text/plain": [
              "                      importance\n",
              "High Blood Pressure     0.395632\n",
              "Low Blood Pressure      0.158727\n",
              "Age                     0.145732\n",
              "Weight                  0.098477\n",
              "Height                  0.076555\n",
              "Cholesterol_normal      0.037322\n",
              "Cholesterol_too high    0.034443\n",
              "Exercise                0.011641\n",
              "Cholesterol_high        0.007485\n",
              "Gender_female           0.006964\n",
              "Gender_male             0.006633\n",
              "Glucose_normal          0.005682\n",
              "Smoke                   0.004881\n",
              "Glucose_too high        0.004317\n",
              "Glucose_high            0.002975\n",
              "Alcohol                 0.002534"
            ]
          },
          "metadata": {
            "tags": []
          },
          "execution_count": 26
        }
      ]
    },
    {
      "cell_type": "markdown",
      "metadata": {
        "id": "HUqXov49ulgI"
      },
      "source": [
        "# GBM"
      ]
    },
    {
      "cell_type": "markdown",
      "metadata": {
        "id": "QgjTfg6jwVTf"
      },
      "source": [
        "Implementation of base model on non-standardized dataset. We know that GBM can be sensitive to the outliers. Outliers can be bad for boosting because boosting builds each tree on previous trees' residuals/errors. Outliers will have much larger residuals than non-outliers, so gradient boosting will focus a disproportionate amount of its attention on those points. Also, we do not require standardization for GBM."
      ]
    },
    {
      "cell_type": "code",
      "metadata": {
        "id": "Z4reu8B-whNf",
        "outputId": "3fb4a55a-aa05-470a-eeec-dd48a40cafba",
        "colab": {
          "base_uri": "https://localhost:8080/"
        }
      },
      "source": [
        "gbm_model = gbm(n_estimators=100, random_state=16)\n",
        "results = cross_val_score(gbm_model, x_train, y_train, cv=3)\n",
        "print(f\"Accuracy for GBM: {round(results.mean()*100, 2)}%\")"
      ],
      "execution_count": null,
      "outputs": [
        {
          "output_type": "stream",
          "text": [
            "Accuracy for GBM: 73.73%\n"
          ],
          "name": "stdout"
        }
      ]
    },
    {
      "cell_type": "code",
      "metadata": {
        "id": "25SrEZ8jwsWo",
        "outputId": "fbee2810-98e9-4c04-cbb1-03f372f232e5"
      },
      "source": [
        "#Grid search implementation to get the best parameters\n",
        "gbm_model = gbm()\n",
        "grid_search = {'learning_rate': [0.02, 0.1, 0.001],\n",
        "              'n_estimators': [50,100],\n",
        "               'max_depth': [2,10,30],\n",
        "             'min_samples_split': [5, 10],\n",
        "               'min_samples_leaf': [5, 10]}\n",
        "gbm_model = GridSearchCV(gbm_model, grid_search,n_jobs=-1)\n",
        "gbm_model.fit(x_train, y_train)"
      ],
      "execution_count": null,
      "outputs": [
        {
          "output_type": "execute_result",
          "data": {
            "text/plain": [
              "GridSearchCV(cv=None, error_score=nan,\n",
              "             estimator=GradientBoostingClassifier(ccp_alpha=0.0,\n",
              "                                                  criterion='friedman_mse',\n",
              "                                                  init=None, learning_rate=0.1,\n",
              "                                                  loss='deviance', max_depth=3,\n",
              "                                                  max_features=None,\n",
              "                                                  max_leaf_nodes=None,\n",
              "                                                  min_impurity_decrease=0.0,\n",
              "                                                  min_impurity_split=None,\n",
              "                                                  min_samples_leaf=1,\n",
              "                                                  min_samples_split=2,\n",
              "                                                  min_weight_fraction_leaf=0.0,\n",
              "                                                  n_estimators=100,\n",
              "                                                  n_iter_n...\n",
              "                                                  random_state=None,\n",
              "                                                  subsample=1.0, tol=0.0001,\n",
              "                                                  validation_fraction=0.1,\n",
              "                                                  verbose=0, warm_start=False),\n",
              "             iid='deprecated', n_jobs=-1,\n",
              "             param_grid={'learning_rate': [0.02, 0.1, 0.001],\n",
              "                         'max_depth': [2, 10, 30], 'min_samples_leaf': [5, 10],\n",
              "                         'min_samples_split': [5, 10],\n",
              "                         'n_estimators': [50, 100]},\n",
              "             pre_dispatch='2*n_jobs', refit=True, return_train_score=False,\n",
              "             scoring=None, verbose=0)"
            ]
          },
          "metadata": {
            "tags": []
          },
          "execution_count": 31
        }
      ]
    },
    {
      "cell_type": "code",
      "metadata": {
        "id": "J7bXXB1Ni_hz",
        "outputId": "c6e52235-d361-48fe-d9c5-39361099fb05"
      },
      "source": [
        "gbm_model.best_params_"
      ],
      "execution_count": null,
      "outputs": [
        {
          "output_type": "execute_result",
          "data": {
            "text/plain": [
              "{'learning_rate': 0.1,\n",
              " 'max_depth': 2,\n",
              " 'min_samples_leaf': 10,\n",
              " 'min_samples_split': 5,\n",
              " 'n_estimators': 100}"
            ]
          },
          "metadata": {
            "tags": []
          },
          "execution_count": 32
        }
      ]
    },
    {
      "cell_type": "code",
      "metadata": {
        "id": "i-8Ufx-_xvB_",
        "outputId": "03c9643f-2b84-4694-9f4c-6395d09086f4",
        "colab": {
          "base_uri": "https://localhost:8080/"
        }
      },
      "source": [
        "gbm_best_model = gbm(n_estimators=100, learning_rate=0.1,max_depth= 2, random_state=16,min_samples_leaf=10,min_samples_split=5)\n",
        "gbm_best_model = gbm_best_model.fit(x_train,y_train)\n",
        "y_pred = gbm_best_model.predict(x_val)\n",
        "print(f\"Accuracy: {round(metrics.accuracy_score(y_val, y_pred)*100, 2)}%\")"
      ],
      "execution_count": 32,
      "outputs": [
        {
          "output_type": "stream",
          "text": [
            "Accuracy: 73.58%\n"
          ],
          "name": "stdout"
        }
      ]
    },
    {
      "cell_type": "code",
      "metadata": {
        "id": "NBlOI7tLzPpu",
        "outputId": "71ba00ad-bf7e-402f-cd8e-f0b7c8f2cc54"
      },
      "source": [
        "prob = gbm_best_model.predict_proba(x_val)\n",
        "prob = prob[:, 1]\n",
        "\n",
        "auc = roc_auc_score(y_val, prob)\n",
        "print('ROC AUC=%.3f' % (auc))\n",
        "fpr, tpr, _ = roc_curve(y_val, prob)\n",
        "\n",
        "\n",
        "plt.figure(figsize=(16,8))\n",
        "plt.plot(fpr, tpr, marker='.', label='GBM')\n",
        "plt.plot([0, 1], [0, 1],'r--')\n",
        "# axis labels\n",
        "plt.xlabel('False Positive Rate')\n",
        "plt.ylabel('True Positive Rate')\n",
        "# show the legend\n",
        "plt.legend()\n",
        "# show the plot\n",
        "plt.show()"
      ],
      "execution_count": null,
      "outputs": [
        {
          "output_type": "stream",
          "text": [
            "ROC AUC=0.801\n"
          ],
          "name": "stdout"
        },
        {
          "output_type": "display_data",
          "data": {
            "image/png": "[encoded data removed]",
            "text/plain": [
              "<Figure size 1152x576 with 1 Axes>"
            ]
          },
          "metadata": {
            "tags": [],
            "needs_background": "light"
          }
        }
      ]
    },
    {
      "cell_type": "code",
      "metadata": {
        "id": "w2uwxqt80Ya9",
        "outputId": "05761c14-3dda-49a8-8b1a-46005a1ed332"
      },
      "source": [
        "#Feature Importance\n",
        "\n",
        "feature_imp = pd.DataFrame(gbm_best_model.feature_importances_, index=x_train.columns,\n",
        "columns=['importance']).sort_values('importance', ascending=False)\n",
        "feature_imp"
      ],
      "execution_count": null,
      "outputs": [
        {
          "output_type": "execute_result",
          "data": {
            "text/html": [
              "<div>\n",
              "<style scoped>\n",
              "    .dataframe tbody tr th:only-of-type {\n",
              "        vertical-align: middle;\n",
              "    }\n",
              "\n",
              "    .dataframe tbody tr th {\n",
              "        vertical-align: top;\n",
              "    }\n",
              "\n",
              "    .dataframe thead th {\n",
              "        text-align: right;\n",
              "    }\n",
              "</style>\n",
              "<table border=\"1\" class=\"dataframe\">\n",
              "  <thead>\n",
              "    <tr style=\"text-align: right;\">\n",
              "      <th></th>\n",
              "      <th>importance</th>\n",
              "    </tr>\n",
              "  </thead>\n",
              "  <tbody>\n",
              "    <tr>\n",
              "      <th>High Blood Pressure</th>\n",
              "      <td>0.753457</td>\n",
              "    </tr>\n",
              "    <tr>\n",
              "      <th>Age</th>\n",
              "      <td>0.120111</td>\n",
              "    </tr>\n",
              "    <tr>\n",
              "      <th>Cholesterol_too high</th>\n",
              "      <td>0.049877</td>\n",
              "    </tr>\n",
              "    <tr>\n",
              "      <th>Low Blood Pressure</th>\n",
              "      <td>0.025972</td>\n",
              "    </tr>\n",
              "    <tr>\n",
              "      <th>Cholesterol_normal</th>\n",
              "      <td>0.023822</td>\n",
              "    </tr>\n",
              "    <tr>\n",
              "      <th>Weight</th>\n",
              "      <td>0.015851</td>\n",
              "    </tr>\n",
              "    <tr>\n",
              "      <th>Exercise</th>\n",
              "      <td>0.004170</td>\n",
              "    </tr>\n",
              "    <tr>\n",
              "      <th>Height</th>\n",
              "      <td>0.001823</td>\n",
              "    </tr>\n",
              "    <tr>\n",
              "      <th>Smoke</th>\n",
              "      <td>0.001140</td>\n",
              "    </tr>\n",
              "    <tr>\n",
              "      <th>Gender_female</th>\n",
              "      <td>0.000983</td>\n",
              "    </tr>\n",
              "    <tr>\n",
              "      <th>Glucose_normal</th>\n",
              "      <td>0.000879</td>\n",
              "    </tr>\n",
              "    <tr>\n",
              "      <th>Glucose_too high</th>\n",
              "      <td>0.000866</td>\n",
              "    </tr>\n",
              "    <tr>\n",
              "      <th>Alcohol</th>\n",
              "      <td>0.000695</td>\n",
              "    </tr>\n",
              "    <tr>\n",
              "      <th>Glucose_high</th>\n",
              "      <td>0.000184</td>\n",
              "    </tr>\n",
              "    <tr>\n",
              "      <th>Gender_male</th>\n",
              "      <td>0.000171</td>\n",
              "    </tr>\n",
              "    <tr>\n",
              "      <th>Cholesterol_high</th>\n",
              "      <td>0.000000</td>\n",
              "    </tr>\n",
              "  </tbody>\n",
              "</table>\n",
              "</div>"
            ],
            "text/plain": [
              "                      importance\n",
              "High Blood Pressure     0.753457\n",
              "Age                     0.120111\n",
              "Cholesterol_too high    0.049877\n",
              "Low Blood Pressure      0.025972\n",
              "Cholesterol_normal      0.023822\n",
              "Weight                  0.015851\n",
              "Exercise                0.004170\n",
              "Height                  0.001823\n",
              "Smoke                   0.001140\n",
              "Gender_female           0.000983\n",
              "Glucose_normal          0.000879\n",
              "Glucose_too high        0.000866\n",
              "Alcohol                 0.000695\n",
              "Glucose_high            0.000184\n",
              "Gender_male             0.000171\n",
              "Cholesterol_high        0.000000"
            ]
          },
          "metadata": {
            "tags": []
          },
          "execution_count": 36
        }
      ]
    },
    {
      "cell_type": "markdown",
      "metadata": {
        "id": "o1LwMJ6Vi_h8"
      },
      "source": [
        "## Model Comparison "
      ]
    },
    {
      "cell_type": "markdown",
      "metadata": {
        "id": "WkVuNF-Oi_h8"
      },
      "source": [
        "We can compare the above models based on the Accuracy.\n",
        "Reason: We are doing so because the dataset is balanced. This means that the dataset has equal number of observations for each class. This reason allows us to consider accuracy as the evaluation metric."
      ]
    },
    {
      "cell_type": "code",
      "metadata": {
        "id": "HR-1lX3Ii_h9"
      },
      "source": [
        "\n",
        "\n",
        "data = [{'Model':['Naive Bayes'],\n",
        "        'Parameters' :['var_smoothing: 0.001'],                               \n",
        "        'Accuracy(%)':[72.02],\n",
        "}\n",
        ",\n",
        "{'Model':['KNN'],\n",
        "        'Parameters' :['n_neighbors: 60, p: 1'],                                          \n",
        "        'Accuracy(%)':[72.26],\n",
        "}\n",
        ",\n",
        "{'Model':['Linear SVC'],\n",
        "        'Parameters' :['C: 1, penalty: l2'],                                          \n",
        "        'Accuracy(%)':[72.96],\n",
        "}\n",
        ",\n",
        "{'Model':['NonLinear SVM'],\n",
        "        'Parameters' :['C=1,gamma=0.7'],                                           \n",
        "        'Accuracy(%)':[71.13]\n",
        "}\n",
        ",\n",
        "{'Model':['Random Forest'],\n",
        "        'Parameters' :['n_estimators=100, max_features=6, max_depth=20, min_samples_leaf=10,min_samples_split=10'],                                           \n",
        "        'Accuracy(%)':[73.25]\n",
        "},\n",
        "{'Model':['GBM'],\n",
        "        'Parameters' :['n_estimators=100, learning_rate=0.1,max_depth= 2,min_samples_leaf=10,min_samples_split=5'],                                           \n",
        "        'Accuracy(%)':[73.58]\n",
        "}] \n"
      ],
      "execution_count": 33,
      "outputs": []
    },
    {
      "cell_type": "code",
      "metadata": {
        "id": "ah28ynM1i_h_",
        "outputId": "7510161b-b9fa-48be-9493-6dd4a3161aa0",
        "colab": {
          "base_uri": "https://localhost:8080/",
          "height": 235
        }
      },
      "source": [
        "df_comparison = pd.DataFrame(data=data)\n",
        "df_comparison.sort_values(by=['Accuracy(%)'],ascending=False)"
      ],
      "execution_count": 34,
      "outputs": [
        {
          "output_type": "execute_result",
          "data": {
            "text/html": [
              "<div>\n",
              "<style scoped>\n",
              "    .dataframe tbody tr th:only-of-type {\n",
              "        vertical-align: middle;\n",
              "    }\n",
              "\n",
              "    .dataframe tbody tr th {\n",
              "        vertical-align: top;\n",
              "    }\n",
              "\n",
              "    .dataframe thead th {\n",
              "        text-align: right;\n",
              "    }\n",
              "</style>\n",
              "<table border=\"1\" class=\"dataframe\">\n",
              "  <thead>\n",
              "    <tr style=\"text-align: right;\">\n",
              "      <th></th>\n",
              "      <th>Model</th>\n",
              "      <th>Parameters</th>\n",
              "      <th>Accuracy(%)</th>\n",
              "    </tr>\n",
              "  </thead>\n",
              "  <tbody>\n",
              "    <tr>\n",
              "      <th>5</th>\n",
              "      <td>[GBM]</td>\n",
              "      <td>[n_estimators=100, learning_rate=0.1,max_depth...</td>\n",
              "      <td>[73.58]</td>\n",
              "    </tr>\n",
              "    <tr>\n",
              "      <th>4</th>\n",
              "      <td>[Random Forest]</td>\n",
              "      <td>[n_estimators=100, max_features=6, max_depth=2...</td>\n",
              "      <td>[73.25]</td>\n",
              "    </tr>\n",
              "    <tr>\n",
              "      <th>2</th>\n",
              "      <td>[Linear SVC]</td>\n",
              "      <td>[C: 1, penalty: l2]</td>\n",
              "      <td>[72.96]</td>\n",
              "    </tr>\n",
              "    <tr>\n",
              "      <th>1</th>\n",
              "      <td>[KNN]</td>\n",
              "      <td>[n_neighbors: 60, p: 1]</td>\n",
              "      <td>[72.26]</td>\n",
              "    </tr>\n",
              "    <tr>\n",
              "      <th>0</th>\n",
              "      <td>[Naive Bayes]</td>\n",
              "      <td>[var_smoothing: 0.001]</td>\n",
              "      <td>[72.02]</td>\n",
              "    </tr>\n",
              "    <tr>\n",
              "      <th>3</th>\n",
              "      <td>[NonLinear SVM]</td>\n",
              "      <td>[C=1,gamma=0.7]</td>\n",
              "      <td>[71.13]</td>\n",
              "    </tr>\n",
              "  </tbody>\n",
              "</table>\n",
              "</div>"
            ],
            "text/plain": [
              "             Model  ... Accuracy(%)\n",
              "5            [GBM]  ...     [73.58]\n",
              "4  [Random Forest]  ...     [73.25]\n",
              "2     [Linear SVC]  ...     [72.96]\n",
              "1            [KNN]  ...     [72.26]\n",
              "0    [Naive Bayes]  ...     [72.02]\n",
              "3  [NonLinear SVM]  ...     [71.13]\n",
              "\n",
              "[6 rows x 3 columns]"
            ]
          },
          "metadata": {
            "tags": []
          },
          "execution_count": 34
        }
      ]
    },
    {
      "cell_type": "markdown",
      "metadata": {
        "id": "RqGL2La5i_iB"
      },
      "source": [
        "## Conclusion"
      ]
    },
    {
      "cell_type": "markdown",
      "metadata": {
        "id": "CRy2KmyVi_iB"
      },
      "source": [
        "Based on the above evaluation metrics we can clearly see that GBM is able to perform best when compared to all the other models. That is followed by the Random Forest, Linear SVC, KNN, Naive Bayes and NonLinear SVM. \n",
        "\n",
        "Reason (performance evaluation): We consider having accuracy as the evaluation metrics because the dataset is balanced/ This means that number of observations for both the classes are almost equal. \n",
        "\n",
        "Reason (Feature Selection):The most important features according to GBM are High blood pressure, Age, cholestrol_toohigh. The top features for random forest are High blood pressure, Low blood pressure and Age. These features do make sense and therefore we can rely on GBM and random forest for the feature selection."
      ]
    },
    {
      "cell_type": "markdown",
      "metadata": {
        "id": "gAByspdgi_iC"
      },
      "source": [
        "## CSV file prep of Final Predictions"
      ]
    },
    {
      "cell_type": "code",
      "metadata": {
        "id": "QDd0aEUci_iC"
      },
      "source": [
        "best_models = ['gnb_best','mnb_best','classifier','lin_clf_best','rbf_clf_best','rf_model','gbm_best_model']"
      ],
      "execution_count": null,
      "outputs": []
    },
    {
      "cell_type": "code",
      "metadata": {
        "id": "v40nmCMNi_iF"
      },
      "source": [
        "#predictions for test data set\n",
        "y_pred_mnb = gnb_best.predict(x_test)\n",
        "y_pred_knn = classifier.predict(test_std)\n",
        "y_pred_svc = lin_clf_best.predict(test_std)\n",
        "y_pred_svm = rbf_clf_best.predict(x_test)\n",
        "y_pred_rf = rf_model.predict(x_test)\n",
        "y_pred_gbm = gbm_best_model.predict(x_test)"
      ],
      "execution_count": 45,
      "outputs": []
    },
    {
      "cell_type": "code",
      "metadata": {
        "id": "drIZ0_X0i_iN"
      },
      "source": [
        "d = {'id':ID,'NB': y_pred_mnb, 'KNN' : y_pred_knn, 'SVC' : y_pred_svc, 'SVM' : y_pred_svm, 'RF' : y_pred_rf, 'GBM' : y_pred_gbm}\n",
        "label_df = pd.DataFrame(d)"
      ],
      "execution_count": 52,
      "outputs": []
    },
    {
      "cell_type": "code",
      "metadata": {
        "id": "-fF-3QxGi_iP",
        "outputId": "76e43478-4fec-450b-c521-476625646782",
        "colab": {
          "base_uri": "https://localhost:8080/",
          "height": 419
        }
      },
      "source": [
        "label_df"
      ],
      "execution_count": 53,
      "outputs": [
        {
          "output_type": "execute_result",
          "data": {
            "text/html": [
              "<div>\n",
              "<style scoped>\n",
              "    .dataframe tbody tr th:only-of-type {\n",
              "        vertical-align: middle;\n",
              "    }\n",
              "\n",
              "    .dataframe tbody tr th {\n",
              "        vertical-align: top;\n",
              "    }\n",
              "\n",
              "    .dataframe thead th {\n",
              "        text-align: right;\n",
              "    }\n",
              "</style>\n",
              "<table border=\"1\" class=\"dataframe\">\n",
              "  <thead>\n",
              "    <tr style=\"text-align: right;\">\n",
              "      <th></th>\n",
              "      <th>id</th>\n",
              "      <th>NB</th>\n",
              "      <th>KNN</th>\n",
              "      <th>SVC</th>\n",
              "      <th>SVM</th>\n",
              "      <th>RF</th>\n",
              "      <th>GBM</th>\n",
              "    </tr>\n",
              "  </thead>\n",
              "  <tbody>\n",
              "    <tr>\n",
              "      <th>0</th>\n",
              "      <td>0</td>\n",
              "      <td>0</td>\n",
              "      <td>0</td>\n",
              "      <td>0</td>\n",
              "      <td>0</td>\n",
              "      <td>0</td>\n",
              "      <td>0</td>\n",
              "    </tr>\n",
              "    <tr>\n",
              "      <th>1</th>\n",
              "      <td>1</td>\n",
              "      <td>0</td>\n",
              "      <td>0</td>\n",
              "      <td>0</td>\n",
              "      <td>0</td>\n",
              "      <td>0</td>\n",
              "      <td>0</td>\n",
              "    </tr>\n",
              "    <tr>\n",
              "      <th>2</th>\n",
              "      <td>2</td>\n",
              "      <td>0</td>\n",
              "      <td>0</td>\n",
              "      <td>1</td>\n",
              "      <td>1</td>\n",
              "      <td>0</td>\n",
              "      <td>0</td>\n",
              "    </tr>\n",
              "    <tr>\n",
              "      <th>3</th>\n",
              "      <td>3</td>\n",
              "      <td>1</td>\n",
              "      <td>1</td>\n",
              "      <td>1</td>\n",
              "      <td>1</td>\n",
              "      <td>1</td>\n",
              "      <td>1</td>\n",
              "    </tr>\n",
              "    <tr>\n",
              "      <th>4</th>\n",
              "      <td>4</td>\n",
              "      <td>0</td>\n",
              "      <td>0</td>\n",
              "      <td>0</td>\n",
              "      <td>0</td>\n",
              "      <td>0</td>\n",
              "      <td>0</td>\n",
              "    </tr>\n",
              "    <tr>\n",
              "      <th>...</th>\n",
              "      <td>...</td>\n",
              "      <td>...</td>\n",
              "      <td>...</td>\n",
              "      <td>...</td>\n",
              "      <td>...</td>\n",
              "      <td>...</td>\n",
              "      <td>...</td>\n",
              "    </tr>\n",
              "    <tr>\n",
              "      <th>20995</th>\n",
              "      <td>20995</td>\n",
              "      <td>1</td>\n",
              "      <td>1</td>\n",
              "      <td>1</td>\n",
              "      <td>1</td>\n",
              "      <td>0</td>\n",
              "      <td>1</td>\n",
              "    </tr>\n",
              "    <tr>\n",
              "      <th>20996</th>\n",
              "      <td>20996</td>\n",
              "      <td>0</td>\n",
              "      <td>0</td>\n",
              "      <td>0</td>\n",
              "      <td>0</td>\n",
              "      <td>0</td>\n",
              "      <td>0</td>\n",
              "    </tr>\n",
              "    <tr>\n",
              "      <th>20997</th>\n",
              "      <td>20997</td>\n",
              "      <td>1</td>\n",
              "      <td>1</td>\n",
              "      <td>0</td>\n",
              "      <td>1</td>\n",
              "      <td>1</td>\n",
              "      <td>0</td>\n",
              "    </tr>\n",
              "    <tr>\n",
              "      <th>20998</th>\n",
              "      <td>20998</td>\n",
              "      <td>1</td>\n",
              "      <td>1</td>\n",
              "      <td>1</td>\n",
              "      <td>1</td>\n",
              "      <td>1</td>\n",
              "      <td>1</td>\n",
              "    </tr>\n",
              "    <tr>\n",
              "      <th>20999</th>\n",
              "      <td>20999</td>\n",
              "      <td>0</td>\n",
              "      <td>0</td>\n",
              "      <td>0</td>\n",
              "      <td>0</td>\n",
              "      <td>0</td>\n",
              "      <td>0</td>\n",
              "    </tr>\n",
              "  </tbody>\n",
              "</table>\n",
              "<p>21000 rows × 7 columns</p>\n",
              "</div>"
            ],
            "text/plain": [
              "          id  NB  KNN  SVC  SVM  RF  GBM\n",
              "0          0   0    0    0    0   0    0\n",
              "1          1   0    0    0    0   0    0\n",
              "2          2   0    0    1    1   0    0\n",
              "3          3   1    1    1    1   1    1\n",
              "4          4   0    0    0    0   0    0\n",
              "...      ...  ..  ...  ...  ...  ..  ...\n",
              "20995  20995   1    1    1    1   0    1\n",
              "20996  20996   0    0    0    0   0    0\n",
              "20997  20997   1    1    0    1   1    0\n",
              "20998  20998   1    1    1    1   1    1\n",
              "20999  20999   0    0    0    0   0    0\n",
              "\n",
              "[21000 rows x 7 columns]"
            ]
          },
          "metadata": {
            "tags": []
          },
          "execution_count": 53
        }
      ]
    },
    {
      "cell_type": "code",
      "metadata": {
        "id": "RhquvDWXi_iR"
      },
      "source": [
        "label_df.to_csv('HW3_final_predictions.csv')"
      ],
      "execution_count": 54,
      "outputs": []
    }
  ]
}