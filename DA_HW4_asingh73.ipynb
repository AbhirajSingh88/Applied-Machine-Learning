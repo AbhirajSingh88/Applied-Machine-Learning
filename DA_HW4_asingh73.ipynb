{
  "nbformat": 4,
  "nbformat_minor": 0,
  "metadata": {
    "colab": {
      "name": "DA_HW4_asingh73.ipynb",
      "provenance": [],
      "collapsed_sections": [],
      "toc_visible": true
    },
    "kernelspec": {
      "name": "python3",
      "display_name": "Python 3"
    }
  },
  "cells": [
    {
      "cell_type": "markdown",
      "metadata": {
        "id": "6Naph_cv4sGr"
      },
      "source": [
        "# IST 707 HW4 Abhiraj Singh (asingh73)"
      ]
    },
    {
      "cell_type": "code",
      "metadata": {
        "id": "xaa2MF8A55_B"
      },
      "source": [
        "#import libraries\n",
        "\n",
        "import numpy as np\n",
        "import pandas as pd\n",
        "import matplotlib.pyplot as plt\n",
        "from sklearn.preprocessing import OneHotEncoder, MinMaxScaler\n",
        "from sklearn.model_selection import train_test_split\n",
        "from sklearn.model_selection import train_test_split, GridSearchCV, cross_val_score, ShuffleSplit, GridSearchCV\n",
        "from sklearn import metrics\n",
        "from sklearn.metrics import classification_report, confusion_matrix, accuracy_score,roc_auc_score,roc_curve\n",
        "import sklearn.metrics as metrics\n",
        "import seaborn as sns\n",
        "from scipy.stats.mstats import winsorize\n",
        "from sklearn.linear_model import LogisticRegression\n",
        "from sklearn import svm\n",
        "from keras import models\n",
        "from keras.models import Sequential\n",
        "from keras.layers import Dense\n",
        "from keras.callbacks import History\n",
        "import keras\n",
        "import time\n",
        "from keras.wrappers.scikit_learn import KerasClassifier\n",
        "from sklearn.pipeline import Pipeline\n",
        "from keras.layers import Dropout\n",
        "from sklearn.ensemble import RandomForestClassifier\n",
        "from sklearn.ensemble import GradientBoostingClassifier as gbm\n",
        "from sklearn.metrics import auc\n",
        "from sklearn.metrics import roc_curve\n",
        "from sklearn import tree"
      ],
      "execution_count": 1,
      "outputs": []
    },
    {
      "cell_type": "markdown",
      "metadata": {
        "id": "a_RRCL1e42DB"
      },
      "source": [
        "# Load Dataset"
      ]
    },
    {
      "cell_type": "code",
      "metadata": {
        "colab": {
          "base_uri": "https://localhost:8080/",
          "height": 194
        },
        "id": "Npyc5jbB6tzu",
        "outputId": "103c0fc5-4ef7-4817-b289-88ec4bc1d853"
      },
      "source": [
        "train_data = pd.read_csv('Disease Prediction Training.csv')\n",
        "test_data = pd.read_csv('Disease Prediction Testing.csv')\n",
        "train_data.head(5)"
      ],
      "execution_count": 2,
      "outputs": [
        {
          "output_type": "execute_result",
          "data": {
            "text/html": [
              "<div>\n",
              "<style scoped>\n",
              "    .dataframe tbody tr th:only-of-type {\n",
              "        vertical-align: middle;\n",
              "    }\n",
              "\n",
              "    .dataframe tbody tr th {\n",
              "        vertical-align: top;\n",
              "    }\n",
              "\n",
              "    .dataframe thead th {\n",
              "        text-align: right;\n",
              "    }\n",
              "</style>\n",
              "<table border=\"1\" class=\"dataframe\">\n",
              "  <thead>\n",
              "    <tr style=\"text-align: right;\">\n",
              "      <th></th>\n",
              "      <th>Age</th>\n",
              "      <th>Gender</th>\n",
              "      <th>Height</th>\n",
              "      <th>Weight</th>\n",
              "      <th>High Blood Pressure</th>\n",
              "      <th>Low Blood Pressure</th>\n",
              "      <th>Cholesterol</th>\n",
              "      <th>Glucose</th>\n",
              "      <th>Smoke</th>\n",
              "      <th>Alcohol</th>\n",
              "      <th>Exercise</th>\n",
              "      <th>Disease</th>\n",
              "    </tr>\n",
              "  </thead>\n",
              "  <tbody>\n",
              "    <tr>\n",
              "      <th>0</th>\n",
              "      <td>59</td>\n",
              "      <td>female</td>\n",
              "      <td>167</td>\n",
              "      <td>88.0</td>\n",
              "      <td>130</td>\n",
              "      <td>68</td>\n",
              "      <td>normal</td>\n",
              "      <td>normal</td>\n",
              "      <td>0</td>\n",
              "      <td>0</td>\n",
              "      <td>1</td>\n",
              "      <td>0</td>\n",
              "    </tr>\n",
              "    <tr>\n",
              "      <th>1</th>\n",
              "      <td>64</td>\n",
              "      <td>female</td>\n",
              "      <td>150</td>\n",
              "      <td>71.0</td>\n",
              "      <td>140</td>\n",
              "      <td>100</td>\n",
              "      <td>normal</td>\n",
              "      <td>normal</td>\n",
              "      <td>0</td>\n",
              "      <td>0</td>\n",
              "      <td>0</td>\n",
              "      <td>1</td>\n",
              "    </tr>\n",
              "    <tr>\n",
              "      <th>2</th>\n",
              "      <td>41</td>\n",
              "      <td>female</td>\n",
              "      <td>166</td>\n",
              "      <td>83.0</td>\n",
              "      <td>100</td>\n",
              "      <td>70</td>\n",
              "      <td>normal</td>\n",
              "      <td>normal</td>\n",
              "      <td>0</td>\n",
              "      <td>1</td>\n",
              "      <td>1</td>\n",
              "      <td>0</td>\n",
              "    </tr>\n",
              "    <tr>\n",
              "      <th>3</th>\n",
              "      <td>50</td>\n",
              "      <td>male</td>\n",
              "      <td>172</td>\n",
              "      <td>110.0</td>\n",
              "      <td>130</td>\n",
              "      <td>80</td>\n",
              "      <td>normal</td>\n",
              "      <td>normal</td>\n",
              "      <td>1</td>\n",
              "      <td>0</td>\n",
              "      <td>1</td>\n",
              "      <td>0</td>\n",
              "    </tr>\n",
              "    <tr>\n",
              "      <th>4</th>\n",
              "      <td>39</td>\n",
              "      <td>female</td>\n",
              "      <td>162</td>\n",
              "      <td>61.0</td>\n",
              "      <td>110</td>\n",
              "      <td>80</td>\n",
              "      <td>high</td>\n",
              "      <td>high</td>\n",
              "      <td>0</td>\n",
              "      <td>0</td>\n",
              "      <td>1</td>\n",
              "      <td>0</td>\n",
              "    </tr>\n",
              "  </tbody>\n",
              "</table>\n",
              "</div>"
            ],
            "text/plain": [
              "   Age  Gender  Height  Weight  ...  Smoke  Alcohol Exercise Disease\n",
              "0   59  female     167    88.0  ...      0        0        1       0\n",
              "1   64  female     150    71.0  ...      0        0        0       1\n",
              "2   41  female     166    83.0  ...      0        1        1       0\n",
              "3   50    male     172   110.0  ...      1        0        1       0\n",
              "4   39  female     162    61.0  ...      0        0        1       0\n",
              "\n",
              "[5 rows x 12 columns]"
            ]
          },
          "metadata": {
            "tags": []
          },
          "execution_count": 2
        }
      ]
    },
    {
      "cell_type": "code",
      "metadata": {
        "colab": {
          "base_uri": "https://localhost:8080/"
        },
        "id": "NF3R0f-C64F9",
        "outputId": "27f53577-40ea-4d04-b39c-2f733649730a"
      },
      "source": [
        "train_data.dtypes"
      ],
      "execution_count": null,
      "outputs": [
        {
          "output_type": "execute_result",
          "data": {
            "text/plain": [
              "Age                      int64\n",
              "Gender                  object\n",
              "Height                   int64\n",
              "Weight                 float64\n",
              "High Blood Pressure      int64\n",
              "Low Blood Pressure       int64\n",
              "Cholesterol             object\n",
              "Glucose                 object\n",
              "Smoke                    int64\n",
              "Alcohol                  int64\n",
              "Exercise                 int64\n",
              "Disease                  int64\n",
              "dtype: object"
            ]
          },
          "metadata": {
            "tags": []
          },
          "execution_count": 23
        }
      ]
    },
    {
      "cell_type": "code",
      "metadata": {
        "colab": {
          "base_uri": "https://localhost:8080/"
        },
        "id": "gX1zoj9K68rD",
        "outputId": "f68683f9-7085-4e07-8dec-48f73c01ec45"
      },
      "source": [
        "train_data.isna().sum()"
      ],
      "execution_count": null,
      "outputs": [
        {
          "output_type": "execute_result",
          "data": {
            "text/plain": [
              "Age                    0\n",
              "Gender                 0\n",
              "Height                 0\n",
              "Weight                 0\n",
              "High Blood Pressure    0\n",
              "Low Blood Pressure     0\n",
              "Cholesterol            0\n",
              "Glucose                0\n",
              "Smoke                  0\n",
              "Alcohol                0\n",
              "Exercise               0\n",
              "Disease                0\n",
              "dtype: int64"
            ]
          },
          "metadata": {
            "tags": []
          },
          "execution_count": 24
        }
      ]
    },
    {
      "cell_type": "code",
      "metadata": {
        "colab": {
          "base_uri": "https://localhost:8080/",
          "height": 364
        },
        "id": "UmDz4vMq7CTQ",
        "outputId": "6a4abb3e-aacf-4320-c840-b411b4e33699"
      },
      "source": [
        "#This will help us get familliar with the train dataset's statistical features\n",
        "print(\"The shape of the train dataframe is:\",train_data.shape)\n",
        "\n",
        "#check whether data is balanced or unbalance\n",
        "\n",
        "print(\"Total number of 1's in the dataframe\",len(train_data[train_data.Disease == 1]))\n",
        "print(\"Total number of 0's in the dataframe\",len(train_data[train_data.Disease == 0]))\n",
        "\n",
        "train_data.describe().transpose()"
      ],
      "execution_count": 3,
      "outputs": [
        {
          "output_type": "stream",
          "text": [
            "The shape of the train dataframe is: (49000, 12)\n",
            "Total number of 1's in the dataframe 24498\n",
            "Total number of 0's in the dataframe 24502\n"
          ],
          "name": "stdout"
        },
        {
          "output_type": "execute_result",
          "data": {
            "text/html": [
              "<div>\n",
              "<style scoped>\n",
              "    .dataframe tbody tr th:only-of-type {\n",
              "        vertical-align: middle;\n",
              "    }\n",
              "\n",
              "    .dataframe tbody tr th {\n",
              "        vertical-align: top;\n",
              "    }\n",
              "\n",
              "    .dataframe thead th {\n",
              "        text-align: right;\n",
              "    }\n",
              "</style>\n",
              "<table border=\"1\" class=\"dataframe\">\n",
              "  <thead>\n",
              "    <tr style=\"text-align: right;\">\n",
              "      <th></th>\n",
              "      <th>count</th>\n",
              "      <th>mean</th>\n",
              "      <th>std</th>\n",
              "      <th>min</th>\n",
              "      <th>25%</th>\n",
              "      <th>50%</th>\n",
              "      <th>75%</th>\n",
              "      <th>max</th>\n",
              "    </tr>\n",
              "  </thead>\n",
              "  <tbody>\n",
              "    <tr>\n",
              "      <th>Age</th>\n",
              "      <td>49000.0</td>\n",
              "      <td>52.853306</td>\n",
              "      <td>6.763065</td>\n",
              "      <td>29.0</td>\n",
              "      <td>48.0</td>\n",
              "      <td>53.0</td>\n",
              "      <td>58.0</td>\n",
              "      <td>64.0</td>\n",
              "    </tr>\n",
              "    <tr>\n",
              "      <th>Height</th>\n",
              "      <td>49000.0</td>\n",
              "      <td>164.366878</td>\n",
              "      <td>8.216637</td>\n",
              "      <td>55.0</td>\n",
              "      <td>159.0</td>\n",
              "      <td>165.0</td>\n",
              "      <td>170.0</td>\n",
              "      <td>207.0</td>\n",
              "    </tr>\n",
              "    <tr>\n",
              "      <th>Weight</th>\n",
              "      <td>49000.0</td>\n",
              "      <td>74.190527</td>\n",
              "      <td>14.329934</td>\n",
              "      <td>10.0</td>\n",
              "      <td>65.0</td>\n",
              "      <td>72.0</td>\n",
              "      <td>82.0</td>\n",
              "      <td>200.0</td>\n",
              "    </tr>\n",
              "    <tr>\n",
              "      <th>High Blood Pressure</th>\n",
              "      <td>49000.0</td>\n",
              "      <td>128.698939</td>\n",
              "      <td>147.624582</td>\n",
              "      <td>-150.0</td>\n",
              "      <td>120.0</td>\n",
              "      <td>120.0</td>\n",
              "      <td>140.0</td>\n",
              "      <td>14020.0</td>\n",
              "    </tr>\n",
              "    <tr>\n",
              "      <th>Low Blood Pressure</th>\n",
              "      <td>49000.0</td>\n",
              "      <td>96.917367</td>\n",
              "      <td>200.368069</td>\n",
              "      <td>0.0</td>\n",
              "      <td>80.0</td>\n",
              "      <td>80.0</td>\n",
              "      <td>90.0</td>\n",
              "      <td>11000.0</td>\n",
              "    </tr>\n",
              "    <tr>\n",
              "      <th>Smoke</th>\n",
              "      <td>49000.0</td>\n",
              "      <td>0.088265</td>\n",
              "      <td>0.283683</td>\n",
              "      <td>0.0</td>\n",
              "      <td>0.0</td>\n",
              "      <td>0.0</td>\n",
              "      <td>0.0</td>\n",
              "      <td>1.0</td>\n",
              "    </tr>\n",
              "    <tr>\n",
              "      <th>Alcohol</th>\n",
              "      <td>49000.0</td>\n",
              "      <td>0.054245</td>\n",
              "      <td>0.226503</td>\n",
              "      <td>0.0</td>\n",
              "      <td>0.0</td>\n",
              "      <td>0.0</td>\n",
              "      <td>0.0</td>\n",
              "      <td>1.0</td>\n",
              "    </tr>\n",
              "    <tr>\n",
              "      <th>Exercise</th>\n",
              "      <td>49000.0</td>\n",
              "      <td>0.803204</td>\n",
              "      <td>0.397581</td>\n",
              "      <td>0.0</td>\n",
              "      <td>1.0</td>\n",
              "      <td>1.0</td>\n",
              "      <td>1.0</td>\n",
              "      <td>1.0</td>\n",
              "    </tr>\n",
              "    <tr>\n",
              "      <th>Disease</th>\n",
              "      <td>49000.0</td>\n",
              "      <td>0.499959</td>\n",
              "      <td>0.500005</td>\n",
              "      <td>0.0</td>\n",
              "      <td>0.0</td>\n",
              "      <td>0.0</td>\n",
              "      <td>1.0</td>\n",
              "      <td>1.0</td>\n",
              "    </tr>\n",
              "  </tbody>\n",
              "</table>\n",
              "</div>"
            ],
            "text/plain": [
              "                       count        mean         std  ...    50%    75%      max\n",
              "Age                  49000.0   52.853306    6.763065  ...   53.0   58.0     64.0\n",
              "Height               49000.0  164.366878    8.216637  ...  165.0  170.0    207.0\n",
              "Weight               49000.0   74.190527   14.329934  ...   72.0   82.0    200.0\n",
              "High Blood Pressure  49000.0  128.698939  147.624582  ...  120.0  140.0  14020.0\n",
              "Low Blood Pressure   49000.0   96.917367  200.368069  ...   80.0   90.0  11000.0\n",
              "Smoke                49000.0    0.088265    0.283683  ...    0.0    0.0      1.0\n",
              "Alcohol              49000.0    0.054245    0.226503  ...    0.0    0.0      1.0\n",
              "Exercise             49000.0    0.803204    0.397581  ...    1.0    1.0      1.0\n",
              "Disease              49000.0    0.499959    0.500005  ...    0.0    1.0      1.0\n",
              "\n",
              "[9 rows x 8 columns]"
            ]
          },
          "metadata": {
            "tags": []
          },
          "execution_count": 3
        }
      ]
    },
    {
      "cell_type": "markdown",
      "metadata": {
        "id": "QeZG_WGv8W4N"
      },
      "source": [
        "# Data Visualization"
      ]
    },
    {
      "cell_type": "markdown",
      "metadata": {
        "id": "16jIO9qQ8n4I"
      },
      "source": [
        "Based on the below plots we can see that the numerical countinuous variables have many outliers."
      ]
    },
    {
      "cell_type": "code",
      "metadata": {
        "colab": {
          "base_uri": "https://localhost:8080/",
          "height": 295
        },
        "id": "sdR1qXgU7SHR",
        "outputId": "c22a5839-821f-45b7-bafc-53a5290ad6aa"
      },
      "source": [
        "# Data Visualization to assess the outlier in the dataset\n",
        "\n",
        "sns.boxplot(y=train_data[\"Low Blood Pressure\"], x=train_data[\"Disease\"]).set_title(\"Low Blood Pressure v/s Disease outlier detection\")\n",
        "plt.show()"
      ],
      "execution_count": null,
      "outputs": [
        {
          "output_type": "display_data",
          "data": {
            "image/png": "[encoded data removed]",
            "text/plain": [
              "<Figure size 432x288 with 1 Axes>"
            ]
          },
          "metadata": {
            "tags": [],
            "needs_background": "light"
          }
        }
      ]
    },
    {
      "cell_type": "code",
      "metadata": {
        "colab": {
          "base_uri": "https://localhost:8080/",
          "height": 295
        },
        "id": "UE-C0gzE7_gw",
        "outputId": "d06f50d1-0722-47ff-c221-5ffadd6f819a"
      },
      "source": [
        "# Data Visualization to assess the outlier in the dataset\n",
        "\n",
        "sns.boxplot(y=train_data[\"High Blood Pressure\"], x=train_data[\"Disease\"]).set_title(\"High Blood Pressure v/s Disease outlier detection\")\n",
        "plt.show()"
      ],
      "execution_count": null,
      "outputs": [
        {
          "output_type": "display_data",
          "data": {
            "image/png": "[encoded data removed]",
            "text/plain": [
              "<Figure size 432x288 with 1 Axes>"
            ]
          },
          "metadata": {
            "tags": [],
            "needs_background": "light"
          }
        }
      ]
    },
    {
      "cell_type": "markdown",
      "metadata": {
        "id": "XW6WBAPP873B"
      },
      "source": [
        "# Data Pre-processing"
      ]
    },
    {
      "cell_type": "markdown",
      "metadata": {
        "id": "wtC0nzr29uL6"
      },
      "source": [
        "The above outliers are being treated by using the winsorization methods. Winsorizing or winsorization is the transformation of statistics which limits extreme values in the statistical data to reduce the effect of possibly spurious outliers. The below cell depicts the implementation."
      ]
    },
    {
      "cell_type": "code",
      "metadata": {
        "colab": {
          "base_uri": "https://localhost:8080/"
        },
        "id": "lcx_TULV8goK",
        "outputId": "112c339a-1cd9-44b2-a1bf-2f34ad1fef20"
      },
      "source": [
        "#Curing the outliers by winsorizing \n",
        "\n",
        "winsorize(train_data['High Blood Pressure'], limits=[0.01,0.04],inplace=True, axis=None)\n",
        "winsorize(train_data['Low Blood Pressure'], limits=[0.01,0.04],inplace=True, axis=None)\n",
        "\n",
        "winsorize(test_data['High Blood Pressure'], limits=[0.01,0.04],inplace=True, axis=None)\n",
        "winsorize(test_data['Low Blood Pressure'], limits=[0.01,0.04],inplace=True, axis=None)"
      ],
      "execution_count": 4,
      "outputs": [
        {
          "output_type": "execute_result",
          "data": {
            "text/plain": [
              "masked_array(data=[80, 70, 80, ..., 90, 90, 80],\n",
              "             mask=False,\n",
              "       fill_value=999999)"
            ]
          },
          "metadata": {
            "tags": []
          },
          "execution_count": 4
        }
      ]
    },
    {
      "cell_type": "markdown",
      "metadata": {
        "id": "gSHpxpqc9slY"
      },
      "source": [
        "To make the data usable for the machine learning algorithms we need to apply we need to convert the categoriacal variable to the numerical values using the one hot encoding. For categorical variables where no such ordinal relationship exists, the integer encoding is not enough."
      ]
    },
    {
      "cell_type": "markdown",
      "metadata": {
        "id": "dC31EZJn-I6c"
      },
      "source": [
        "# One Hot Encoding"
      ]
    },
    {
      "cell_type": "code",
      "metadata": {
        "id": "MM9kMzo29lXk"
      },
      "source": [
        "#One-hot encoding\n",
        "cols = ['Gender','Cholesterol','Glucose']\n",
        "train_data = pd.get_dummies(train_data, columns=cols)\n",
        "\n",
        "#perform same for the test data\n",
        "cols = ['Gender','Cholesterol','Glucose']\n",
        "test_data = pd.get_dummies(test_data, columns=cols)"
      ],
      "execution_count": 5,
      "outputs": []
    },
    {
      "cell_type": "markdown",
      "metadata": {
        "id": "cC_lto9D-RgY"
      },
      "source": [
        "# Data Scaling and splitting of dataset"
      ]
    },
    {
      "cell_type": "markdown",
      "metadata": {
        "id": "nPXJUEwe-DqV"
      },
      "source": [
        "Feature scaling is essential for machine learning algorithms that calculate distances between data. Therefore, we need to have standardized data. The below cell shows the scaling/standardization.\n",
        "\n",
        "We perform train-test split in this section. We need training set to allow the machine learning learn patterns or gain information. Then test data is helpful to know how well our model performs on the unseen dataset. This allows us to see how well the model is able to generalize. This is a crucial step to determine the performance of the model"
      ]
    },
    {
      "cell_type": "code",
      "metadata": {
        "id": "4DHJftSG9-ee"
      },
      "source": [
        "x = train_data.drop(columns=['Disease'])\n",
        "y = train_data['Disease']\n",
        "\n",
        "ID=test_data[\"ID\"]\n",
        "x_test=test_data.drop(columns=['ID'])\n"
      ],
      "execution_count": 6,
      "outputs": []
    },
    {
      "cell_type": "code",
      "metadata": {
        "id": "OEeM8uON_BJ3"
      },
      "source": [
        "#generating the bins\n",
        "labels = [1,2,3,4,5]\n",
        "x['Age']=pd.qcut(x['Age'],5,labels=labels)\n",
        "x_test['Age']=pd.qcut(x_test['Age'],5,labels=labels)\n",
        "\n",
        "x['Height']=pd.qcut(x['Height'],5,labels=labels)\n",
        "x_test['Height']=pd.qcut(x_test['Height'],5,labels=labels)\n",
        "\n",
        "x['Weight']=pd.qcut(x['Weight'],5,labels=labels)\n",
        "x_test['Weight']=pd.qcut(x_test['Weight'],5,labels=labels)"
      ],
      "execution_count": 7,
      "outputs": []
    },
    {
      "cell_type": "code",
      "metadata": {
        "id": "FTyBcFcu_LCk"
      },
      "source": [
        "#scaling the data using the minmax scaler\n",
        "scaler = MinMaxScaler()\n",
        "scaler.fit(x)\n",
        "train_std = scaler.transform(x)\n",
        "\n",
        "scaler.fit(x_test)\n",
        "test_std = scaler.transform(x_test)"
      ],
      "execution_count": 8,
      "outputs": []
    },
    {
      "cell_type": "code",
      "metadata": {
        "id": "7QBzaOUU_OtY"
      },
      "source": [
        "#splitting the data into train and validation for non-standarized dataset\n",
        "\n",
        "x_train, x_val, y_train, y_val = train_test_split(x, y, test_size=0.25, random_state=6)\n",
        "\n",
        "#splitting the data into train and validation for standarized dataset\n",
        "\n",
        "x_train_std, x_val_std, y_train_std, y_val_std = train_test_split(train_std, y, test_size=0.25, random_state=6)"
      ],
      "execution_count": 9,
      "outputs": []
    },
    {
      "cell_type": "markdown",
      "metadata": {
        "id": "zQHq2ZiB_Y3c"
      },
      "source": [
        "# ML Models"
      ]
    },
    {
      "cell_type": "markdown",
      "metadata": {
        "id": "HzRPDMVfHluF"
      },
      "source": [
        "# Logistic Regression"
      ]
    },
    {
      "cell_type": "code",
      "metadata": {
        "id": "zprrxO6F_VLJ"
      },
      "source": [
        "# base model\n",
        "lr = LogisticRegression()\n",
        "lr.fit(x_train_std, y_train)\n",
        "pred = lr.predict(x_val_std)"
      ],
      "execution_count": null,
      "outputs": []
    },
    {
      "cell_type": "code",
      "metadata": {
        "colab": {
          "base_uri": "https://localhost:8080/"
        },
        "id": "id_MZzJIIWso",
        "outputId": "d3b5be46-34b2-4a48-c8d4-7f4d9f037eed"
      },
      "source": [
        "cfm = confusion_matrix(y_val, pred)\n",
        "print(cfm)\n",
        "print('The accuracy of the model is: ',accuracy_score(pred, y_val))\n",
        "print(classification_report(pred, y_val))"
      ],
      "execution_count": null,
      "outputs": [
        {
          "output_type": "stream",
          "text": [
            "[[4797 1378]\n",
            " [1940 4135]]\n",
            "The accuracy of the model is:  0.7291428571428571\n",
            "              precision    recall  f1-score   support\n",
            "\n",
            "           0       0.78      0.71      0.74      6737\n",
            "           1       0.68      0.75      0.71      5513\n",
            "\n",
            "    accuracy                           0.73     12250\n",
            "   macro avg       0.73      0.73      0.73     12250\n",
            "weighted avg       0.73      0.73      0.73     12250\n",
            "\n"
          ],
          "name": "stdout"
        }
      ]
    },
    {
      "cell_type": "code",
      "metadata": {
        "colab": {
          "base_uri": "https://localhost:8080/"
        },
        "id": "6HxJujZqItbB",
        "outputId": "e03775ee-057e-4fb9-e606-64778e228317"
      },
      "source": [
        "lr_base_pred = lr.predict(x_val_std)\n",
        "print(f\"Accuracy: {round(metrics.accuracy_score(y_val, lr_base_pred)*100, 2)}%\")"
      ],
      "execution_count": null,
      "outputs": [
        {
          "output_type": "stream",
          "text": [
            "Accuracy: 72.91%\n"
          ],
          "name": "stdout"
        }
      ]
    },
    {
      "cell_type": "code",
      "metadata": {
        "colab": {
          "base_uri": "https://localhost:8080/"
        },
        "id": "fVCPk4_YJCJ-",
        "outputId": "47dac5a3-dac2-4239-c7f7-c57c7bb0458b"
      },
      "source": [
        "#We can tune using the GridSearchCV\n",
        "lr_grid = LogisticRegression()\n",
        "tuned_parameters = [{'penalty': ['l1','l2','elasticnet'],\n",
        "                     'C':np.logspace(-3,3,7)}]\n",
        "\n",
        "lr_grid_search = GridSearchCV(estimator = lr_grid, param_grid = tuned_parameters, cv = 3, n_jobs = -1, verbose = 2)\n",
        "\n",
        "lr_grid_search.fit(x_train_std,y_train)"
      ],
      "execution_count": null,
      "outputs": [
        {
          "output_type": "stream",
          "text": [
            "Fitting 3 folds for each of 21 candidates, totalling 63 fits\n"
          ],
          "name": "stdout"
        },
        {
          "output_type": "stream",
          "text": [
            "[Parallel(n_jobs=-1)]: Using backend LokyBackend with 2 concurrent workers.\n",
            "[Parallel(n_jobs=-1)]: Done  63 out of  63 | elapsed:    2.4s finished\n"
          ],
          "name": "stderr"
        },
        {
          "output_type": "execute_result",
          "data": {
            "text/plain": [
              "GridSearchCV(cv=3, error_score=nan,\n",
              "             estimator=LogisticRegression(C=1.0, class_weight=None, dual=False,\n",
              "                                          fit_intercept=True,\n",
              "                                          intercept_scaling=1, l1_ratio=None,\n",
              "                                          max_iter=100, multi_class='auto',\n",
              "                                          n_jobs=None, penalty='l2',\n",
              "                                          random_state=None, solver='lbfgs',\n",
              "                                          tol=0.0001, verbose=0,\n",
              "                                          warm_start=False),\n",
              "             iid='deprecated', n_jobs=-1,\n",
              "             param_grid=[{'C': array([1.e-03, 1.e-02, 1.e-01, 1.e+00, 1.e+01, 1.e+02, 1.e+03]),\n",
              "                          'penalty': ['l1', 'l2', 'elasticnet']}],\n",
              "             pre_dispatch='2*n_jobs', refit=True, return_train_score=False,\n",
              "             scoring=None, verbose=2)"
            ]
          },
          "metadata": {
            "tags": []
          },
          "execution_count": 31
        }
      ]
    },
    {
      "cell_type": "code",
      "metadata": {
        "colab": {
          "base_uri": "https://localhost:8080/"
        },
        "id": "fzWBufwULGj3",
        "outputId": "01246321-2a9f-4824-dc42-92e91a1f6543"
      },
      "source": [
        "lr_grid_search.best_params_"
      ],
      "execution_count": null,
      "outputs": [
        {
          "output_type": "execute_result",
          "data": {
            "text/plain": [
              "{'C': 100.0, 'penalty': 'l2'}"
            ]
          },
          "metadata": {
            "tags": []
          },
          "execution_count": 29
        }
      ]
    },
    {
      "cell_type": "markdown",
      "metadata": {
        "id": "stJIghsZLcRJ"
      },
      "source": [
        "# Logistic Regression Best Model"
      ]
    },
    {
      "cell_type": "markdown",
      "metadata": {
        "id": "I2sLH9tzs53x"
      },
      "source": [
        "Parameters tuned: \n",
        "\n",
        "1) C is the inverse of regularization strength. Like in support vector machines, smaller values specify stronger regularization.\n",
        "\n",
        "2) penalty are {‘l1’, ‘l2’, ‘elasticnet’, ‘none’}\n",
        "Used to specify the norm used in the penalization. They are used for regularization and help the machine learning model to reduce the overfitting."
      ]
    },
    {
      "cell_type": "code",
      "metadata": {
        "id": "16t0SvE7LMK3"
      },
      "source": [
        "# best model\n",
        "lr_best = LogisticRegression(penalty='l2',C=100)\n",
        "lr_best.fit(x_train_std, y_train)\n",
        "pred = lr_best.predict(x_val_std)"
      ],
      "execution_count": 10,
      "outputs": []
    },
    {
      "cell_type": "code",
      "metadata": {
        "colab": {
          "base_uri": "https://localhost:8080/"
        },
        "id": "3K_oOfS5Lvyp",
        "outputId": "ce66d961-f6bf-4bf6-92c0-877de90fbda9"
      },
      "source": [
        "cfm = confusion_matrix(y_val, pred)\n",
        "print(cfm)\n",
        "print('The accuracy of the model is: ',accuracy_score(pred, y_val))\n",
        "print(classification_report(pred, y_val))"
      ],
      "execution_count": 11,
      "outputs": [
        {
          "output_type": "stream",
          "text": [
            "[[4801 1374]\n",
            " [1942 4133]]\n",
            "The accuracy of the model is:  0.7293061224489796\n",
            "              precision    recall  f1-score   support\n",
            "\n",
            "           0       0.78      0.71      0.74      6743\n",
            "           1       0.68      0.75      0.71      5507\n",
            "\n",
            "    accuracy                           0.73     12250\n",
            "   macro avg       0.73      0.73      0.73     12250\n",
            "weighted avg       0.73      0.73      0.73     12250\n",
            "\n"
          ],
          "name": "stdout"
        }
      ]
    },
    {
      "cell_type": "code",
      "metadata": {
        "colab": {
          "base_uri": "https://localhost:8080/"
        },
        "id": "41U0250WL4ty",
        "outputId": "62c3ceaf-bcaa-420a-90b4-0f25d2505211"
      },
      "source": [
        "lr_best_pred = lr_best.predict(x_val_std)\n",
        "print(f\"Accuracy: {round(metrics.accuracy_score(y_val, lr_best_pred)*100, 2)}%\")"
      ],
      "execution_count": 12,
      "outputs": [
        {
          "output_type": "stream",
          "text": [
            "Accuracy: 72.93%\n"
          ],
          "name": "stdout"
        }
      ]
    },
    {
      "cell_type": "markdown",
      "metadata": {
        "id": "dq6I9Xqrt1rU"
      },
      "source": [
        "The below cell shows the ROC AUC curve for the above machine learning model"
      ]
    },
    {
      "cell_type": "code",
      "metadata": {
        "colab": {
          "base_uri": "https://localhost:8080/",
          "height": 515
        },
        "id": "353jAvjIn39E",
        "outputId": "ce81acf2-215d-40ff-955e-f8c5ba349324"
      },
      "source": [
        "#AUC ROC curve\n",
        "prob = lr_best.predict_proba(x_val_std)\n",
        "prob = prob[:, 1]\n",
        "\n",
        "auc = roc_auc_score(y_val, prob)\n",
        "print('ROC AUC=%.3f' % (auc))\n",
        "fpr, tpr, _ = roc_curve(y_val, prob)\n",
        "\n",
        "\n",
        "plt.figure(figsize=(16,8))\n",
        "plt.plot(fpr, tpr, marker='.', label='Logistic Regression')\n",
        "plt.plot([0, 1], [0, 1],'r--')\n",
        "# axis labels\n",
        "plt.xlabel('False Positive Rate')\n",
        "plt.ylabel('True Positive Rate')\n",
        "# show the legend\n",
        "plt.legend()\n",
        "# show the plot\n",
        "plt.show()"
      ],
      "execution_count": null,
      "outputs": [
        {
          "output_type": "stream",
          "text": [
            "ROC AUC=0.789\n"
          ],
          "name": "stdout"
        },
        {
          "output_type": "display_data",
          "data": {
            "image/png": "[encoded data removed]",
            "text/plain": [
              "<Figure size 1152x576 with 1 Axes>"
            ]
          },
          "metadata": {
            "tags": [],
            "needs_background": "light"
          }
        }
      ]
    },
    {
      "cell_type": "markdown",
      "metadata": {
        "id": "YFcbKP3rNlaa"
      },
      "source": [
        "# Linear SVM"
      ]
    },
    {
      "cell_type": "markdown",
      "metadata": {
        "id": "TxJsK-OpuJ0e"
      },
      "source": [
        "Parameter Tuned:\n",
        "\n",
        "1) C is the inverse of regularization strength. The smaller values specify stronger regularization.\n",
        "\n",
        "2) penalty are {‘l1’, ‘l2’, ‘elasticnet’, ‘none’} Used to specify the norm used in the penalization. They are used for regularization and help the machine learning model to reduce the overfitting."
      ]
    },
    {
      "cell_type": "code",
      "metadata": {
        "colab": {
          "base_uri": "https://localhost:8080/"
        },
        "id": "25WrrY3HMEss",
        "outputId": "c2fbdc90-417d-477c-b2e0-2ae324f9051e"
      },
      "source": [
        "#Best Linear Support Vector Classifier\n",
        "\n",
        "lin_clf = svm.LinearSVC()\n",
        "\n",
        "param_grid = {'C':[0.25,0.5,0.75,1],'penalty':['l2']}\n",
        "\n",
        "svm_grid_search = GridSearchCV(lin_clf,param_grid,cv=3, n_jobs=-1, verbose=2)\n",
        "svm_grid_search.fit(x_train_std,y_train)"
      ],
      "execution_count": null,
      "outputs": [
        {
          "output_type": "stream",
          "text": [
            "Fitting 3 folds for each of 4 candidates, totalling 12 fits\n"
          ],
          "name": "stdout"
        },
        {
          "output_type": "stream",
          "text": [
            "[Parallel(n_jobs=-1)]: Using backend LokyBackend with 2 concurrent workers.\n",
            "[Parallel(n_jobs=-1)]: Done  12 out of  12 | elapsed:    6.1s finished\n"
          ],
          "name": "stderr"
        },
        {
          "output_type": "execute_result",
          "data": {
            "text/plain": [
              "GridSearchCV(cv=3, error_score=nan,\n",
              "             estimator=LinearSVC(C=1.0, class_weight=None, dual=True,\n",
              "                                 fit_intercept=True, intercept_scaling=1,\n",
              "                                 loss='squared_hinge', max_iter=1000,\n",
              "                                 multi_class='ovr', penalty='l2',\n",
              "                                 random_state=None, tol=0.0001, verbose=0),\n",
              "             iid='deprecated', n_jobs=-1,\n",
              "             param_grid={'C': [0.25, 0.5, 0.75, 1], 'penalty': ['l2']},\n",
              "             pre_dispatch='2*n_jobs', refit=True, return_train_score=False,\n",
              "             scoring=None, verbose=2)"
            ]
          },
          "metadata": {
            "tags": []
          },
          "execution_count": 41
        }
      ]
    },
    {
      "cell_type": "code",
      "metadata": {
        "colab": {
          "base_uri": "https://localhost:8080/"
        },
        "id": "89XbePDsN0wm",
        "outputId": "9267cb1d-761c-43f6-8ffb-522b6d0e75b4"
      },
      "source": [
        "print(svm_grid_search.best_params_)  #getting the best parameters"
      ],
      "execution_count": null,
      "outputs": [
        {
          "output_type": "stream",
          "text": [
            "{'C': 0.25, 'penalty': 'l2'}\n"
          ],
          "name": "stdout"
        }
      ]
    },
    {
      "cell_type": "code",
      "metadata": {
        "colab": {
          "base_uri": "https://localhost:8080/"
        },
        "id": "7v_DdFxlOFPh",
        "outputId": "35c294ea-472b-4e72-b655-10a832b22176"
      },
      "source": [
        "#Linear SVC best model\n",
        "lin_clf_best = svm.LinearSVC(C=0.25,penalty='l2')\n",
        "lin_clf_best = lin_clf_best.fit(x_train_std,y_train)\n",
        "\n",
        "y_pred = lin_clf_best.predict(x_val_std)\n",
        "print(f\"Accuracy: {round(metrics.accuracy_score(y_val_std, y_pred)*100, 2)}%\")"
      ],
      "execution_count": 13,
      "outputs": [
        {
          "output_type": "stream",
          "text": [
            "Accuracy: 72.96%\n"
          ],
          "name": "stdout"
        }
      ]
    },
    {
      "cell_type": "code",
      "metadata": {
        "colab": {
          "base_uri": "https://localhost:8080/"
        },
        "id": "1X_8T7QpOcEB",
        "outputId": "4c9a85b4-6182-4ef6-ce62-6ae50e6ca2a3"
      },
      "source": [
        "#confusion matrix to see evaluation metrics\n",
        "cfm = confusion_matrix(y_val_std, y_pred)\n",
        "print(cfm)\n",
        "print('The accuracy of the model is: ',accuracy_score(y_pred, y_val_std))\n",
        "print(classification_report(y_pred, y_val_std))"
      ],
      "execution_count": null,
      "outputs": [
        {
          "output_type": "stream",
          "text": [
            "[[4844 1331]\n",
            " [1981 4094]]\n",
            "The accuracy of the model is:  0.7296326530612245\n",
            "              precision    recall  f1-score   support\n",
            "\n",
            "           0       0.78      0.71      0.75      6825\n",
            "           1       0.67      0.75      0.71      5425\n",
            "\n",
            "    accuracy                           0.73     12250\n",
            "   macro avg       0.73      0.73      0.73     12250\n",
            "weighted avg       0.74      0.73      0.73     12250\n",
            "\n"
          ],
          "name": "stdout"
        }
      ]
    },
    {
      "cell_type": "markdown",
      "metadata": {
        "id": "ycRhCAzUPOZE"
      },
      "source": [
        "# Deep Learning Models Implementation"
      ]
    },
    {
      "cell_type": "code",
      "metadata": {
        "id": "K4-fcLZRby_p"
      },
      "source": [
        "#create a timehistory class to get a time for building a network\n",
        "class TimeHistory(keras.callbacks.Callback):\n",
        "    def on_train_begin(self, logs={}):\n",
        "        self.times = []\n",
        "\n",
        "    def on_epoch_begin(self, batch, logs={}):\n",
        "        self.epoch_time_start = time.time()\n",
        "\n",
        "    def on_epoch_end(self, batch, logs={}):\n",
        "        self.times.append(time.time() - self.epoch_time_start)"
      ],
      "execution_count": 15,
      "outputs": []
    },
    {
      "cell_type": "code",
      "metadata": {
        "colab": {
          "base_uri": "https://localhost:8080/"
        },
        "id": "SJvfv6kfSvL8",
        "outputId": "d382dd87-8227-4b22-cc75-57ec834fda03"
      },
      "source": [
        "x_train_std.shape[1]"
      ],
      "execution_count": 16,
      "outputs": [
        {
          "output_type": "execute_result",
          "data": {
            "text/plain": [
              "16"
            ]
          },
          "metadata": {
            "tags": []
          },
          "execution_count": 16
        }
      ]
    },
    {
      "cell_type": "markdown",
      "metadata": {
        "id": "0dOFlQ43uj35"
      },
      "source": [
        "Parameters that can be tuned in ANN0, ANN1, ANN2 are:\n",
        "\n",
        "1)Neurons: We can tune the number of neurons based on the problem statement. \n",
        "\n",
        "2)Hidden Layers: We can change the number of layers in the neural network. This will increase the computation but there's a possibility that it can learn more hidden patterns in the data\n",
        "\n",
        "3)loss function: This hyperparameter is one which the neural network tries to reduce and eventually reduce the error rate of the model\n",
        "\n",
        "4)optimizer: The optimizer is responsible for achieving the local/global minima and helps in the overall performance of the neural networks \n",
        "\n",
        "5)metrics: This is the evaluation metric which we want to consider for the evaluation of the model. For example: accuracy\n",
        "\n",
        "6)Activation function: The activation functions help the network use the important information and suppress the irrelevant data points. Example: sigmoid, relu, softmax etc "
      ]
    },
    {
      "cell_type": "markdown",
      "metadata": {
        "id": "_7ScwpMXo97b"
      },
      "source": [
        "# ANN0"
      ]
    },
    {
      "cell_type": "markdown",
      "metadata": {
        "id": "10PGzZV55_zG"
      },
      "source": [
        "Base Model"
      ]
    },
    {
      "cell_type": "code",
      "metadata": {
        "colab": {
          "base_uri": "https://localhost:8080/"
        },
        "id": "6yqX7ESTOsiQ",
        "outputId": "0167bc8d-eacb-4f6f-b53a-9fb6a2743462"
      },
      "source": [
        "#create a single layer perceptron  network with sigmoid activation function ANN0\n",
        "%%time\n",
        "\n",
        "time_callback = TimeHistory()\n",
        "\n",
        "model_slp = Sequential()\n",
        "model_slp.add(Dense(1, input_dim = 16, activation = 'sigmoid'))\n",
        "model_slp.compile(loss='mean_squared_error', optimizer='sgd', metrics='accuracy')\n",
        "\n",
        "history = History()\n",
        "model_slp.fit(x_train_std, y_train, epochs=50, verbose=0, callbacks=[history, time_callback],validation_data=(x_val_std,y_val))\n",
        "print(model_slp.summary())"
      ],
      "execution_count": 17,
      "outputs": [
        {
          "output_type": "stream",
          "text": [
            "Model: \"sequential\"\n",
            "_________________________________________________________________\n",
            "Layer (type)                 Output Shape              Param #   \n",
            "=================================================================\n",
            "dense (Dense)                (None, 1)                 17        \n",
            "=================================================================\n",
            "Total params: 17\n",
            "Trainable params: 17\n",
            "Non-trainable params: 0\n",
            "_________________________________________________________________\n",
            "None\n",
            "CPU times: user 55.2 s, sys: 6.29 s, total: 1min 1s\n",
            "Wall time: 47.3 s\n"
          ],
          "name": "stdout"
        }
      ]
    },
    {
      "cell_type": "code",
      "metadata": {
        "colab": {
          "base_uri": "https://localhost:8080/",
          "height": 295
        },
        "id": "q3h3ZWSPTqLe",
        "outputId": "73e182dd-089d-4c4b-9eef-dc0393165904"
      },
      "source": [
        "#collect and plot mse of the training and the vaidation set\n",
        "\n",
        "train_mse = history.history.get('loss')\n",
        "val_mse = history.history.get('val_loss')\n",
        "time_ann0 = list(time_callback.times)\n",
        "\n",
        "#plot the Loss scores of the training set and the validation set with change in weight\n",
        "\n",
        "plt.plot(train_mse)\n",
        "plt.plot(val_mse)\n",
        "plt.xlabel('Number of epochs')\n",
        "plt.ylabel('Mean_Squarred_Error')\n",
        "plt.title('Change in MSE with epoch')\n",
        "plt.legend(['train', 'val'], loc='upper left')\n",
        "plt.show()\n",
        "\n"
      ],
      "execution_count": null,
      "outputs": [
        {
          "output_type": "display_data",
          "data": {
            "image/png": "[encoded data removed]",
            "text/plain": [
              "<Figure size 432x288 with 1 Axes>"
            ]
          },
          "metadata": {
            "tags": [],
            "needs_background": "light"
          }
        }
      ]
    },
    {
      "cell_type": "code",
      "metadata": {
        "colab": {
          "base_uri": "https://localhost:8080/"
        },
        "id": "kZEsdhyOT8ov",
        "outputId": "f580551c-a596-4e6c-c8fa-fd015216a624"
      },
      "source": [
        "acc_score = history.history.get('accuracy')\n",
        "print(acc_score[-1])"
      ],
      "execution_count": null,
      "outputs": [
        {
          "output_type": "stream",
          "text": [
            "0.729469358921051\n"
          ],
          "name": "stdout"
        }
      ]
    },
    {
      "cell_type": "code",
      "metadata": {
        "colab": {
          "base_uri": "https://localhost:8080/",
          "height": 295
        },
        "id": "wxnZYZR6VDhQ",
        "outputId": "887db63f-affc-4f92-cee2-24297324df82"
      },
      "source": [
        "#plot the accuracy per epoch of the single layer perceptron\n",
        "\n",
        "#plot the Loss scores of the training set and the validation set with change in weight\n",
        "\n",
        "plt.plot(acc_score)\n",
        "plt.xlabel('Number of epochs')\n",
        "plt.ylabel('Accuracy Score')\n",
        "plt.title('Change in accuracy with epoch')\n",
        "plt.legend(['accuracy'], loc='upper left')\n",
        "plt.show()\n"
      ],
      "execution_count": null,
      "outputs": [
        {
          "output_type": "display_data",
          "data": {
            "image/png": "[encoded data removed]",
            "text/plain": [
              "<Figure size 432x288 with 1 Axes>"
            ]
          },
          "metadata": {
            "tags": [],
            "needs_background": "light"
          }
        }
      ]
    },
    {
      "cell_type": "code",
      "metadata": {
        "colab": {
          "base_uri": "https://localhost:8080/",
          "height": 295
        },
        "id": "fCNCA2K7qgLn",
        "outputId": "22e7d442-a31b-4b4d-d583-056864509952"
      },
      "source": [
        "#Print Area Under Curve\n",
        "\n",
        "predictions_NN_prob = model_slp.predict(x_val_std)\n",
        "predictions_NN_prob = predictions_NN_prob[:,0]\n",
        "\n",
        "false_positive_rate, recall, thresholds = roc_curve(y_val, predictions_NN_prob)\n",
        "roc_auc = auc(false_positive_rate, recall)\n",
        "plt.figure()\n",
        "plt.title('Receiver Operating Characteristic (ROC)')\n",
        "plt.plot(false_positive_rate, recall, 'b', label = 'AUC = %0.3f' %roc_auc)\n",
        "plt.legend(loc='lower right')\n",
        "plt.plot([0,1], [0,1], 'r--')\n",
        "plt.xlim([0.0,1.0])\n",
        "plt.ylim([0.0,1.0])\n",
        "plt.ylabel('True Positive Rate')\n",
        "plt.xlabel('False Positive Rate')\n",
        "plt.show()"
      ],
      "execution_count": null,
      "outputs": [
        {
          "output_type": "display_data",
          "data": {
            "image/png": "[encoded data removed]",
            "text/plain": [
              "<Figure size 432x288 with 1 Axes>"
            ]
          },
          "metadata": {
            "tags": [],
            "needs_background": "light"
          }
        }
      ]
    },
    {
      "cell_type": "markdown",
      "metadata": {
        "id": "S-J9kKT8W__n"
      },
      "source": [
        "The below cell shows the comparison of Logistic regression, Linear SVM and single layer perceptron."
      ]
    },
    {
      "cell_type": "code",
      "metadata": {
        "colab": {
          "base_uri": "https://localhost:8080/",
          "height": 142
        },
        "id": "DKRd4_N2VaSu",
        "outputId": "05c0ecb6-fd4c-4ada-e57d-e0239f1cf28a"
      },
      "source": [
        "\n",
        "data_1 = [{'Model':['Logistic Regression'],\n",
        "        'Parameters' :['C: 100.0, penalty: l2'],                               \n",
        "        'Accuracy(%)':[72.93],\n",
        "}\n",
        ",\n",
        "{'Model':['Linear SVM'],\n",
        "        'Parameters' :['C: 0.25, penalty: l2'],                                          \n",
        "        'Accuracy(%)':[72.96],\n",
        "}\n",
        ",\n",
        "{'Model':['Single Layer Perceptron'],\n",
        "        'Parameters' :['loss=mean_squared_error, optimizer=sgd, metrics=accuracy, epochs=50,activation = sigmoid'],                                          \n",
        "        'Accuracy(%)':[72.95],\n",
        "}\n",
        "\n",
        "] \n",
        "\n",
        "data_1 = pd.DataFrame(data= data_1)\n",
        "data_1"
      ],
      "execution_count": null,
      "outputs": [
        {
          "output_type": "execute_result",
          "data": {
            "text/html": [
              "<div>\n",
              "<style scoped>\n",
              "    .dataframe tbody tr th:only-of-type {\n",
              "        vertical-align: middle;\n",
              "    }\n",
              "\n",
              "    .dataframe tbody tr th {\n",
              "        vertical-align: top;\n",
              "    }\n",
              "\n",
              "    .dataframe thead th {\n",
              "        text-align: right;\n",
              "    }\n",
              "</style>\n",
              "<table border=\"1\" class=\"dataframe\">\n",
              "  <thead>\n",
              "    <tr style=\"text-align: right;\">\n",
              "      <th></th>\n",
              "      <th>Model</th>\n",
              "      <th>Parameters</th>\n",
              "      <th>Accuracy(%)</th>\n",
              "    </tr>\n",
              "  </thead>\n",
              "  <tbody>\n",
              "    <tr>\n",
              "      <th>0</th>\n",
              "      <td>[Logistic Regression]</td>\n",
              "      <td>[C: 100.0, penalty: l2]</td>\n",
              "      <td>[72.93]</td>\n",
              "    </tr>\n",
              "    <tr>\n",
              "      <th>1</th>\n",
              "      <td>[Linear SVM]</td>\n",
              "      <td>[C: 0.25, penalty: l2]</td>\n",
              "      <td>[72.96]</td>\n",
              "    </tr>\n",
              "    <tr>\n",
              "      <th>2</th>\n",
              "      <td>[Single Layer Perceptron]</td>\n",
              "      <td>[loss=mean_squared_error, optimizer=sgd, metri...</td>\n",
              "      <td>[72.95]</td>\n",
              "    </tr>\n",
              "  </tbody>\n",
              "</table>\n",
              "</div>"
            ],
            "text/plain": [
              "                       Model  ... Accuracy(%)\n",
              "0      [Logistic Regression]  ...     [72.93]\n",
              "1               [Linear SVM]  ...     [72.96]\n",
              "2  [Single Layer Perceptron]  ...     [72.95]\n",
              "\n",
              "[3 rows x 3 columns]"
            ]
          },
          "metadata": {
            "tags": []
          },
          "execution_count": 75
        }
      ]
    },
    {
      "cell_type": "markdown",
      "metadata": {
        "id": "kM79z4gDw2qB"
      },
      "source": [
        "Based on the above results we can clearly see that Logistic regression, linear SVM, Single Layer Perceptron perform very similar to each other.\n",
        "\n",
        "The logistic regression comes from generalized linear regression. The Support Vector Machines algorithm is much more geometrically motivated. Instead of assuming a probabilistic model, we're trying to find a particular optimal separating hyperplane, where we define \"optimality\" in the context of the support vectors. A single layer perceptron (SLP) is a feed-forward network based on a threshold transfer function. SLP is the simplest type of artificial neural networks and can only classify linearly separable cases with a binary target (1 , 0). While a single layer perceptron can only learn linear functions, a multi layer perceptron can also learn non – linear functions\n",
        "\n"
      ]
    },
    {
      "cell_type": "markdown",
      "metadata": {
        "id": "pokHLincaPsc"
      },
      "source": [
        "# ANN1 (Neural Network with one Hidden Layer)"
      ]
    },
    {
      "cell_type": "code",
      "metadata": {
        "colab": {
          "base_uri": "https://localhost:8080/",
          "height": 858
        },
        "id": "pR4C0lteWv-s",
        "outputId": "dd19a261-ca40-47f0-dd26-debb03c3c881"
      },
      "source": [
        "#create a multi-layer perceptron  network with sigmoid activation function ANN1 (d-d-1)\n",
        "%%time\n",
        "\n",
        "model_ann1 = Sequential()\n",
        "model_ann1.add(Dense(16, input_dim = 16, activation = 'relu'))\n",
        "model_ann1.add(Dense(1, activation = 'sigmoid'))\n",
        "\n",
        "model_ann1.compile(loss='mean_squared_error', optimizer='sgd', metrics='accuracy')\n",
        "\n",
        "history = History()\n",
        "model_ann1.fit(x_train_std, y_train, epochs=50, verbose=0, callbacks=[history, time_callback],validation_data=(x_val_std,y_val))\n",
        "print(model_ann1.summary())\n",
        "\n",
        "#collect and plot mse of the training and the vaidation set\n",
        "\n",
        "train_mse = history.history.get('loss')\n",
        "val_mse = history.history.get('val_loss')\n",
        "time_ann1 = list(time_callback.times)\n",
        "\n",
        "#plot the Loss scores of the training set and the validation set with change in weight\n",
        "\n",
        "plt.plot(train_mse)\n",
        "plt.plot(val_mse)\n",
        "plt.xlabel('Number of epochs')\n",
        "plt.ylabel('Mean_Squarred_Error')\n",
        "plt.title('Change in MSE with epoch')\n",
        "plt.legend(['train', 'val'], loc='upper left')\n",
        "plt.show()\n",
        "\n",
        "#Determine the accuracy of the ANN1 model\n",
        "acc_score = history.history.get('accuracy')\n",
        "print(acc_score[-1])\n",
        "\n",
        "#plot the accuracy per epoch of the multi-layer perceptron\n",
        "\n",
        "#plot the Loss scores of the training set and the validation set with change in weight\n",
        "\n",
        "plt.plot(acc_score)\n",
        "plt.xlabel('Number of epochs')\n",
        "plt.ylabel('Accuracy Score')\n",
        "plt.title('Change in accuracy with epoch')\n",
        "plt.legend(['accuracy'], loc='upper left')\n",
        "plt.show()\n"
      ],
      "execution_count": 21,
      "outputs": [
        {
          "output_type": "stream",
          "text": [
            "Model: \"sequential_2\"\n",
            "_________________________________________________________________\n",
            "Layer (type)                 Output Shape              Param #   \n",
            "=================================================================\n",
            "dense_2 (Dense)              (None, 16)                272       \n",
            "_________________________________________________________________\n",
            "dense_3 (Dense)              (None, 1)                 17        \n",
            "=================================================================\n",
            "Total params: 289\n",
            "Trainable params: 289\n",
            "Non-trainable params: 0\n",
            "_________________________________________________________________\n",
            "None\n"
          ],
          "name": "stdout"
        },
        {
          "output_type": "display_data",
          "data": {
            "image/png": "[encoded data removed]",
            "text/plain": [
              "<Figure size 432x288 with 1 Axes>"
            ]
          },
          "metadata": {
            "tags": [],
            "needs_background": "light"
          }
        },
        {
          "output_type": "stream",
          "text": [
            "0.733251690864563\n"
          ],
          "name": "stdout"
        },
        {
          "output_type": "display_data",
          "data": {
            "image/png": "[encoded data removed]",
            "text/plain": [
              "<Figure size 432x288 with 1 Axes>"
            ]
          },
          "metadata": {
            "tags": [],
            "needs_background": "light"
          }
        },
        {
          "output_type": "stream",
          "text": [
            "CPU times: user 58.4 s, sys: 5.71 s, total: 1min 4s\n",
            "Wall time: 47.5 s\n"
          ],
          "name": "stdout"
        }
      ]
    },
    {
      "cell_type": "code",
      "metadata": {
        "colab": {
          "base_uri": "https://localhost:8080/",
          "height": 295
        },
        "id": "dSBFSH35uJvT",
        "outputId": "2aba1b8b-cecc-4791-d834-4ab0d8810aeb"
      },
      "source": [
        "#Print Area Under Curve\n",
        "\n",
        "predictions_NN1_prob = model_ann1.predict(x_val_std)\n",
        "predictions_NN1_prob = predictions_NN1_prob[:,0]\n",
        "\n",
        "false_positive_rate, recall, thresholds = roc_curve(y_val, predictions_NN1_prob)\n",
        "roc_auc = auc(false_positive_rate, recall)\n",
        "plt.figure()\n",
        "plt.title('Receiver Operating Characteristic (ROC)')\n",
        "plt.plot(false_positive_rate, recall, 'b', label = 'AUC = %0.3f' %roc_auc)\n",
        "plt.legend(loc='lower right')\n",
        "plt.plot([0,1], [0,1], 'r--')\n",
        "plt.xlim([0.0,1.0])\n",
        "plt.ylim([0.0,1.0])\n",
        "plt.ylabel('True Positive Rate')\n",
        "plt.xlabel('False Positive Rate')\n",
        "plt.show()"
      ],
      "execution_count": null,
      "outputs": [
        {
          "output_type": "display_data",
          "data": {
            "image/png": "[encoded data removed]",
            "text/plain": [
              "<Figure size 432x288 with 1 Axes>"
            ]
          },
          "metadata": {
            "tags": [],
            "needs_background": "light"
          }
        }
      ]
    },
    {
      "cell_type": "markdown",
      "metadata": {
        "id": "sfI-J18ideNe"
      },
      "source": [
        "# ANN2 (Neural Network with two Hidden Layer)"
      ]
    },
    {
      "cell_type": "code",
      "metadata": {
        "colab": {
          "base_uri": "https://localhost:8080/",
          "height": 893
        },
        "id": "DrPfOdZfWxdV",
        "outputId": "b6558f93-93eb-4ef5-d244-22a18a35bfec"
      },
      "source": [
        "#create a multi-layer perceptron  network with sigmoid activation function ANN1 \n",
        "%%time\n",
        "\n",
        "model_ann2 = Sequential()\n",
        "model_ann2.add(Dense(16, input_dim = 16, activation = 'relu'))\n",
        "model_ann2.add(Dense(16, activation = 'relu'))\n",
        "model_ann2.add(Dense(1, activation = 'sigmoid'))\n",
        "\n",
        "model_ann2.compile(loss='mean_squared_error', optimizer='sgd', metrics='accuracy')\n",
        "\n",
        "history = History()\n",
        "model_ann2.fit(x_train_std, y_train, epochs=50, verbose=0, callbacks=[history, time_callback],validation_data=(x_val_std,y_val))\n",
        "print(model_ann2.summary())\n",
        "\n",
        "#collect and plot mse of the training and the vaidation set\n",
        "\n",
        "train_mse = history.history.get('loss')\n",
        "val_mse = history.history.get('val_loss')\n",
        "time_ann1 = list(time_callback.times)\n",
        "\n",
        "#plot the Loss scores of the training set and the validation set with change in weight\n",
        "\n",
        "plt.plot(train_mse)\n",
        "plt.plot(val_mse)\n",
        "plt.xlabel('Number of epochs')\n",
        "plt.ylabel('Mean_Squarred_Error')\n",
        "plt.title('Change in MSE with epoch')\n",
        "plt.legend(['train', 'val'], loc='upper left')\n",
        "plt.show()\n",
        "\n",
        "#Determine the accuracy of the ANN1 model\n",
        "acc_score = history.history.get('accuracy')\n",
        "print(acc_score[-1])\n",
        "\n",
        "#plot the accuracy per epoch of the multi-layer perceptron\n",
        "\n",
        "#plot the Loss scores of the training set and the validation set with change in weight\n",
        "\n",
        "plt.plot(acc_score)\n",
        "plt.xlabel('Number of epochs')\n",
        "plt.ylabel('Accuracy Score')\n",
        "plt.title('Change in accuracy with epoch')\n",
        "plt.legend(['accuracy'], loc='upper left')\n",
        "plt.show()\n"
      ],
      "execution_count": 22,
      "outputs": [
        {
          "output_type": "stream",
          "text": [
            "Model: \"sequential_3\"\n",
            "_________________________________________________________________\n",
            "Layer (type)                 Output Shape              Param #   \n",
            "=================================================================\n",
            "dense_4 (Dense)              (None, 16)                272       \n",
            "_________________________________________________________________\n",
            "dense_5 (Dense)              (None, 16)                272       \n",
            "_________________________________________________________________\n",
            "dense_6 (Dense)              (None, 1)                 17        \n",
            "=================================================================\n",
            "Total params: 561\n",
            "Trainable params: 561\n",
            "Non-trainable params: 0\n",
            "_________________________________________________________________\n",
            "None\n"
          ],
          "name": "stdout"
        },
        {
          "output_type": "display_data",
          "data": {
            "image/png": "[encoded data removed]",
            "text/plain": [
              "<Figure size 432x288 with 1 Axes>"
            ]
          },
          "metadata": {
            "tags": [],
            "needs_background": "light"
          }
        },
        {
          "output_type": "stream",
          "text": [
            "0.732952356338501\n"
          ],
          "name": "stdout"
        },
        {
          "output_type": "display_data",
          "data": {
            "image/png": "[encoded data removed]",
            "text/plain": [
              "<Figure size 432x288 with 1 Axes>"
            ]
          },
          "metadata": {
            "tags": [],
            "needs_background": "light"
          }
        },
        {
          "output_type": "stream",
          "text": [
            "CPU times: user 1min, sys: 5.59 s, total: 1min 6s\n",
            "Wall time: 48.8 s\n"
          ],
          "name": "stdout"
        }
      ]
    },
    {
      "cell_type": "code",
      "metadata": {
        "colab": {
          "base_uri": "https://localhost:8080/",
          "height": 295
        },
        "id": "Uq1oyHxMujrF",
        "outputId": "48e04fe1-2358-4322-fbef-95f727a5b218"
      },
      "source": [
        "#Print Area Under Curve\n",
        "\n",
        "predictions_NN2_prob = model_ann2.predict(x_val_std)\n",
        "predictions_NN2_prob = predictions_NN2_prob[:,0]\n",
        "\n",
        "false_positive_rate, recall, thresholds = roc_curve(y_val, predictions_NN2_prob)\n",
        "roc_auc = auc(false_positive_rate, recall)\n",
        "plt.figure()\n",
        "plt.title('Receiver Operating Characteristic (ROC)')\n",
        "plt.plot(false_positive_rate, recall, 'b', label = 'AUC = %0.3f' %roc_auc)\n",
        "plt.legend(loc='lower right')\n",
        "plt.plot([0,1], [0,1], 'r--')\n",
        "plt.xlim([0.0,1.0])\n",
        "plt.ylim([0.0,1.0])\n",
        "plt.ylabel('True Positive Rate')\n",
        "plt.xlabel('False Positive Rate')\n",
        "plt.show()"
      ],
      "execution_count": null,
      "outputs": [
        {
          "output_type": "display_data",
          "data": {
            "image/png": "[encoded data removed]",
            "text/plain": [
              "<Figure size 432x288 with 1 Axes>"
            ]
          },
          "metadata": {
            "tags": [],
            "needs_background": "light"
          }
        }
      ]
    },
    {
      "cell_type": "code",
      "metadata": {
        "colab": {
          "base_uri": "https://localhost:8080/",
          "height": 135
        },
        "id": "oME21Ml5d7a1",
        "outputId": "7ea769ef-d3be-4582-8eb6-bf9901396396"
      },
      "source": [
        "\n",
        "data_2 = [{'Model':['ANN0'],\n",
        "       \n",
        "        'Accuracy(%)':[72.94],\n",
        "}\n",
        ",\n",
        "{'Model':['ANN1'],\n",
        "                                   \n",
        "        'Accuracy(%)':[73.31],\n",
        "}\n",
        ",\n",
        "{'Model':['ANN2'],\n",
        "                                                  \n",
        "        'Accuracy(%)':[73.48],\n",
        "}\n",
        "\n",
        "] \n",
        "\n",
        "data_2 = pd.DataFrame(data= data_2)\n",
        "data_2"
      ],
      "execution_count": null,
      "outputs": [
        {
          "output_type": "execute_result",
          "data": {
            "text/html": [
              "<div>\n",
              "<style scoped>\n",
              "    .dataframe tbody tr th:only-of-type {\n",
              "        vertical-align: middle;\n",
              "    }\n",
              "\n",
              "    .dataframe tbody tr th {\n",
              "        vertical-align: top;\n",
              "    }\n",
              "\n",
              "    .dataframe thead th {\n",
              "        text-align: right;\n",
              "    }\n",
              "</style>\n",
              "<table border=\"1\" class=\"dataframe\">\n",
              "  <thead>\n",
              "    <tr style=\"text-align: right;\">\n",
              "      <th></th>\n",
              "      <th>Model</th>\n",
              "      <th>Accuracy(%)</th>\n",
              "    </tr>\n",
              "  </thead>\n",
              "  <tbody>\n",
              "    <tr>\n",
              "      <th>0</th>\n",
              "      <td>[ANN0]</td>\n",
              "      <td>[72.94]</td>\n",
              "    </tr>\n",
              "    <tr>\n",
              "      <th>1</th>\n",
              "      <td>[ANN1]</td>\n",
              "      <td>[73.31]</td>\n",
              "    </tr>\n",
              "    <tr>\n",
              "      <th>2</th>\n",
              "      <td>[ANN2]</td>\n",
              "      <td>[73.48]</td>\n",
              "    </tr>\n",
              "  </tbody>\n",
              "</table>\n",
              "</div>"
            ],
            "text/plain": [
              "    Model Accuracy(%)\n",
              "0  [ANN0]     [72.94]\n",
              "1  [ANN1]     [73.31]\n",
              "2  [ANN2]     [73.48]"
            ]
          },
          "metadata": {
            "tags": []
          },
          "execution_count": 81
        }
      ]
    },
    {
      "cell_type": "markdown",
      "metadata": {
        "id": "JhnVP81Jflwx"
      },
      "source": [
        "Based on the above accuracy scores we can see that the increase in layers of the neural network is beneficial for extracting relevant information and hidden patterns. This eventually increases the accuracy (evaluation metric). Therefore, now we shall try to optimize the ANN2 model by performing hyperparameter tuning for it. "
      ]
    },
    {
      "cell_type": "markdown",
      "metadata": {
        "id": "XyUpXEKngGBw"
      },
      "source": [
        "# ANN experimentation Model"
      ]
    },
    {
      "cell_type": "markdown",
      "metadata": {
        "id": "jdQ1jVG5uDLy"
      },
      "source": [
        "In the below cell we will try to increase the neurons with 2 layers and check how does it help our evaluation metric. (Experimentation). Due to lack of computational resources of my laptop we could not perform extensive grid search hyperparameter tuning for ANN0, ANN1 and ANN2. Therefore, the below cell shows the experimentation on the ANN model that has been generated on seperately trained models. We get an accuracy of 73.36%. We have considered accuracy because the dataset is balanced."
      ]
    },
    {
      "cell_type": "code",
      "metadata": {
        "colab": {
          "base_uri": "https://localhost:8080/"
        },
        "id": "ck4No6gAfh4v",
        "outputId": "06a0cfab-794e-4267-dd43-f4c5379ce5de"
      },
      "source": [
        "%%time\n",
        "\n",
        "model_ann_best = Sequential()\n",
        "model_ann_best.add(Dense(20, input_dim = 16, activation = 'relu'))\n",
        "model_ann_best.add(Dense(32, activation = 'relu'))\n",
        "model_ann_best.add(Dense(1, activation = 'sigmoid'))\n",
        "\n",
        "model_ann_best.compile(loss='mean_squared_error', optimizer='sgd', metrics='accuracy')\n",
        "\n",
        "history = History()\n",
        "model_ann_best.fit(x_train_std, y_train, epochs=50, verbose=0, callbacks=[history, time_callback],validation_data=(x_val_std,y_val))\n",
        "print(model_ann_best.summary())\n",
        "\n",
        "#collect and plot mse of the training and the vaidation set\n",
        "\n",
        "train_mse = history.history.get('loss')\n",
        "val_mse = history.history.get('val_loss')\n",
        "time_ann_best = list(time_callback.times)\n",
        "\n",
        "#Determine the accuracy of the model\n",
        "acc_score = history.history.get('accuracy')\n",
        "print(acc_score[-1])"
      ],
      "execution_count": null,
      "outputs": [
        {
          "output_type": "stream",
          "text": [
            "Model: \"sequential_14\"\n",
            "_________________________________________________________________\n",
            "Layer (type)                 Output Shape              Param #   \n",
            "=================================================================\n",
            "dense_23 (Dense)             (None, 20)                340       \n",
            "_________________________________________________________________\n",
            "dense_24 (Dense)             (None, 32)                672       \n",
            "_________________________________________________________________\n",
            "dense_25 (Dense)             (None, 1)                 33        \n",
            "=================================================================\n",
            "Total params: 1,045\n",
            "Trainable params: 1,045\n",
            "Non-trainable params: 0\n",
            "_________________________________________________________________\n",
            "None\n",
            "0.7336326241493225\n",
            "CPU times: user 1min 4s, sys: 5.56 s, total: 1min 10s\n",
            "Wall time: 51.8 s\n"
          ],
          "name": "stdout"
        }
      ]
    },
    {
      "cell_type": "markdown",
      "metadata": {
        "id": "Bj2RQzCUAyWj"
      },
      "source": [
        "# Ensemble learning "
      ]
    },
    {
      "cell_type": "markdown",
      "metadata": {
        "id": "QxB6JLvt6-2C"
      },
      "source": [
        "# Decision Tree Implementation"
      ]
    },
    {
      "cell_type": "markdown",
      "metadata": {
        "id": "HDNt25q6z96d"
      },
      "source": [
        "Parameters Tuned:\n",
        "\n",
        "1)min_samples_split: The minimum number of samples required to split an internal node\n",
        "\n",
        "2)max_depth: The maximum depth of the tree. If None, then nodes are expanded until all leaves are pure or until all leaves contain less than min_samples_split samples\n",
        "\n",
        "3)min_samples_leaf: The minimum number of samples required to be at a leaf node\n",
        "\n",
        "4)max_leaf_nodes: Best nodes are defined as relative reduction in impurity. If None then unlimited number of leaf nodes are made. "
      ]
    },
    {
      "cell_type": "code",
      "metadata": {
        "colab": {
          "base_uri": "https://localhost:8080/"
        },
        "id": "D2xWf_MP6-ho",
        "outputId": "e18886cc-f9cb-48bd-ad70-b3cddd6aa9f5"
      },
      "source": [
        "clf = tree.DecisionTreeClassifier()\n",
        "\n",
        "tuned_parameters = {\n",
        "              'min_samples_split': [2, 10, 20, 25,30,35],\n",
        "              'max_depth': [4, 5, 6, 10, 15, 20,30],\n",
        "              'min_samples_leaf': [ 1, 2 , 5, 10],\n",
        "              'max_leaf_nodes': [2, 5, 10, 20,22,25]}\n",
        "dt_grid_search = GridSearchCV(estimator = clf, param_grid = tuned_parameters, cv = 3, n_jobs = -1)\n",
        "\n",
        "dt_grid_search.fit(x_train,y_train)"
      ],
      "execution_count": null,
      "outputs": [
        {
          "output_type": "execute_result",
          "data": {
            "text/plain": [
              "GridSearchCV(cv=3, error_score=nan,\n",
              "             estimator=DecisionTreeClassifier(ccp_alpha=0.0, class_weight=None,\n",
              "                                              criterion='gini', max_depth=None,\n",
              "                                              max_features=None,\n",
              "                                              max_leaf_nodes=None,\n",
              "                                              min_impurity_decrease=0.0,\n",
              "                                              min_impurity_split=None,\n",
              "                                              min_samples_leaf=1,\n",
              "                                              min_samples_split=2,\n",
              "                                              min_weight_fraction_leaf=0.0,\n",
              "                                              presort='deprecated',\n",
              "                                              random_state=None,\n",
              "                                              splitter='best'),\n",
              "             iid='deprecated', n_jobs=-1,\n",
              "             param_grid={'max_depth': [4, 5, 6, 10, 15, 20, 30],\n",
              "                         'max_leaf_nodes': [2, 5, 10, 20, 22, 25],\n",
              "                         'min_samples_leaf': [1, 2, 5, 10],\n",
              "                         'min_samples_split': [2, 10, 20, 25, 30, 35]},\n",
              "             pre_dispatch='2*n_jobs', refit=True, return_train_score=False,\n",
              "             scoring=None, verbose=0)"
            ]
          },
          "metadata": {
            "tags": []
          },
          "execution_count": 86
        }
      ]
    },
    {
      "cell_type": "code",
      "metadata": {
        "colab": {
          "base_uri": "https://localhost:8080/"
        },
        "id": "LlxVJa057nLl",
        "outputId": "0e5159e4-6c89-422e-ddc9-126232ac62ad"
      },
      "source": [
        "dt_grid_search.best_params_"
      ],
      "execution_count": null,
      "outputs": [
        {
          "output_type": "execute_result",
          "data": {
            "text/plain": [
              "{'max_depth': 10,\n",
              " 'max_leaf_nodes': 25,\n",
              " 'min_samples_leaf': 1,\n",
              " 'min_samples_split': 2}"
            ]
          },
          "metadata": {
            "tags": []
          },
          "execution_count": 87
        }
      ]
    },
    {
      "cell_type": "code",
      "metadata": {
        "id": "0FJGSE2a71rD"
      },
      "source": [
        "clf = tree.DecisionTreeClassifier(max_depth= 10,max_leaf_nodes= 25,min_samples_leaf= 1,min_samples_split= 2)\n",
        "clf = clf.fit(x_train, y_train)\n",
        "pred = clf.predict(x_val)"
      ],
      "execution_count": 23,
      "outputs": []
    },
    {
      "cell_type": "code",
      "metadata": {
        "colab": {
          "base_uri": "https://localhost:8080/"
        },
        "id": "N9mbOAYr74ZN",
        "outputId": "c9fa9495-d937-4f98-d8c6-0dca0de454af"
      },
      "source": [
        "cfm = confusion_matrix(y_val, pred.round())\n",
        "print(cfm)\n",
        "print('The accuracy of the model is: ',accuracy_score(pred.round(), y_val))\n",
        "print(classification_report(pred.round(), y_val))"
      ],
      "execution_count": null,
      "outputs": [
        {
          "output_type": "stream",
          "text": [
            "[[4949 1226]\n",
            " [2079 3996]]\n",
            "The accuracy of the model is:  0.730204081632653\n",
            "              precision    recall  f1-score   support\n",
            "\n",
            "           0       0.80      0.70      0.75      7028\n",
            "           1       0.66      0.77      0.71      5222\n",
            "\n",
            "    accuracy                           0.73     12250\n",
            "   macro avg       0.73      0.73      0.73     12250\n",
            "weighted avg       0.74      0.73      0.73     12250\n",
            "\n"
          ],
          "name": "stdout"
        }
      ]
    },
    {
      "cell_type": "code",
      "metadata": {
        "colab": {
          "base_uri": "https://localhost:8080/",
          "height": 420
        },
        "id": "EO7jIkyW7_rW",
        "outputId": "a6ede027-e64a-40e3-8ca9-735f6f6cf159"
      },
      "source": [
        "#Roc curve\n",
        "#source https://scikit-learn.org/stable/modules/generated/sklearn.metrics.auc.html \n",
        "probs = clf.predict_proba(x_val)\n",
        "preds = probs[:,1]\n",
        "print(probs)\n",
        "preds\n",
        "fpr, tpr, threshold = metrics.roc_curve(y_val, pred)\n",
        "\n",
        "roc_auc = metrics.auc(fpr, tpr)\n",
        "\n",
        "\n",
        "plt.title('Receiver Operating Characteristic')\n",
        "plt.plot(fpr, tpr, 'b', label = 'AUC = %0.2f' % roc_auc)\n",
        "plt.legend(loc = 'lower right')\n",
        "plt.plot([0, 1], [0, 1],'r--')\n",
        "plt.ylabel('True Positive Rate  (TPR)')\n",
        "plt.xlabel('False Positive Rate (FPR)')\n",
        "plt.show()"
      ],
      "execution_count": null,
      "outputs": [
        {
          "output_type": "stream",
          "text": [
            "[[0.37881874 0.62118126]\n",
            " [0.13423742 0.86576258]\n",
            " [0.54528986 0.45471014]\n",
            " ...\n",
            " [0.79568106 0.20431894]\n",
            " [0.23382046 0.76617954]\n",
            " [0.18236551 0.81763449]]\n"
          ],
          "name": "stdout"
        },
        {
          "output_type": "display_data",
          "data": {
            "image/png": "[encoded data removed]",
            "text/plain": [
              "<Figure size 432x288 with 1 Axes>"
            ]
          },
          "metadata": {
            "tags": [],
            "needs_background": "light"
          }
        }
      ]
    },
    {
      "cell_type": "markdown",
      "metadata": {
        "id": "LUdsdnMGA6Bq"
      },
      "source": [
        "## Random Forest: Grid Search Implementation"
      ]
    },
    {
      "cell_type": "markdown",
      "metadata": {
        "id": "TMY8RU1n0zTW"
      },
      "source": [
        "Parameters Tuned:\n",
        "\n",
        "1) max_depth: The maximum depth of the tree. If None, then nodes are expanded until all leaves are pure or until all leaves contain less than min_samples_split samples.\n",
        "\n",
        "2) min_samples_leaf: The minimum number of samples required to be at a leaf node.  \n",
        "\n",
        "3) min_samples_split: The minimum number of samples required to split an internal node\n",
        "\n",
        "4) n_estimators: The number of trees in the forest.\n",
        "\n",
        "5) max_features: The number of features to consider when looking for the best split"
      ]
    },
    {
      "cell_type": "code",
      "metadata": {
        "colab": {
          "base_uri": "https://localhost:8080/"
        },
        "id": "AL8CkBBRAxwl",
        "outputId": "6df10636-f8fc-42a4-d61d-a7ef09d24f3f"
      },
      "source": [
        "rf_grid = RandomForestClassifier()\n",
        "\n",
        "grid_search = {'n_estimators':[50,100,150,200,250], \n",
        "              'max_features':[2,3,4,5,6],\n",
        "              'min_samples_split': [5, 10],\n",
        "              'max_depth': [ 15, 20,30],\n",
        "              'min_samples_leaf': [ 5, 10]}\n",
        "\n",
        "#use gridsearch to get the best paramenters\n",
        "rf_grid = GridSearchCV(rf_grid, grid_search, cv=3,n_jobs=-1)\n",
        "\n",
        "#fit model to data\n",
        "rf_grid.fit(x_train, y_train)\n",
        "rf_grid.best_params_"
      ],
      "execution_count": null,
      "outputs": [
        {
          "output_type": "execute_result",
          "data": {
            "text/plain": [
              "{'max_depth': 15,\n",
              " 'max_features': 5,\n",
              " 'min_samples_leaf': 10,\n",
              " 'min_samples_split': 5,\n",
              " 'n_estimators': 250}"
            ]
          },
          "metadata": {
            "tags": []
          },
          "execution_count": 17
        }
      ]
    },
    {
      "cell_type": "code",
      "metadata": {
        "id": "kBroikB7tkS-",
        "colab": {
          "base_uri": "https://localhost:8080/"
        },
        "outputId": "86f9ab78-7a2a-4d23-c2ef-8d0d5dada1e7"
      },
      "source": [
        "rf_clf_best = RandomForestClassifier(n_estimators=250, max_features=5, max_depth=15, min_samples_leaf=10,min_samples_split=5,random_state=16)\n",
        "rf_model=rf_clf_best.fit(x_train,y_train)\n",
        "y_pred = rf_model.predict(x_val)\n",
        "print(f\"Accuracy: {round(metrics.accuracy_score(y_val, y_pred)*100, 2)}%\")"
      ],
      "execution_count": 24,
      "outputs": [
        {
          "output_type": "stream",
          "text": [
            "Accuracy: 73.19%\n"
          ],
          "name": "stdout"
        }
      ]
    },
    {
      "cell_type": "code",
      "metadata": {
        "colab": {
          "base_uri": "https://localhost:8080/"
        },
        "id": "JZxidVzYBKLn",
        "outputId": "0fd1c2ed-3661-46b2-b331-b21c2a71e089"
      },
      "source": [
        "#confusion matrix to see evaluation metrics\n",
        "cfm = confusion_matrix(y_val, y_pred)\n",
        "print(cfm)\n",
        "print('The accuracy of the model is: ',accuracy_score(y_pred, y_val))\n",
        "print(classification_report(y_pred, y_val))"
      ],
      "execution_count": null,
      "outputs": [
        {
          "output_type": "stream",
          "text": [
            "[[4797 1378]\n",
            " [1906 4169]]\n",
            "The accuracy of the model is:  0.7319183673469388\n",
            "              precision    recall  f1-score   support\n",
            "\n",
            "           0       0.78      0.72      0.74      6703\n",
            "           1       0.69      0.75      0.72      5547\n",
            "\n",
            "    accuracy                           0.73     12250\n",
            "   macro avg       0.73      0.73      0.73     12250\n",
            "weighted avg       0.74      0.73      0.73     12250\n",
            "\n"
          ],
          "name": "stdout"
        }
      ]
    },
    {
      "cell_type": "code",
      "metadata": {
        "colab": {
          "base_uri": "https://localhost:8080/",
          "height": 515
        },
        "id": "MgDWAG3wBhQk",
        "outputId": "96c39d9f-b3d8-4c93-84a1-5051a1440e86"
      },
      "source": [
        "#AUC ROC curve\n",
        "prob = rf_clf_best.predict_proba(x_val)\n",
        "prob = prob[:, 1]\n",
        "\n",
        "auc = roc_auc_score(y_val, prob)\n",
        "print('ROC AUC=%.3f' % (auc))\n",
        "fpr, tpr, _ = roc_curve(y_val, prob)\n",
        "\n",
        "\n",
        "plt.figure(figsize=(16,8))\n",
        "plt.plot(fpr, tpr, marker='.', label='Random Forest')\n",
        "plt.plot([0, 1], [0, 1],'r--')\n",
        "# axis labels\n",
        "plt.xlabel('False Positive Rate')\n",
        "plt.ylabel('True Positive Rate')\n",
        "# show the legend\n",
        "plt.legend()\n",
        "# show the plot\n",
        "plt.show()"
      ],
      "execution_count": null,
      "outputs": [
        {
          "output_type": "stream",
          "text": [
            "ROC AUC=0.798\n"
          ],
          "name": "stdout"
        },
        {
          "output_type": "display_data",
          "data": {
            "image/png": "[encoded data removed]",
            "text/plain": [
              "<Figure size 1152x576 with 1 Axes>"
            ]
          },
          "metadata": {
            "tags": [],
            "needs_background": "light"
          }
        }
      ]
    },
    {
      "cell_type": "markdown",
      "metadata": {
        "id": "BArZlMYl1yL9"
      },
      "source": [
        "The below table shows the best features i.e. the important features which were helpful to determine the tagerget variable."
      ]
    },
    {
      "cell_type": "code",
      "metadata": {
        "colab": {
          "base_uri": "https://localhost:8080/",
          "height": 516
        },
        "id": "FQDl8IMmBlOz",
        "outputId": "52fa43e6-e4ca-4edc-a93e-82dd9f904e72"
      },
      "source": [
        "#Feature Importance using random forest\n",
        "\n",
        "feature_imp = pd.DataFrame(rf_clf_best.feature_importances_, index=x_train.columns,\n",
        "columns=['importance']).sort_values('importance', ascending=False)\n",
        "feature_imp"
      ],
      "execution_count": null,
      "outputs": [
        {
          "output_type": "execute_result",
          "data": {
            "text/html": [
              "<div>\n",
              "<style scoped>\n",
              "    .dataframe tbody tr th:only-of-type {\n",
              "        vertical-align: middle;\n",
              "    }\n",
              "\n",
              "    .dataframe tbody tr th {\n",
              "        vertical-align: top;\n",
              "    }\n",
              "\n",
              "    .dataframe thead th {\n",
              "        text-align: right;\n",
              "    }\n",
              "</style>\n",
              "<table border=\"1\" class=\"dataframe\">\n",
              "  <thead>\n",
              "    <tr style=\"text-align: right;\">\n",
              "      <th></th>\n",
              "      <th>importance</th>\n",
              "    </tr>\n",
              "  </thead>\n",
              "  <tbody>\n",
              "    <tr>\n",
              "      <th>High Blood Pressure</th>\n",
              "      <td>0.455726</td>\n",
              "    </tr>\n",
              "    <tr>\n",
              "      <th>Low Blood Pressure</th>\n",
              "      <td>0.196348</td>\n",
              "    </tr>\n",
              "    <tr>\n",
              "      <th>Age</th>\n",
              "      <td>0.115219</td>\n",
              "    </tr>\n",
              "    <tr>\n",
              "      <th>Cholesterol_normal</th>\n",
              "      <td>0.050840</td>\n",
              "    </tr>\n",
              "    <tr>\n",
              "      <th>Weight</th>\n",
              "      <td>0.046181</td>\n",
              "    </tr>\n",
              "    <tr>\n",
              "      <th>Cholesterol_too high</th>\n",
              "      <td>0.039106</td>\n",
              "    </tr>\n",
              "    <tr>\n",
              "      <th>Height</th>\n",
              "      <td>0.032945</td>\n",
              "    </tr>\n",
              "    <tr>\n",
              "      <th>Exercise</th>\n",
              "      <td>0.013198</td>\n",
              "    </tr>\n",
              "    <tr>\n",
              "      <th>Cholesterol_high</th>\n",
              "      <td>0.010212</td>\n",
              "    </tr>\n",
              "    <tr>\n",
              "      <th>Glucose_normal</th>\n",
              "      <td>0.007371</td>\n",
              "    </tr>\n",
              "    <tr>\n",
              "      <th>Gender_male</th>\n",
              "      <td>0.007045</td>\n",
              "    </tr>\n",
              "    <tr>\n",
              "      <th>Gender_female</th>\n",
              "      <td>0.006856</td>\n",
              "    </tr>\n",
              "    <tr>\n",
              "      <th>Smoke</th>\n",
              "      <td>0.006079</td>\n",
              "    </tr>\n",
              "    <tr>\n",
              "      <th>Glucose_too high</th>\n",
              "      <td>0.005395</td>\n",
              "    </tr>\n",
              "    <tr>\n",
              "      <th>Glucose_high</th>\n",
              "      <td>0.004022</td>\n",
              "    </tr>\n",
              "    <tr>\n",
              "      <th>Alcohol</th>\n",
              "      <td>0.003457</td>\n",
              "    </tr>\n",
              "  </tbody>\n",
              "</table>\n",
              "</div>"
            ],
            "text/plain": [
              "                      importance\n",
              "High Blood Pressure     0.455726\n",
              "Low Blood Pressure      0.196348\n",
              "Age                     0.115219\n",
              "Cholesterol_normal      0.050840\n",
              "Weight                  0.046181\n",
              "Cholesterol_too high    0.039106\n",
              "Height                  0.032945\n",
              "Exercise                0.013198\n",
              "Cholesterol_high        0.010212\n",
              "Glucose_normal          0.007371\n",
              "Gender_male             0.007045\n",
              "Gender_female           0.006856\n",
              "Smoke                   0.006079\n",
              "Glucose_too high        0.005395\n",
              "Glucose_high            0.004022\n",
              "Alcohol                 0.003457"
            ]
          },
          "metadata": {
            "tags": []
          },
          "execution_count": 73
        }
      ]
    },
    {
      "cell_type": "markdown",
      "metadata": {
        "id": "iH3GnuutvNLy"
      },
      "source": [
        "## GBM Grid Search Implementaion"
      ]
    },
    {
      "cell_type": "markdown",
      "metadata": {
        "id": "v8HGEhlv2ACo"
      },
      "source": [
        "Parameters Tuned:\n",
        "\n",
        "1) max_depth: The maximum depth of the tree. If None, then nodes are expanded until all leaves are pure or until all leaves contain less than min_samples_split samples.\n",
        "\n",
        "2) min_samples_leaf: The minimum number of samples required to be at a leaf node.\n",
        "\n",
        "3) min_samples_split: The minimum number of samples required to split an internal node\n",
        "\n",
        "4) n_estimators: The number of trees in the forest.\n",
        "\n",
        "5) learnin rate: the learning rate is a tuning parameter that determines the step size at each iteration while moving toward a minimum of a loss function."
      ]
    },
    {
      "cell_type": "code",
      "metadata": {
        "colab": {
          "base_uri": "https://localhost:8080/"
        },
        "id": "nxi87b9rvG-J",
        "outputId": "a2cf5f4a-7de7-4941-dbd2-82974dd38169"
      },
      "source": [
        "#Grid search implementation to get the best parameters\n",
        "gbm_model = gbm()\n",
        "grid_search = {'learning_rate': [0.02, 0.1, 0.001],\n",
        "              'n_estimators': [50,100],\n",
        "               'max_depth': [2,10,30],\n",
        "             'min_samples_split': [5, 10],\n",
        "               'min_samples_leaf': [5, 10]}\n",
        "gbm_model = GridSearchCV(gbm_model, grid_search,n_jobs=-1)\n",
        "gbm_model.fit(x_train, y_train)"
      ],
      "execution_count": null,
      "outputs": [
        {
          "output_type": "execute_result",
          "data": {
            "text/plain": [
              "GridSearchCV(cv=None, error_score=nan,\n",
              "             estimator=GradientBoostingClassifier(ccp_alpha=0.0,\n",
              "                                                  criterion='friedman_mse',\n",
              "                                                  init=None, learning_rate=0.1,\n",
              "                                                  loss='deviance', max_depth=3,\n",
              "                                                  max_features=None,\n",
              "                                                  max_leaf_nodes=None,\n",
              "                                                  min_impurity_decrease=0.0,\n",
              "                                                  min_impurity_split=None,\n",
              "                                                  min_samples_leaf=1,\n",
              "                                                  min_samples_split=2,\n",
              "                                                  min_weight_fraction_leaf=0.0,\n",
              "                                                  n_estimators=100,\n",
              "                                                  n_iter_n...\n",
              "                                                  random_state=None,\n",
              "                                                  subsample=1.0, tol=0.0001,\n",
              "                                                  validation_fraction=0.1,\n",
              "                                                  verbose=0, warm_start=False),\n",
              "             iid='deprecated', n_jobs=-1,\n",
              "             param_grid={'learning_rate': [0.02, 0.1, 0.001],\n",
              "                         'max_depth': [2, 10, 30], 'min_samples_leaf': [5, 10],\n",
              "                         'min_samples_split': [5, 10],\n",
              "                         'n_estimators': [50, 100]},\n",
              "             pre_dispatch='2*n_jobs', refit=True, return_train_score=False,\n",
              "             scoring=None, verbose=0)"
            ]
          },
          "metadata": {
            "tags": []
          },
          "execution_count": 74
        }
      ]
    },
    {
      "cell_type": "code",
      "metadata": {
        "colab": {
          "base_uri": "https://localhost:8080/"
        },
        "id": "XmqxPOtHvbzT",
        "outputId": "21305fb2-0e91-4b61-aecd-d6720c39eebb"
      },
      "source": [
        "gbm_model.best_params_"
      ],
      "execution_count": null,
      "outputs": [
        {
          "output_type": "execute_result",
          "data": {
            "text/plain": [
              "{'learning_rate': 0.1,\n",
              " 'max_depth': 2,\n",
              " 'min_samples_leaf': 5,\n",
              " 'min_samples_split': 5,\n",
              " 'n_estimators': 100}"
            ]
          },
          "metadata": {
            "tags": []
          },
          "execution_count": 76
        }
      ]
    },
    {
      "cell_type": "code",
      "metadata": {
        "colab": {
          "base_uri": "https://localhost:8080/"
        },
        "id": "1krpWpFNvgKy",
        "outputId": "81cf6342-2b65-476f-8e0f-fe556e053949"
      },
      "source": [
        "gbm_best_model = gbm(n_estimators=100, learning_rate=0.1,max_depth= 2, random_state=16,min_samples_leaf=5,min_samples_split=5)\n",
        "gbm_best_model = gbm_best_model.fit(x_train,y_train)\n",
        "y_pred = gbm_best_model.predict(x_val)\n",
        "print(f\"Accuracy: {round(metrics.accuracy_score(y_val, y_pred)*100, 2)}%\")"
      ],
      "execution_count": 25,
      "outputs": [
        {
          "output_type": "stream",
          "text": [
            "Accuracy: 73.58%\n"
          ],
          "name": "stdout"
        }
      ]
    },
    {
      "cell_type": "code",
      "metadata": {
        "colab": {
          "base_uri": "https://localhost:8080/",
          "height": 515
        },
        "id": "bvJHGBr8vkti",
        "outputId": "66f6e46c-a5b9-47fd-fbf9-3cf261117aa7"
      },
      "source": [
        "prob = gbm_best_model.predict_proba(x_val)\n",
        "prob = prob[:, 1]\n",
        "\n",
        "auc = roc_auc_score(y_val, prob)\n",
        "print('ROC AUC=%.3f' % (auc))\n",
        "fpr, tpr, _ = roc_curve(y_val, prob)\n",
        "\n",
        "\n",
        "plt.figure(figsize=(16,8))\n",
        "plt.plot(fpr, tpr, marker='.', label='GBM')\n",
        "plt.plot([0, 1], [0, 1],'r--')\n",
        "# axis labels\n",
        "plt.xlabel('False Positive Rate')\n",
        "plt.ylabel('True Positive Rate')\n",
        "# show the legend\n",
        "plt.legend()\n",
        "# show the plot\n",
        "plt.show()"
      ],
      "execution_count": null,
      "outputs": [
        {
          "output_type": "stream",
          "text": [
            "ROC AUC=0.799\n"
          ],
          "name": "stdout"
        },
        {
          "output_type": "display_data",
          "data": {
            "image/png": "[encoded data removed]",
            "text/plain": [
              "<Figure size 1152x576 with 1 Axes>"
            ]
          },
          "metadata": {
            "tags": [],
            "needs_background": "light"
          }
        }
      ]
    },
    {
      "cell_type": "markdown",
      "metadata": {
        "id": "GC1J_y3N2jdB"
      },
      "source": [
        "The below table shows the most important features for determining the target variable"
      ]
    },
    {
      "cell_type": "code",
      "metadata": {
        "colab": {
          "base_uri": "https://localhost:8080/",
          "height": 516
        },
        "id": "29oA0Wwbvo38",
        "outputId": "8b1ddd53-f3a5-4693-dc4f-963cbb336858"
      },
      "source": [
        "#Feature Importance\n",
        "\n",
        "feature_imp = pd.DataFrame(gbm_best_model.feature_importances_, index=x_train.columns,\n",
        "columns=['importance']).sort_values('importance', ascending=False)\n",
        "feature_imp"
      ],
      "execution_count": null,
      "outputs": [
        {
          "output_type": "execute_result",
          "data": {
            "text/html": [
              "<div>\n",
              "<style scoped>\n",
              "    .dataframe tbody tr th:only-of-type {\n",
              "        vertical-align: middle;\n",
              "    }\n",
              "\n",
              "    .dataframe tbody tr th {\n",
              "        vertical-align: top;\n",
              "    }\n",
              "\n",
              "    .dataframe thead th {\n",
              "        text-align: right;\n",
              "    }\n",
              "</style>\n",
              "<table border=\"1\" class=\"dataframe\">\n",
              "  <thead>\n",
              "    <tr style=\"text-align: right;\">\n",
              "      <th></th>\n",
              "      <th>importance</th>\n",
              "    </tr>\n",
              "  </thead>\n",
              "  <tbody>\n",
              "    <tr>\n",
              "      <th>High Blood Pressure</th>\n",
              "      <td>0.766966</td>\n",
              "    </tr>\n",
              "    <tr>\n",
              "      <th>Age</th>\n",
              "      <td>0.106139</td>\n",
              "    </tr>\n",
              "    <tr>\n",
              "      <th>Cholesterol_too high</th>\n",
              "      <td>0.049619</td>\n",
              "    </tr>\n",
              "    <tr>\n",
              "      <th>Low Blood Pressure</th>\n",
              "      <td>0.028385</td>\n",
              "    </tr>\n",
              "    <tr>\n",
              "      <th>Cholesterol_normal</th>\n",
              "      <td>0.024515</td>\n",
              "    </tr>\n",
              "    <tr>\n",
              "      <th>Weight</th>\n",
              "      <td>0.012948</td>\n",
              "    </tr>\n",
              "    <tr>\n",
              "      <th>Exercise</th>\n",
              "      <td>0.004304</td>\n",
              "    </tr>\n",
              "    <tr>\n",
              "      <th>Height</th>\n",
              "      <td>0.001553</td>\n",
              "    </tr>\n",
              "    <tr>\n",
              "      <th>Smoke</th>\n",
              "      <td>0.001443</td>\n",
              "    </tr>\n",
              "    <tr>\n",
              "      <th>Glucose_too high</th>\n",
              "      <td>0.001347</td>\n",
              "    </tr>\n",
              "    <tr>\n",
              "      <th>Alcohol</th>\n",
              "      <td>0.000874</td>\n",
              "    </tr>\n",
              "    <tr>\n",
              "      <th>Glucose_normal</th>\n",
              "      <td>0.000726</td>\n",
              "    </tr>\n",
              "    <tr>\n",
              "      <th>Gender_male</th>\n",
              "      <td>0.000500</td>\n",
              "    </tr>\n",
              "    <tr>\n",
              "      <th>Glucose_high</th>\n",
              "      <td>0.000375</td>\n",
              "    </tr>\n",
              "    <tr>\n",
              "      <th>Gender_female</th>\n",
              "      <td>0.000307</td>\n",
              "    </tr>\n",
              "    <tr>\n",
              "      <th>Cholesterol_high</th>\n",
              "      <td>0.000000</td>\n",
              "    </tr>\n",
              "  </tbody>\n",
              "</table>\n",
              "</div>"
            ],
            "text/plain": [
              "                      importance\n",
              "High Blood Pressure     0.766966\n",
              "Age                     0.106139\n",
              "Cholesterol_too high    0.049619\n",
              "Low Blood Pressure      0.028385\n",
              "Cholesterol_normal      0.024515\n",
              "Weight                  0.012948\n",
              "Exercise                0.004304\n",
              "Height                  0.001553\n",
              "Smoke                   0.001443\n",
              "Glucose_too high        0.001347\n",
              "Alcohol                 0.000874\n",
              "Glucose_normal          0.000726\n",
              "Gender_male             0.000500\n",
              "Glucose_high            0.000375\n",
              "Gender_female           0.000307\n",
              "Cholesterol_high        0.000000"
            ]
          },
          "metadata": {
            "tags": []
          },
          "execution_count": 79
        }
      ]
    },
    {
      "cell_type": "markdown",
      "metadata": {
        "id": "dkozg1xAwTHD"
      },
      "source": [
        "# Final Model Comparisons"
      ]
    },
    {
      "cell_type": "code",
      "metadata": {
        "colab": {
          "base_uri": "https://localhost:8080/",
          "height": 282
        },
        "id": "9QTfjkZ4wSx9",
        "outputId": "54c75cd4-08cd-4c9b-e1a7-19a13e0002dd"
      },
      "source": [
        "\n",
        "data_final_comparison = [{'Model':['Logistic Regression'],\n",
        "        'Parameters' :['C: 100.0, penalty: l2'],                               \n",
        "        'Accuracy(%)':[72.93],\n",
        "}\n",
        ",\n",
        "{'Model':['Linear SVM'],\n",
        "        'Parameters' :['C: 0.25, penalty: l2'],                                          \n",
        "        'Accuracy(%)':[72.96],\n",
        "}\n",
        ",\n",
        "{'Model':['Single Layer Perceptron (ANN0)'],\n",
        "        'Parameters' :['loss=mean_squared_error, optimizer=sgd, metrics=accuracy, epochs=50,activation = sigmoid'],                                          \n",
        "        'Accuracy(%)':[72.94],\n",
        "}\n",
        ",\n",
        "{'Model':['ANN1'],\n",
        "        'Parameters' :['loss=mean_squared_error, optimizer=sgd, metrics=accuracy, epochs=50,activation = sigmoid'],                                          \n",
        "        'Accuracy(%)':[73.31],\n",
        "}\n",
        ",\n",
        "{'Model':['ANN2'],\n",
        "        'Parameters' :['loss=mean_squared_error, optimizer=sgd, metrics=accuracy, epochs=50,activation = sigmoid'],                                          \n",
        "        'Accuracy(%)':[73.48],\n",
        "},\n",
        "{'Model':['Random Forest'],\n",
        "        'Parameters' :['n_estimators=250, max_features=5, max_depth=15, min_samples_leaf=10,min_samples_split=5'],                                          \n",
        "        'Accuracy(%)':[73.19],\n",
        "}\n",
        ",\n",
        "{'Model':['GBM'],\n",
        "        'Parameters' :['n_estimators=100, learning_rate=0.1,max_depth= 2,min_samples_leaf=5,min_samples_split=5'],                                          \n",
        "        'Accuracy(%)':[73.58],\n",
        "}\n",
        ",\n",
        "{'Model':['Decision Tree'],\n",
        "        'Parameters' :['max_depth= 10,min_samples_leaf=5,min_samples_split=5,max_leaf_nodes=25'],                                          \n",
        "        'Accuracy(%)':[73.02],\n",
        "}\n",
        "\n",
        "\n",
        "] \n",
        "\n",
        "data_final_comparison = pd.DataFrame(data= data_final_comparison)\n",
        "data_final_comparison.sort_values('Accuracy(%)', ascending=False)"
      ],
      "execution_count": 26,
      "outputs": [
        {
          "output_type": "execute_result",
          "data": {
            "text/html": [
              "<div>\n",
              "<style scoped>\n",
              "    .dataframe tbody tr th:only-of-type {\n",
              "        vertical-align: middle;\n",
              "    }\n",
              "\n",
              "    .dataframe tbody tr th {\n",
              "        vertical-align: top;\n",
              "    }\n",
              "\n",
              "    .dataframe thead th {\n",
              "        text-align: right;\n",
              "    }\n",
              "</style>\n",
              "<table border=\"1\" class=\"dataframe\">\n",
              "  <thead>\n",
              "    <tr style=\"text-align: right;\">\n",
              "      <th></th>\n",
              "      <th>Model</th>\n",
              "      <th>Parameters</th>\n",
              "      <th>Accuracy(%)</th>\n",
              "    </tr>\n",
              "  </thead>\n",
              "  <tbody>\n",
              "    <tr>\n",
              "      <th>6</th>\n",
              "      <td>[GBM]</td>\n",
              "      <td>[n_estimators=100, learning_rate=0.1,max_depth...</td>\n",
              "      <td>[73.58]</td>\n",
              "    </tr>\n",
              "    <tr>\n",
              "      <th>4</th>\n",
              "      <td>[ANN2]</td>\n",
              "      <td>[loss=mean_squared_error, optimizer=sgd, metri...</td>\n",
              "      <td>[73.48]</td>\n",
              "    </tr>\n",
              "    <tr>\n",
              "      <th>3</th>\n",
              "      <td>[ANN1]</td>\n",
              "      <td>[loss=mean_squared_error, optimizer=sgd, metri...</td>\n",
              "      <td>[73.31]</td>\n",
              "    </tr>\n",
              "    <tr>\n",
              "      <th>5</th>\n",
              "      <td>[Random Forest]</td>\n",
              "      <td>[n_estimators=250, max_features=5, max_depth=1...</td>\n",
              "      <td>[73.19]</td>\n",
              "    </tr>\n",
              "    <tr>\n",
              "      <th>7</th>\n",
              "      <td>[Decision Tree]</td>\n",
              "      <td>[max_depth= 10,min_samples_leaf=5,min_samples_...</td>\n",
              "      <td>[73.02]</td>\n",
              "    </tr>\n",
              "    <tr>\n",
              "      <th>1</th>\n",
              "      <td>[Linear SVM]</td>\n",
              "      <td>[C: 0.25, penalty: l2]</td>\n",
              "      <td>[72.96]</td>\n",
              "    </tr>\n",
              "    <tr>\n",
              "      <th>2</th>\n",
              "      <td>[Single Layer Perceptron (ANN0)]</td>\n",
              "      <td>[loss=mean_squared_error, optimizer=sgd, metri...</td>\n",
              "      <td>[72.94]</td>\n",
              "    </tr>\n",
              "    <tr>\n",
              "      <th>0</th>\n",
              "      <td>[Logistic Regression]</td>\n",
              "      <td>[C: 100.0, penalty: l2]</td>\n",
              "      <td>[72.93]</td>\n",
              "    </tr>\n",
              "  </tbody>\n",
              "</table>\n",
              "</div>"
            ],
            "text/plain": [
              "                              Model  ... Accuracy(%)\n",
              "6                             [GBM]  ...     [73.58]\n",
              "4                            [ANN2]  ...     [73.48]\n",
              "3                            [ANN1]  ...     [73.31]\n",
              "5                   [Random Forest]  ...     [73.19]\n",
              "7                   [Decision Tree]  ...     [73.02]\n",
              "1                      [Linear SVM]  ...     [72.96]\n",
              "2  [Single Layer Perceptron (ANN0)]  ...     [72.94]\n",
              "0             [Logistic Regression]  ...     [72.93]\n",
              "\n",
              "[8 rows x 3 columns]"
            ]
          },
          "metadata": {
            "tags": []
          },
          "execution_count": 26
        }
      ]
    },
    {
      "cell_type": "markdown",
      "metadata": {
        "id": "19lPVe5F3Ase"
      },
      "source": [
        "**Evaluation Metric**\n",
        "\n",
        "I used K fold cross validation method on whole data for tuning best hyper parameters of models. But then used hold out method with split of 75,25 to build each final models and both were performing similar.\n",
        "\n",
        "I used Accuracy(%) as my performance metric as the classes were balanced.\n"
      ]
    },
    {
      "cell_type": "markdown",
      "metadata": {
        "id": "5gIiNy6B3Tk5"
      },
      "source": [
        "**CONCLUSION**\n",
        "\n",
        "The accuracy for all above mentioned algorithms are from 72.93% to 73.58% and we can say are comparable. Among all ensemble learning techniques, Gradient Boosting machine algorithm have highest accuracy of 73.58% on validation dataset. Even ANN with 2 layers performed pretty good. Also, most of the models have very similar accuracy on training and validation dataset and there is no or negligible overfitting. According to RF, GBM and logistic regression, the most important features in both the algorithms are High Blood Pressure, Age, Weight an Cholesterol__too high which make sense also."
      ]
    },
    {
      "cell_type": "markdown",
      "metadata": {
        "id": "-zTrl7oS_IhX"
      },
      "source": [
        "## CSV file prep of Final Predictions"
      ]
    },
    {
      "cell_type": "code",
      "metadata": {
        "id": "WAp4nTVw6hk8"
      },
      "source": [
        "best_models = ['lr_best','model_slp','model_ann1','model_ann2','clf']"
      ],
      "execution_count": null,
      "outputs": []
    },
    {
      "cell_type": "code",
      "metadata": {
        "id": "p0yvG729_0bQ",
        "colab": {
          "base_uri": "https://localhost:8080/"
        },
        "outputId": "605d7d13-03e4-4834-d2fe-0aa1d1ff9914"
      },
      "source": [
        "#predictions for test data set\n",
        "y_pred_lr = lr_best.predict(test_std)\n",
        "y_pred_ann0 = model_slp.predict_classes(test_std)\n",
        "y_pred_ann1 = model_ann1.predict_classes(test_std)\n",
        "y_pred_ann2 = model_ann2.predict_classes(test_std)\n",
        "y_pred_dt = clf.predict(x_test)"
      ],
      "execution_count": 27,
      "outputs": [
        {
          "output_type": "stream",
          "text": [
            "WARNING:tensorflow:From <ipython-input-27-11842cbb9780>:3: Sequential.predict_classes (from tensorflow.python.keras.engine.sequential) is deprecated and will be removed after 2021-01-01.\n",
            "Instructions for updating:\n",
            "Please use instead:* `np.argmax(model.predict(x), axis=-1)`,   if your model does multi-class classification   (e.g. if it uses a `softmax` last-layer activation).* `(model.predict(x) > 0.5).astype(\"int32\")`,   if your model does binary classification   (e.g. if it uses a `sigmoid` last-layer activation).\n"
          ],
          "name": "stdout"
        }
      ]
    },
    {
      "cell_type": "code",
      "metadata": {
        "id": "6foYvL6JIpsy"
      },
      "source": [
        "dt_test = pd.read_csv('Disease Prediction Testing.csv')\n",
        "dt_test.head(5)\n",
        "ID = dt_test['ID']"
      ],
      "execution_count": 28,
      "outputs": []
    },
    {
      "cell_type": "code",
      "metadata": {
        "id": "xth-hP6GASaL"
      },
      "source": [
        "d = {'id':ID,'DT': y_pred_dt, 'LR' : y_pred_lr, 'ANN0' : y_pred_ann0.reshape(21000,), 'ANN1' : y_pred_ann1.reshape(21000,), 'ANN2' : y_pred_ann2.reshape(21000,)}\n",
        "label_df = pd.DataFrame(d)"
      ],
      "execution_count": 29,
      "outputs": []
    },
    {
      "cell_type": "code",
      "metadata": {
        "colab": {
          "base_uri": "https://localhost:8080/",
          "height": 399
        },
        "id": "xK0Pa7z_ChOp",
        "outputId": "46550d07-cc7d-465c-969f-91a2b46f17f2"
      },
      "source": [
        "label_df"
      ],
      "execution_count": 30,
      "outputs": [
        {
          "output_type": "execute_result",
          "data": {
            "text/html": [
              "<div>\n",
              "<style scoped>\n",
              "    .dataframe tbody tr th:only-of-type {\n",
              "        vertical-align: middle;\n",
              "    }\n",
              "\n",
              "    .dataframe tbody tr th {\n",
              "        vertical-align: top;\n",
              "    }\n",
              "\n",
              "    .dataframe thead th {\n",
              "        text-align: right;\n",
              "    }\n",
              "</style>\n",
              "<table border=\"1\" class=\"dataframe\">\n",
              "  <thead>\n",
              "    <tr style=\"text-align: right;\">\n",
              "      <th></th>\n",
              "      <th>id</th>\n",
              "      <th>DT</th>\n",
              "      <th>LR</th>\n",
              "      <th>ANN0</th>\n",
              "      <th>ANN1</th>\n",
              "      <th>ANN2</th>\n",
              "    </tr>\n",
              "  </thead>\n",
              "  <tbody>\n",
              "    <tr>\n",
              "      <th>0</th>\n",
              "      <td>0</td>\n",
              "      <td>0</td>\n",
              "      <td>0</td>\n",
              "      <td>0</td>\n",
              "      <td>0</td>\n",
              "      <td>0</td>\n",
              "    </tr>\n",
              "    <tr>\n",
              "      <th>1</th>\n",
              "      <td>1</td>\n",
              "      <td>0</td>\n",
              "      <td>0</td>\n",
              "      <td>0</td>\n",
              "      <td>0</td>\n",
              "      <td>0</td>\n",
              "    </tr>\n",
              "    <tr>\n",
              "      <th>2</th>\n",
              "      <td>2</td>\n",
              "      <td>0</td>\n",
              "      <td>1</td>\n",
              "      <td>1</td>\n",
              "      <td>1</td>\n",
              "      <td>1</td>\n",
              "    </tr>\n",
              "    <tr>\n",
              "      <th>3</th>\n",
              "      <td>3</td>\n",
              "      <td>1</td>\n",
              "      <td>1</td>\n",
              "      <td>1</td>\n",
              "      <td>1</td>\n",
              "      <td>1</td>\n",
              "    </tr>\n",
              "    <tr>\n",
              "      <th>4</th>\n",
              "      <td>4</td>\n",
              "      <td>0</td>\n",
              "      <td>0</td>\n",
              "      <td>0</td>\n",
              "      <td>0</td>\n",
              "      <td>0</td>\n",
              "    </tr>\n",
              "    <tr>\n",
              "      <th>...</th>\n",
              "      <td>...</td>\n",
              "      <td>...</td>\n",
              "      <td>...</td>\n",
              "      <td>...</td>\n",
              "      <td>...</td>\n",
              "      <td>...</td>\n",
              "    </tr>\n",
              "    <tr>\n",
              "      <th>20995</th>\n",
              "      <td>20995</td>\n",
              "      <td>1</td>\n",
              "      <td>1</td>\n",
              "      <td>1</td>\n",
              "      <td>1</td>\n",
              "      <td>1</td>\n",
              "    </tr>\n",
              "    <tr>\n",
              "      <th>20996</th>\n",
              "      <td>20996</td>\n",
              "      <td>0</td>\n",
              "      <td>0</td>\n",
              "      <td>0</td>\n",
              "      <td>0</td>\n",
              "      <td>0</td>\n",
              "    </tr>\n",
              "    <tr>\n",
              "      <th>20997</th>\n",
              "      <td>20997</td>\n",
              "      <td>0</td>\n",
              "      <td>0</td>\n",
              "      <td>1</td>\n",
              "      <td>1</td>\n",
              "      <td>0</td>\n",
              "    </tr>\n",
              "    <tr>\n",
              "      <th>20998</th>\n",
              "      <td>20998</td>\n",
              "      <td>1</td>\n",
              "      <td>1</td>\n",
              "      <td>1</td>\n",
              "      <td>1</td>\n",
              "      <td>1</td>\n",
              "    </tr>\n",
              "    <tr>\n",
              "      <th>20999</th>\n",
              "      <td>20999</td>\n",
              "      <td>0</td>\n",
              "      <td>0</td>\n",
              "      <td>0</td>\n",
              "      <td>0</td>\n",
              "      <td>0</td>\n",
              "    </tr>\n",
              "  </tbody>\n",
              "</table>\n",
              "<p>21000 rows × 6 columns</p>\n",
              "</div>"
            ],
            "text/plain": [
              "          id  DT  LR  ANN0  ANN1  ANN2\n",
              "0          0   0   0     0     0     0\n",
              "1          1   0   0     0     0     0\n",
              "2          2   0   1     1     1     1\n",
              "3          3   1   1     1     1     1\n",
              "4          4   0   0     0     0     0\n",
              "...      ...  ..  ..   ...   ...   ...\n",
              "20995  20995   1   1     1     1     1\n",
              "20996  20996   0   0     0     0     0\n",
              "20997  20997   0   0     1     1     0\n",
              "20998  20998   1   1     1     1     1\n",
              "20999  20999   0   0     0     0     0\n",
              "\n",
              "[21000 rows x 6 columns]"
            ]
          },
          "metadata": {
            "tags": []
          },
          "execution_count": 30
        }
      ]
    },
    {
      "cell_type": "code",
      "metadata": {
        "id": "wdThAvvEJbzC"
      },
      "source": [
        "label_df.to_csv('label_df.csv')"
      ],
      "execution_count": 31,
      "outputs": []
    }
  ]
}